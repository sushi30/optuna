{
 "cells": [
  {
   "cell_type": "markdown",
   "metadata": {},
   "source": [
    "# Visualizing Hyper-parameter Relationship in Jupyter Notebook\n",
    "\n",
    "This notebook demonstrates a visualization utility of Optuna.\n",
    "After optimizing the hyperparameter of neural networks, `plot_contour()` plots hyper-parameter relationship of completed trials in a study.\n",
    "\n",
    "**Note:**  If a parameter contains missing values, a trial with missing values is not plotted."
   ]
  },
  {
   "cell_type": "markdown",
   "metadata": {},
   "source": [
    "## Setting up MNIST Dataset"
   ]
  },
  {
   "cell_type": "code",
   "execution_count": 1,
   "metadata": {},
   "outputs": [],
   "source": [
    "import chainer\n",
    "import numpy as np\n",
    "\n",
    "N_TRAIN_EXAMPLES = 3000\n",
    "N_TEST_EXAMPLES = 1000\n",
    "\n",
    "rng = np.random.RandomState(0)\n",
    "train, test = chainer.datasets.get_mnist()\n",
    "train = chainer.datasets.SubDataset(\n",
    "    train, 0, N_TRAIN_EXAMPLES, order=rng.permutation(len(train)))\n",
    "test = chainer.datasets.SubDataset(test, 0, N_TEST_EXAMPLES, order=rng.permutation(len(test)))"
   ]
  },
  {
   "cell_type": "markdown",
   "metadata": {},
   "source": [
    "## Defining Objective Function"
   ]
  },
  {
   "cell_type": "code",
   "execution_count": 2,
   "metadata": {},
   "outputs": [],
   "source": [
    "import chainer.functions as F\n",
    "import chainer.links as L\n",
    "\n",
    "BATCHSIZE = 128\n",
    "EPOCH = 10\n",
    "PRUNER_INTERVAL = 3\n",
    "\n",
    "def create_model(trial):\n",
    "    # We optimize the numbers of layers and their units.\n",
    "    n_layers = trial.suggest_int('n_layers', 1, 3)\n",
    "\n",
    "    layers = []\n",
    "    for i in range(n_layers):\n",
    "        n_units = int(trial.suggest_loguniform('n_units_l{}'.format(i), 32, 256))\n",
    "        layers.append(L.Linear(None, n_units))\n",
    "        layers.append(F.relu)\n",
    "    layers.append(L.Linear(None, 10))\n",
    "\n",
    "    return chainer.Sequential(*layers)\n",
    "\n",
    "\n",
    "def objective(trial):\n",
    "    model = L.Classifier(create_model(trial))\n",
    "    optimizer = chainer.optimizers.Adam()\n",
    "    optimizer.setup(model)\n",
    "\n",
    "    train_iter = chainer.iterators.SerialIterator(train, BATCHSIZE)\n",
    "    test_iter = chainer.iterators.SerialIterator(test, BATCHSIZE, repeat=False, shuffle=False)\n",
    "\n",
    "    # Setup trainer.\n",
    "    updater = chainer.training.StandardUpdater(train_iter, optimizer)\n",
    "    trainer = chainer.training.Trainer(updater, (EPOCH, 'epoch'))\n",
    "\n",
    "    # Add Chainer extension for pruners.\n",
    "    trainer.extend(\n",
    "        optuna.integration.ChainerPruningExtension(trial, 'validation/main/loss',\n",
    "                                                   (PRUNER_INTERVAL, 'epoch')))\n",
    "\n",
    "    trainer.extend(chainer.training.extensions.Evaluator(test_iter, model))\n",
    "    trainer.extend(\n",
    "        chainer.training.extensions.PrintReport([\n",
    "            'epoch', 'main/loss', 'validation/main/loss', 'main/accuracy',\n",
    "            'validation/main/accuracy'\n",
    "        ]))\n",
    "    log_report_extension = chainer.training.extensions.LogReport(log_name=None)\n",
    "    trainer.extend(log_report_extension)\n",
    "\n",
    "    # Run training.\n",
    "    # Please set show_loop_exception_msg False to inhibit messages about TrialPruned exception.\n",
    "    # ChainerPruningExtension raises TrialPruned exception to stop training, and\n",
    "    # trainer shows some messages every time it receive TrialPruned.\n",
    "    trainer.run(show_loop_exception_msg=False)\n",
    "\n",
    "    # Save loss and accuracy to user attributes.\n",
    "    log_last = log_report_extension.log[-1]\n",
    "    for key, value in log_last.items():\n",
    "        trial.set_user_attr(key, value)\n",
    "\n",
    "    return log_report_extension.log[-1]['validation/main/loss']"
   ]
  },
  {
   "cell_type": "markdown",
   "metadata": {},
   "source": [
    "## Running Optimization"
   ]
  },
  {
   "cell_type": "code",
   "execution_count": 3,
   "metadata": {},
   "outputs": [
    {
     "name": "stdout",
     "output_type": "stream",
     "text": [
      "epoch       main/loss   validation/main/loss  main/accuracy  validation/main/accuracy\n",
      "\u001b[J1           1.77157     1.06736               0.509766       0.781701                  \n",
      "\u001b[J2           0.766593    0.514403              0.815897       0.869817                  \n",
      "\u001b[J3           0.449314    0.388877              0.882487       0.889047                  \n",
      "\u001b[J4           0.341216    0.336289              0.911345       0.907602                  \n",
      "\u001b[J5           0.281409    0.298026              0.923828       0.914663                  \n",
      "\u001b[J6           0.24313     0.302383              0.934783       0.907076                  \n",
      "\u001b[J7           0.211282    0.28121               0.945638       0.916842                  \n",
      "\u001b[J8           0.186808    0.274703              0.94803        0.915865                  \n",
      "\u001b[J9           0.162612    0.263513              0.956522       0.917819                  \n",
      "epoch       main/loss   validation/main/loss  main/accuracy  validation/main/accuracy\n",
      "\u001b[J1           1.85139     1.11237               0.481445       0.720553                  \n",
      "\u001b[J2           0.712435    0.47563               0.818954       0.873948                  \n",
      "\u001b[J3           0.414872    0.388305              0.884115       0.87838                   \n",
      "\u001b[J4           0.312805    0.349473              0.913043       0.897386                  \n",
      "\u001b[J5           0.267614    0.320148              0.925456       0.904447                  \n",
      "\u001b[J6           0.231323    0.307366              0.935802       0.904672                  \n",
      "\u001b[J7           0.201528    0.318752              0.944336       0.905198                  \n",
      "\u001b[J8           0.194108    0.297056              0.945992       0.91226                   \n",
      "\u001b[J9           0.165032    0.309845              0.952106       0.903245                  \n",
      "epoch       main/loss   validation/main/loss  main/accuracy  validation/main/accuracy\n",
      "\u001b[J1           1.68907     0.888775              0.499674       0.806716                  \n",
      "\u001b[J2           0.617687    0.406243              0.834579       0.886869                  \n",
      "\u001b[J3           0.358565    0.34594               0.898763       0.890775                  \n",
      "\u001b[J4           0.278238    0.31515               0.923573       0.904147                  \n",
      "\u001b[J5           0.225256    0.311481              0.935547       0.900766                  \n",
      "\u001b[J6           0.183722    0.278792              0.946671       0.908804                  \n",
      "\u001b[J7           0.148988    0.273117              0.958008       0.921499                  \n",
      "\u001b[J8           0.121975    0.278252              0.966033       0.920523                  \n",
      "\u001b[J9           0.105999    0.278032              0.968071       0.920748                  \n",
      "epoch       main/loss   validation/main/loss  main/accuracy  validation/main/accuracy\n",
      "\u001b[J1           1.94982     1.39079               0.413737       0.70921                   \n",
      "\u001b[J2           0.932371    0.565951              0.78125        0.852314                  \n",
      "\u001b[J3           0.482101    0.391529              0.86556        0.872822                  \n",
      "\u001b[J4           0.356076    0.339696              0.898438       0.898663                  \n",
      "\u001b[J5           0.295144    0.315528              0.914388       0.900766                  \n",
      "\u001b[J6           0.252819    0.302021              0.932065       0.903471                  \n",
      "\u001b[J7           0.219372    0.297219              0.938802       0.9064                    \n",
      "\u001b[J8           0.195201    0.282275              0.943954       0.913011                  \n",
      "\u001b[J9           0.172029    0.267821              0.94769        0.917368                  \n",
      "epoch       main/loss   validation/main/loss  main/accuracy  validation/main/accuracy\n",
      "\u001b[J1           1.36255     0.687988              0.677734       0.819186                  \n",
      "\u001b[J2           0.547019    0.427787              0.865489       0.885667                  \n",
      "\u001b[J3           0.379279    0.361309              0.900716       0.897837                  \n",
      "\u001b[J4           0.312916    0.325554              0.920856       0.900992                  \n",
      "\u001b[J5           0.266524    0.308402              0.931315       0.906851                  \n",
      "\u001b[J6           0.235502    0.30597               0.93716        0.913912                  \n",
      "\u001b[J7           0.206584    0.286769              0.945638       0.910757                  \n",
      "\u001b[J8           0.187086    0.2792                0.953465       0.914889                  \n",
      "\u001b[J9           0.160679    0.26981               0.959239       0.91271                   \n",
      "epoch       main/loss   validation/main/loss  main/accuracy  validation/main/accuracy\n",
      "\u001b[J1           1.78836     1.23109               0.522135       0.773362                  \n",
      "\u001b[J2           0.941017    0.676005              0.806386       0.866662                  \n",
      "epoch       main/loss   validation/main/loss  main/accuracy  validation/main/accuracy\n",
      "\u001b[J1           1.74096     1.01728               0.500651       0.799204                  \n",
      "\u001b[J2           0.682698    0.477456              0.837636       0.872596                  \n",
      "\u001b[J3           0.393475    0.36948               0.890625       0.892278                  \n",
      "\u001b[J4           0.300915    0.34271               0.917799       0.898362                  \n",
      "\u001b[J5           0.24868     0.305206              0.932943       0.91564                   \n",
      "\u001b[J6           0.212347    0.297083              0.943274       0.914438                  \n",
      "\u001b[J7           0.191336    0.294882              0.947591       0.911508                  \n",
      "\u001b[J8           0.167267    0.294136              0.955163       0.91857                   \n",
      "epoch       main/loss   validation/main/loss  main/accuracy  validation/main/accuracy\n",
      "\u001b[J1           1.66872     1.04878               0.597005       0.801382                  \n",
      "\u001b[J2           0.799941    0.58959               0.838315       0.866962                  \n",
      "epoch       main/loss   validation/main/loss  main/accuracy  validation/main/accuracy\n",
      "\u001b[J1           1.84005     1.36345               0.489909       0.735051                  \n",
      "\u001b[J2           1.10799     0.833356              0.775136       0.867188                  \n",
      "epoch       main/loss   validation/main/loss  main/accuracy  validation/main/accuracy\n",
      "\u001b[J1           1.76891     1.11117               0.525391       0.781851                  \n",
      "\u001b[J2           0.773561    0.53221               0.825068       0.862079                  \n",
      "epoch       main/loss   validation/main/loss  main/accuracy  validation/main/accuracy\n",
      "\u001b[J1           1.39694     0.648956              0.616536       0.784029                  \n",
      "\u001b[J2           0.486677    0.386184              0.85428        0.877103                  \n",
      "\u001b[J3           0.303859    0.31104               0.910807       0.909029                  \n",
      "\u001b[J4           0.237761    0.299389              0.928668       0.911734                  \n",
      "\u001b[J5           0.184205    0.26968               0.942708       0.926608                  \n",
      "\u001b[J6           0.14295     0.280018              0.957541       0.922927                  \n",
      "\u001b[J7           0.109785    0.250403              0.969076       0.932993                  \n",
      "\u001b[J8           0.0791176   0.269113              0.980639       0.930063                  \n",
      "epoch       main/loss   validation/main/loss  main/accuracy  validation/main/accuracy\n",
      "\u001b[J1           1.55025     0.738166              0.522461       0.848182                  \n",
      "\u001b[J2           0.536734    0.447349              0.848166       0.868615                  \n",
      "\u001b[J3           0.343939    0.332911              0.902344       0.897912                  \n",
      "\u001b[J4           0.273191    0.340379              0.921196       0.908879                  \n",
      "\u001b[J5           0.216196    0.276873              0.937826       0.917593                  \n",
      "\u001b[J6           0.174474    0.274479              0.952106       0.924204                  \n",
      "\u001b[J7           0.147967    0.288519              0.960286       0.917368                  \n",
      "\u001b[J8           0.124104    0.252031              0.964674       0.930288                  \n",
      "\u001b[J9           0.0949132   0.243433              0.977921       0.932016                  \n",
      "epoch       main/loss   validation/main/loss  main/accuracy  validation/main/accuracy\n"
     ]
    },
    {
     "name": "stdout",
     "output_type": "stream",
     "text": [
      "\u001b[J1           1.5649      0.649063              0.595703       0.829627                  \n",
      "\u001b[J2           0.486411    0.380697              0.856658       0.881535                  \n",
      "\u001b[J3           0.332694    0.33267               0.904948       0.900766                  \n",
      "\u001b[J4           0.264645    0.290026              0.924592       0.908353                  \n",
      "\u001b[J5           0.198097    0.283475              0.948568       0.914663                  \n",
      "\u001b[J6           0.169443    0.276528              0.951087       0.915865                  \n",
      "\u001b[J7           0.135681    0.262226              0.960612       0.923227                  \n",
      "\u001b[J8           0.113231    0.271088              0.96841        0.929537                  \n",
      "\u001b[J9           0.081532    0.25621               0.981318       0.930514                  \n",
      "epoch       main/loss   validation/main/loss  main/accuracy  validation/main/accuracy\n",
      "\u001b[J1           1.54892     0.715241              0.569661       0.839093                  \n",
      "\u001b[J2           0.527955    0.465353              0.855299       0.870343                  \n",
      "\u001b[J3           0.338086    0.343944              0.904948       0.894005                  \n",
      "\u001b[J4           0.263787    0.331215              0.922894       0.902719                  \n",
      "\u001b[J5           0.222325    0.307656              0.932943       0.917368                  \n",
      "\u001b[J6           0.177607    0.293951              0.949389       0.915189                  \n",
      "\u001b[J7           0.155144    0.278687              0.957031       0.919096                  \n",
      "\u001b[J8           0.115983    0.275944              0.968071       0.921049                  \n",
      "\u001b[J9           0.0952368   0.265777              0.973166       0.928335                  \n",
      "epoch       main/loss   validation/main/loss  main/accuracy  validation/main/accuracy\n",
      "\u001b[J1           1.71042     0.911464              0.551758       0.811373                  \n",
      "\u001b[J2           0.614617    0.414431              0.842052       0.892503                  \n",
      "\u001b[J3           0.357676    0.337503              0.901367       0.913462                  \n",
      "\u001b[J4           0.281102    0.347815              0.920856       0.89686                   \n",
      "\u001b[J5           0.231436    0.292793              0.936523       0.916617                  \n",
      "\u001b[J6           0.184331    0.284124              0.945652       0.905874                  \n",
      "\u001b[J7           0.150671    0.259504              0.958008       0.924654                  \n",
      "\u001b[J8           0.129638    0.261534              0.961617       0.928335                  \n",
      "\u001b[J9           0.110811    0.261371              0.969429       0.917819                  \n",
      "epoch       main/loss   validation/main/loss  main/accuracy  validation/main/accuracy\n",
      "\u001b[J1           1.51695     0.725583              0.605469       0.838867                  \n",
      "\u001b[J2           0.549835    0.409722              0.861413       0.887169                  \n",
      "\u001b[J3           0.347766    0.324234              0.905924       0.906626                  \n",
      "\u001b[J4           0.274789    0.297397              0.925272       0.91564                   \n",
      "\u001b[J5           0.227038    0.29035               0.937826       0.908579                  \n",
      "\u001b[J6           0.18841     0.273043              0.950747       0.916091                  \n",
      "\u001b[J7           0.154446    0.256677              0.958984       0.922701                  \n",
      "\u001b[J8           0.123259    0.248806              0.96841        0.925631                  \n",
      "\u001b[J9           0.0988061   0.247655              0.977242       0.929988                  \n",
      "epoch       main/loss   validation/main/loss  main/accuracy  validation/main/accuracy\n",
      "\u001b[J1           1.55539     0.822952              0.596029       0.816707                  \n",
      "\u001b[J2           0.591904    0.424222              0.848845       0.879582                  \n",
      "epoch       main/loss   validation/main/loss  main/accuracy  validation/main/accuracy\n",
      "\u001b[J1           1.41072     0.660654              0.661458       0.8596                    \n",
      "\u001b[J2           0.524561    0.405225              0.859035       0.893705                  \n",
      "\u001b[J3           0.346498    0.344574              0.909831       0.902494                  \n",
      "\u001b[J4           0.281038    0.301562              0.924253       0.910006                  \n",
      "\u001b[J5           0.234604    0.28494               0.940755       0.918795                  \n",
      "\u001b[J6           0.193143    0.272379              0.94769        0.923678                  \n",
      "\u001b[J7           0.161373    0.273318              0.962565       0.919321                  \n",
      "\u001b[J8           0.135838    0.245226              0.966712       0.927584                  \n",
      "\u001b[J9           0.113217    0.249089              0.973505       0.924955                  \n",
      "epoch       main/loss   validation/main/loss  main/accuracy  validation/main/accuracy\n",
      "\u001b[J1           1.33038     0.526819              0.679362       0.872521                  \n",
      "\u001b[J2           0.438823    0.364705              0.881114       0.894456                  \n",
      "\u001b[J3           0.298796    0.314392              0.916341       0.902719                  \n",
      "\u001b[J4           0.2509      0.292283              0.927989       0.909781                  \n",
      "\u001b[J5           0.198158    0.290168              0.949544       0.913161                  \n",
      "epoch       main/loss   validation/main/loss  main/accuracy  validation/main/accuracy\n",
      "\u001b[J1           1.66526     0.928337              0.548177       0.833834                  \n",
      "\u001b[J2           0.664697    0.461263              0.846128       0.883939                  \n",
      "epoch       main/loss   validation/main/loss  main/accuracy  validation/main/accuracy\n",
      "\u001b[J1           1.53682     0.846165              0.63151        0.828651                  \n",
      "\u001b[J2           0.660793    0.491303              0.851562       0.878831                  \n",
      "epoch       main/loss   validation/main/loss  main/accuracy  validation/main/accuracy\n",
      "\u001b[J1           1.49639     0.569308              0.595052       0.852013                  \n",
      "\u001b[J2           0.47367     0.399754              0.863791       0.876953                  \n",
      "\u001b[J3           0.316173    0.343179              0.908854       0.898588                  \n",
      "\u001b[J4           0.248398    0.300952              0.927989       0.903921                  \n",
      "\u001b[J5           0.201089    0.298544              0.939128       0.910532                  \n",
      "\u001b[J6           0.152963    0.282572              0.959239       0.906926                  \n",
      "\u001b[J7           0.122908    0.245777              0.966146       0.924955                  \n",
      "\u001b[J8           0.0833875   0.239613              0.978601       0.926908                  \n",
      "\u001b[J9           0.065769    0.242054              0.986073       0.92811                   \n",
      "epoch       main/loss   validation/main/loss  main/accuracy  validation/main/accuracy\n",
      "\u001b[J1           1.47351     0.633098              0.626302       0.82189                   \n",
      "\u001b[J2           0.469978    0.385882              0.86447        0.881611                  \n",
      "\u001b[J3           0.307025    0.304883              0.91276        0.901743                  \n",
      "\u001b[J4           0.244701    0.375659              0.930027       0.886193                  \n",
      "\u001b[J5           0.212945    0.303603              0.936849       0.910006                  \n",
      "epoch       main/loss   validation/main/loss  main/accuracy  validation/main/accuracy\n",
      "\u001b[J1           1.5197      0.634883              0.573568       0.815956                  \n",
      "\u001b[J2           0.52334     0.386345              0.836617       0.889123                  \n",
      "\u001b[J3           0.324854    0.333293              0.906576       0.900992                  \n",
      "\u001b[J4           0.245733    0.29474               0.930707       0.915865                  \n",
      "\u001b[J5           0.203057    0.289686              0.941081       0.917142                  \n",
      "epoch       main/loss   validation/main/loss  main/accuracy  validation/main/accuracy\n",
      "\u001b[J1           1.36708     0.557656              0.645508       0.82527                   \n",
      "\u001b[J2           0.440708    0.368063              0.868207       0.881761                  \n",
      "\u001b[J3           0.300451    0.31553               0.916667       0.905349                  \n",
      "\u001b[J4           0.22108     0.301567              0.938179       0.91226                   \n"
     ]
    },
    {
     "name": "stdout",
     "output_type": "stream",
     "text": [
      "\u001b[J5           0.17197     0.271247              0.951497       0.91902                   \n",
      "epoch       main/loss   validation/main/loss  main/accuracy  validation/main/accuracy\n",
      "\u001b[J1           1.29496     0.489511              0.655599       0.860577                  \n",
      "\u001b[J2           0.403324    0.350153              0.880774       0.896184                  \n",
      "\u001b[J3           0.284569    0.31942               0.920247       0.914964                  \n",
      "\u001b[J4           0.209359    0.309094              0.93716        0.904447                  \n",
      "\u001b[J5           0.167112    0.289071              0.955404       0.913912                  \n",
      "\u001b[J6           0.128041    0.269414              0.960938       0.926382                  \n",
      "\u001b[J7           0.0971749   0.257706              0.97526        0.932016                  \n",
      "\u001b[J8           0.0781927   0.266693              0.980978       0.924204                  \n",
      "epoch       main/loss   validation/main/loss  main/accuracy  validation/main/accuracy\n",
      "\u001b[J1           1.47906     0.676509              0.642578       0.845778                  \n",
      "\u001b[J2           0.515022    0.42297               0.860734       0.878606                  \n",
      "\u001b[J3           0.340547    0.328808              0.905273       0.902945                  \n",
      "\u001b[J4           0.267021    0.316301              0.929688       0.907602                  \n",
      "\u001b[J5           0.226821    0.301166              0.938802       0.913912                  \n",
      "epoch       main/loss   validation/main/loss  main/accuracy  validation/main/accuracy\n",
      "\u001b[J1           1.61712     0.682154              0.566406       0.84668                   \n",
      "\u001b[J2           0.493682    0.393743              0.861073       0.884465                  \n",
      "\u001b[J3           0.332447    0.334176              0.905273       0.888371                  \n",
      "\u001b[J4           0.261438    0.333317              0.924253       0.896635                  \n",
      "\u001b[J5           0.208628    0.271214              0.941081       0.914663                  \n",
      "\u001b[J6           0.161414    0.273064              0.954823       0.91271                   \n",
      "\u001b[J7           0.1317      0.262722              0.964193       0.915415                  \n",
      "\u001b[J8           0.0961685   0.269034              0.975204       0.925406                  \n",
      "\u001b[J9           0.0816653   0.248889              0.980639       0.924654                  \n",
      "epoch       main/loss   validation/main/loss  main/accuracy  validation/main/accuracy\n",
      "\u001b[J1           1.58706     0.777324              0.556315       0.846229                  \n",
      "\u001b[J2           0.567675    0.416696              0.85462        0.885892                  \n",
      "\u001b[J3           0.357869    0.34268               0.898438       0.898588                  \n",
      "\u001b[J4           0.275671    0.315987              0.924592       0.907377                  \n",
      "\u001b[J5           0.237648    0.305573              0.932943       0.916091                  \n",
      "epoch       main/loss   validation/main/loss  main/accuracy  validation/main/accuracy\n",
      "\u001b[J1           1.4653      0.698033              0.628581       0.839168                  \n",
      "\u001b[J2           0.527867    0.395866              0.863111       0.891977                  \n",
      "epoch       main/loss   validation/main/loss  main/accuracy  validation/main/accuracy\n",
      "\u001b[J1           1.81682     1.0848                0.493815       0.762395                  \n",
      "\u001b[J2           0.715585    0.485032              0.820652       0.867638                  \n",
      "epoch       main/loss   validation/main/loss  main/accuracy  validation/main/accuracy\n",
      "\u001b[J1           1.60283     0.723289              0.583333       0.821514                  \n",
      "\u001b[J2           0.521792    0.443697              0.852582       0.864934                  \n",
      "epoch       main/loss   validation/main/loss  main/accuracy  validation/main/accuracy\n",
      "\u001b[J1           1.45807     0.605291              0.608398       0.845478                  \n",
      "\u001b[J2           0.455589    0.363651              0.861073       0.882737                  \n",
      "epoch       main/loss   validation/main/loss  main/accuracy  validation/main/accuracy\n",
      "\u001b[J1           1.53383     0.611916              0.582682       0.83113                   \n",
      "\u001b[J2           0.482905    0.386453              0.856658       0.891001                  \n",
      "\u001b[J3           0.306781    0.333458              0.907878       0.903471                  \n",
      "\u001b[J4           0.24238     0.323259              0.92731        0.912034                  \n",
      "\u001b[J5           0.195741    0.276065              0.939779       0.915189                  \n",
      "epoch       main/loss   validation/main/loss  main/accuracy  validation/main/accuracy\n",
      "\u001b[J1           1.66856     0.789355              0.525391       0.788687                  \n",
      "\u001b[J2           0.573647    0.41853               0.83356        0.872296                  \n",
      "\u001b[J3           0.343837    0.315996              0.900391       0.896184                  \n",
      "\u001b[J4           0.262408    0.307075              0.923573       0.906626                  \n",
      "\u001b[J5           0.227824    0.30838               0.935221       0.905123                  \n",
      "epoch       main/loss   validation/main/loss  main/accuracy  validation/main/accuracy\n",
      "\u001b[J1           1.66462     0.832585              0.534505       0.760517                  \n",
      "\u001b[J2           0.574715    0.393268              0.83288        0.884691                  \n",
      "\u001b[J3           0.339949    0.329092              0.902995       0.904447                  \n",
      "\u001b[J4           0.262865    0.319494              0.926291       0.9064                    \n",
      "\u001b[J5           0.213522    0.261807              0.938477       0.925406                  \n",
      "\u001b[J6           0.152847    0.264001              0.956182       0.916391                  \n",
      "\u001b[J7           0.124827    0.259426              0.965495       0.930514                  \n",
      "\u001b[J8           0.103294    0.238247              0.974524       0.931265                  \n",
      "\u001b[J9           0.0792004   0.248424              0.981658       0.935397                  \n",
      "epoch       main/loss   validation/main/loss  main/accuracy  validation/main/accuracy\n",
      "\u001b[J1           1.67181     0.837439              0.523763       0.797927                  \n",
      "\u001b[J2           0.569717    0.426237              0.838655       0.885517                  \n",
      "epoch       main/loss   validation/main/loss  main/accuracy  validation/main/accuracy\n",
      "\u001b[J1           1.90729     1.22926               0.441081       0.723633                  \n",
      "\u001b[J2           0.844738    0.539394              0.784647       0.849309                  \n",
      "epoch       main/loss   validation/main/loss  main/accuracy  validation/main/accuracy\n",
      "\u001b[J1           1.6907      0.925508              0.531576       0.756535                  \n",
      "\u001b[J2           0.654966    0.460926              0.82269        0.87177                   \n",
      "epoch       main/loss   validation/main/loss  main/accuracy  validation/main/accuracy\n",
      "\u001b[J1           1.50581     0.782703              0.617188       0.848633                  \n",
      "\u001b[J2           0.618087    0.451868              0.858016       0.880559                  \n",
      "epoch       main/loss   validation/main/loss  main/accuracy  validation/main/accuracy\n",
      "\u001b[J1           1.34869     0.533332              0.655924       0.870793                  \n",
      "\u001b[J2           0.423267    0.371497              0.883492       0.883939                  \n",
      "\u001b[J3           0.286291    0.311275              0.919922       0.911734                  \n",
      "\u001b[J4           0.223408    0.298548              0.936821       0.900766                  \n",
      "\u001b[J5           0.17361     0.291787              0.952799       0.919546                  \n",
      "epoch       main/loss   validation/main/loss  main/accuracy  validation/main/accuracy\n",
      "\u001b[J1           1.73887     1.07216               0.47819        0.76247                   \n",
      "\u001b[J2           0.754754    0.506467              0.817255       0.852314                  \n",
      "epoch       main/loss   validation/main/loss  main/accuracy  validation/main/accuracy\n",
      "\u001b[J1           1.73267     0.870458              0.494792       0.826397                  \n",
      "\u001b[J2           0.604399    0.436642              0.827785       0.855168                  \n",
      "epoch       main/loss   validation/main/loss  main/accuracy  validation/main/accuracy\n",
      "\u001b[J1           1.61103     0.691011              0.552734       0.825721                  \n"
     ]
    },
    {
     "name": "stdout",
     "output_type": "stream",
     "text": [
      "\u001b[J2           0.515038    0.411065              0.853601       0.876653                  \n",
      "\u001b[J3           0.334854    0.343264              0.903971       0.905649                  \n",
      "\u001b[J4           0.257077    0.302215              0.932745       0.914889                  \n",
      "\u001b[J5           0.22132     0.314684              0.935547       0.902269                  \n",
      "epoch       main/loss   validation/main/loss  main/accuracy  validation/main/accuracy\n",
      "\u001b[J1           1.52473     0.658611              0.589193       0.80942                   \n",
      "\u001b[J2           0.491621    0.360638              0.868546       0.900541                  \n",
      "\u001b[J3           0.321218    0.318811              0.907227       0.907828                  \n",
      "\u001b[J4           0.233615    0.311335              0.933084       0.908353                  \n",
      "\u001b[J5           0.195371    0.27991               0.941406       0.914213                  \n",
      "\u001b[J6           0.150552    0.273807              0.956861       0.917593                  \n",
      "\u001b[J7           0.116302    0.282301              0.970703       0.921725                  \n",
      "\u001b[J8           0.096467    0.236477              0.974524       0.936148                  \n",
      "\u001b[J9           0.0649561   0.253932              0.985394       0.929312                  \n",
      "epoch       main/loss   validation/main/loss  main/accuracy  validation/main/accuracy\n",
      "\u001b[J1           1.47273     0.582263              0.629232       0.84698                   \n",
      "\u001b[J2           0.456164    0.361801              0.867527       0.888672                  \n",
      "\u001b[J3           0.316793    0.301275              0.908854       0.916091                  \n",
      "\u001b[J4           0.25421     0.298766              0.928329       0.915415                  \n",
      "\u001b[J5           0.207558    0.304952              0.942708       0.905874                  \n",
      "\u001b[J6           0.158603    0.268199              0.955163       0.915189                  \n",
      "\u001b[J7           0.114954    0.257295              0.968424       0.92488                   \n",
      "\u001b[J8           0.100909    0.26138               0.973166       0.918344                  \n",
      "\u001b[J9           0.077424    0.252555              0.983696       0.919546                  \n",
      "epoch       main/loss   validation/main/loss  main/accuracy  validation/main/accuracy\n",
      "\u001b[J1           1.47427     0.58977               0.637695       0.829853                  \n",
      "\u001b[J2           0.470002    0.432816              0.855978       0.863281                  \n",
      "epoch       main/loss   validation/main/loss  main/accuracy  validation/main/accuracy\n",
      "\u001b[J1           1.40687     0.529327              0.599935       0.849534                  \n",
      "\u001b[J2           0.462303    0.398752              0.862092       0.86591                   \n",
      "\u001b[J3           0.304527    0.307004              0.910482       0.905874                  \n",
      "\u001b[J4           0.228612    0.322168              0.934443       0.902719                  \n",
      "\u001b[J5           0.183003    0.288752              0.943685       0.91271                   \n",
      "\u001b[J6           0.138021    0.257899              0.960938       0.923678                  \n",
      "\u001b[J7           0.100869    0.256855              0.973307       0.927584                  \n",
      "\u001b[J8           0.0755141   0.241549              0.982677       0.932692                  \n",
      "\u001b[J9           0.0567193   0.240159              0.986753       0.933444                  \n",
      "epoch       main/loss   validation/main/loss  main/accuracy  validation/main/accuracy\n",
      "\u001b[J1           1.465       0.616006              0.591471       0.840595                  \n",
      "\u001b[J2           0.466903    0.349163              0.868207       0.897085                  \n",
      "epoch       main/loss   validation/main/loss  main/accuracy  validation/main/accuracy\n",
      "\u001b[J1           1.439       0.705274              0.639974       0.862004                  \n",
      "\u001b[J2           0.553692    0.421616              0.870584       0.892728                  \n",
      "epoch       main/loss   validation/main/loss  main/accuracy  validation/main/accuracy\n",
      "\u001b[J1           1.45823     0.626891              0.633789       0.819937                  \n",
      "\u001b[J2           0.496841    0.363113              0.85428        0.891526                  \n",
      "\u001b[J3           0.319179    0.309133              0.905599       0.910006                  \n",
      "\u001b[J4           0.254966    0.307566              0.927649       0.907602                  \n",
      "\u001b[J5           0.209825    0.279326              0.939453       0.911959                  \n",
      "\u001b[J6           0.162357    0.261759              0.952785       0.917368                  \n",
      "\u001b[J7           0.132224    0.254465              0.963216       0.924204                  \n",
      "\u001b[J8           0.104865    0.27975               0.975204       0.919321                  \n",
      "\u001b[J9           0.089034    0.246467              0.977582       0.929312                  \n",
      "epoch       main/loss   validation/main/loss  main/accuracy  validation/main/accuracy\n",
      "\u001b[J1           1.518       0.729813              0.630208       0.820312                  \n",
      "\u001b[J2           0.517941    0.391417              0.859375       0.887094                  \n",
      "epoch       main/loss   validation/main/loss  main/accuracy  validation/main/accuracy\n",
      "\u001b[J1           1.40681     0.574135              0.644206       0.849384                  \n",
      "\u001b[J2           0.457003    0.387513              0.877378       0.885667                  \n",
      "\u001b[J3           0.315866    0.32363               0.906901       0.900015                  \n",
      "\u001b[J4           0.242326    0.279631              0.934443       0.911734                  \n",
      "\u001b[J5           0.204532    0.291198              0.941406       0.915865                  \n",
      "\u001b[J6           0.18246     0.275266              0.946332       0.921725                  \n",
      "\u001b[J7           0.145627    0.276415              0.959635       0.917142                  \n",
      "\u001b[J8           0.114943    0.25534               0.970788       0.924429                  \n",
      "epoch       main/loss   validation/main/loss  main/accuracy  validation/main/accuracy\n",
      "\u001b[J1           1.347       0.555771              0.693685       0.862755                  \n",
      "\u001b[J2           0.450557    0.374779              0.874321       0.892954                  \n",
      "\u001b[J3           0.313749    0.331862              0.911458       0.902719                  \n",
      "\u001b[J4           0.251138    0.29559               0.931046       0.921725                  \n",
      "\u001b[J5           0.203496    0.277069              0.943034       0.920748                  \n",
      "epoch       main/loss   validation/main/loss  main/accuracy  validation/main/accuracy\n",
      "\u001b[J1           1.51104     0.684384              0.586914       0.834285                  \n",
      "\u001b[J2           0.503875    0.392838              0.860054       0.885442                  \n",
      "\u001b[J3           0.327931    0.32418               0.907552       0.898813                  \n",
      "\u001b[J4           0.254275    0.304893              0.931046       0.901517                  \n",
      "\u001b[J5           0.212844    0.278468              0.940755       0.912485                  \n",
      "epoch       main/loss   validation/main/loss  main/accuracy  validation/main/accuracy\n",
      "\u001b[J1           1.73856     1.10075               0.458008       0.778696                  \n",
      "\u001b[J2           0.787308    0.519899              0.814878       0.864709                  \n",
      "epoch       main/loss   validation/main/loss  main/accuracy  validation/main/accuracy\n",
      "\u001b[J1           1.33688     0.587314              0.660807       0.847731                  \n",
      "\u001b[J2           0.451135    0.369824              0.874321       0.896184                  \n",
      "\u001b[J3           0.298642    0.311058              0.914714       0.9064                    \n",
      "\u001b[J4           0.235452    0.296775              0.935462       0.910757                  \n",
      "\u001b[J5           0.195477    0.32572               0.944661       0.900992                  \n",
      "\u001b[J6           0.161795    0.260865              0.953804       0.916391                  \n",
      "\u001b[J7           0.117313    0.257565              0.966797       0.921725                  \n",
      "\u001b[J8           0.0881184   0.249195              0.978261       0.928786                  \n",
      "\u001b[J9           0.0673011   0.242098              0.987432       0.929763                  \n",
      "epoch       main/loss   validation/main/loss  main/accuracy  validation/main/accuracy\n"
     ]
    },
    {
     "name": "stdout",
     "output_type": "stream",
     "text": [
      "\u001b[J1           1.36579     0.564558              0.629557       0.852314                  \n",
      "\u001b[J2           0.449293    0.375811              0.877378       0.887169                  \n",
      "\u001b[J3           0.300911    0.31607               0.916667       0.900541                  \n",
      "\u001b[J4           0.24265     0.309094              0.932065       0.902494                  \n",
      "\u001b[J5           0.203152    0.288434              0.944336       0.914889                  \n",
      "\u001b[J6           0.157285    0.271429              0.960258       0.910757                  \n",
      "\u001b[J7           0.122717    0.275285              0.964844       0.923453                  \n",
      "\u001b[J8           0.0995494   0.270786              0.974185       0.927359                  \n",
      "\u001b[J9           0.0797445   0.249295              0.980978       0.932692                  \n",
      "epoch       main/loss   validation/main/loss  main/accuracy  validation/main/accuracy\n",
      "\u001b[J1           1.83451     1.11604               0.498698       0.803561                  \n",
      "\u001b[J2           0.773365    0.47607               0.819973       0.882061                  \n",
      "epoch       main/loss   validation/main/loss  main/accuracy  validation/main/accuracy\n",
      "\u001b[J1           1.25752     0.496155              0.669271       0.864183                  \n",
      "\u001b[J2           0.407441    0.351935              0.882812       0.900992                  \n",
      "\u001b[J3           0.286883    0.309026              0.91862        0.905424                  \n",
      "\u001b[J4           0.222606    0.272161              0.935802       0.917819                  \n",
      "\u001b[J5           0.179291    0.269781              0.946615       0.914663                  \n",
      "\u001b[J6           0.139602    0.251762              0.961277       0.921274                  \n",
      "\u001b[J7           0.10746     0.23238               0.972005       0.932467                  \n",
      "\u001b[J8           0.0919808   0.230495              0.976562       0.929537                  \n",
      "\u001b[J9           0.0761332   0.237995              0.982677       0.931265                  \n",
      "epoch       main/loss   validation/main/loss  main/accuracy  validation/main/accuracy\n",
      "\u001b[J1           1.24657     0.501064              0.693034       0.85299                   \n",
      "\u001b[J2           0.399644    0.34687               0.886209       0.900541                  \n",
      "\u001b[J3           0.289044    0.309715              0.915039       0.899339                  \n",
      "\u001b[J4           0.21371     0.288303              0.943274       0.908579                  \n",
      "\u001b[J5           0.178631    0.261333              0.946289       0.924654                  \n",
      "\u001b[J6           0.138728    0.253767              0.963315       0.916617                  \n",
      "\u001b[J7           0.103626    0.262891              0.972331       0.916842                  \n",
      "\u001b[J8           0.0805993   0.246904              0.980299       0.928335                  \n",
      "\u001b[J9           0.0590115   0.245324              0.990149       0.93442                   \n",
      "epoch       main/loss   validation/main/loss  main/accuracy  validation/main/accuracy\n",
      "\u001b[J1           1.34228     0.51832               0.640951       0.858323                  \n",
      "\u001b[J2           0.427064    0.353094              0.881114       0.894907                  \n",
      "\u001b[J3           0.29036     0.291977              0.916992       0.907377                  \n",
      "\u001b[J4           0.222518    0.282745              0.940217       0.911959                  \n",
      "\u001b[J5           0.175917    0.267447              0.950195       0.921499                  \n",
      "\u001b[J6           0.134859    0.266262              0.963995       0.918344                  \n",
      "\u001b[J7           0.109419    0.274634              0.96875        0.920748                  \n",
      "\u001b[J8           0.0818614   0.263922              0.983016       0.921499                  \n",
      "epoch       main/loss   validation/main/loss  main/accuracy  validation/main/accuracy\n",
      "\u001b[J1           1.30904     0.523795              0.680013       0.857873                  \n",
      "\u001b[J2           0.418805    0.34862               0.880435       0.891977                  \n",
      "epoch       main/loss   validation/main/loss  main/accuracy  validation/main/accuracy\n",
      "\u001b[J1           1.39111     0.556515              0.638021       0.853966                  \n",
      "\u001b[J2           0.454065    0.375333              0.872283       0.900541                  \n",
      "\u001b[J3           0.300219    0.31326               0.916341       0.905649                  \n",
      "\u001b[J4           0.239568    0.29428               0.933084       0.91271                   \n",
      "\u001b[J5           0.197749    0.299838              0.944336       0.907828                  \n",
      "epoch       main/loss   validation/main/loss  main/accuracy  validation/main/accuracy\n",
      "\u001b[J1           1.266       0.526166              0.679036       0.835487                  \n",
      "\u001b[J2           0.420605    0.36404               0.877717       0.89348                   \n",
      "\u001b[J3           0.283803    0.316949              0.91569        0.906851                  \n",
      "\u001b[J4           0.2144      0.277897              0.938179       0.91564                   \n",
      "\u001b[J5           0.167289    0.267786              0.955729       0.912936                  \n",
      "\u001b[J6           0.13672     0.256675              0.962636       0.914663                  \n",
      "\u001b[J7           0.100353    0.240409              0.97526        0.922701                  \n",
      "\u001b[J8           0.0709061   0.239925              0.984375       0.928561                  \n",
      "\u001b[J9           0.0567884   0.249037              0.98947        0.930288                  \n",
      "epoch       main/loss   validation/main/loss  main/accuracy  validation/main/accuracy\n",
      "\u001b[J1           1.32957     0.523717              0.676758       0.85915                   \n",
      "\u001b[J2           0.419991    0.346881              0.884851       0.897386                  \n",
      "\u001b[J3           0.296128    0.316501              0.91862        0.910306                  \n",
      "\u001b[J4           0.236247    0.302122              0.935122       0.892503                  \n",
      "\u001b[J5           0.189445    0.277476              0.941732       0.916617                  \n",
      "\u001b[J6           0.154776    0.252168              0.954484       0.926608                  \n",
      "\u001b[J7           0.104069    0.248008              0.974284       0.922476                  \n",
      "\u001b[J8           0.0777967   0.250998              0.981318       0.925631                  \n",
      "\u001b[J9           0.0640346   0.232501              0.986413       0.933218                  \n",
      "epoch       main/loss   validation/main/loss  main/accuracy  validation/main/accuracy\n",
      "\u001b[J1           1.283       0.497679              0.688477       0.860126                  \n",
      "\u001b[J2           0.415045    0.380261              0.882133       0.882963                  \n",
      "\u001b[J3           0.299373    0.307675              0.911458       0.915865                  \n",
      "\u001b[J4           0.217243    0.288904              0.936141       0.908804                  \n",
      "\u001b[J5           0.188864    0.272533              0.946289       0.910532                  \n",
      "\u001b[J6           0.149058    0.266089              0.956522       0.923678                  \n",
      "\u001b[J7           0.109364    0.245227              0.971029       0.925931                  \n",
      "\u001b[J8           0.0833057   0.250348              0.977921       0.933218                  \n",
      "\u001b[J9           0.0684826   0.243638              0.983016       0.935622                  \n",
      "epoch       main/loss   validation/main/loss  main/accuracy  validation/main/accuracy\n",
      "\u001b[J1           1.29401     0.48879               0.674805       0.873948                  \n",
      "\u001b[J2           0.404622    0.336342              0.882473       0.895883                  \n",
      "\u001b[J3           0.28935     0.283147              0.913411       0.91564                   \n",
      "\u001b[J4           0.213012    0.27562               0.939538       0.917368                  \n",
      "\u001b[J5           0.169466    0.254909              0.956055       0.924429                  \n",
      "\u001b[J6           0.136259    0.260017              0.959239       0.919621                  \n",
      "\u001b[J7           0.100504    0.249702              0.976888       0.925631                  \n",
      "\u001b[J8           0.0856198   0.237434              0.978261       0.935622                  \n",
      "\u001b[J9           0.0677631   0.228697              0.981658       0.929087                  \n",
      "epoch       main/loss   validation/main/loss  main/accuracy  validation/main/accuracy\n"
     ]
    },
    {
     "name": "stdout",
     "output_type": "stream",
     "text": [
      "\u001b[J1           1.28255     0.475821              0.682943       0.870793                  \n",
      "\u001b[J2           0.402854    0.36334               0.888587       0.900316                  \n",
      "epoch       main/loss   validation/main/loss  main/accuracy  validation/main/accuracy\n",
      "\u001b[J1           1.26425     0.479812              0.686523       0.882512                  \n",
      "\u001b[J2           0.403292    0.356473              0.883152       0.894456                  \n",
      "\u001b[J3           0.276308    0.291124              0.921875       0.918344                  \n",
      "\u001b[J4           0.213631    0.301742              0.939538       0.898813                  \n",
      "\u001b[J5           0.168726    0.263713              0.956706       0.923678                  \n",
      "epoch       main/loss   validation/main/loss  main/accuracy  validation/main/accuracy\n",
      "\u001b[J1           1.29854     0.499221              0.66862        0.860577                  \n",
      "\u001b[J2           0.436917    0.401632              0.874321       0.880334                  \n",
      "\u001b[J3           0.313077    0.311814              0.911133       0.909029                  \n",
      "\u001b[J4           0.229013    0.303096              0.933084       0.916842                  \n",
      "\u001b[J5           0.182587    0.2611                0.945312       0.91902                   \n",
      "\u001b[J6           0.139653    0.25299               0.960938       0.926833                  \n",
      "\u001b[J7           0.104351    0.255708              0.974609       0.923678                  \n",
      "\u001b[J8           0.0805784   0.237392              0.980639       0.932467                  \n",
      "\u001b[J9           0.0632383   0.248455              0.987772       0.925631                  \n",
      "epoch       main/loss   validation/main/loss  main/accuracy  validation/main/accuracy\n",
      "\u001b[J1           1.31828     0.533776              0.656901       0.849159                  \n",
      "\u001b[J2           0.419195    0.378887              0.877717       0.88762                   \n",
      "epoch       main/loss   validation/main/loss  main/accuracy  validation/main/accuracy\n",
      "\u001b[J1           1.2962      0.511445              0.667643       0.865685                  \n",
      "\u001b[J2           0.418192    0.340817              0.880095       0.891752                  \n",
      "epoch       main/loss   validation/main/loss  main/accuracy  validation/main/accuracy\n",
      "\u001b[J1           1.326       0.529928              0.655273       0.857948                  \n",
      "\u001b[J2           0.436872    0.368915              0.870245       0.891526                  \n",
      "epoch       main/loss   validation/main/loss  main/accuracy  validation/main/accuracy\n",
      "\u001b[J1           1.32803     0.533626              0.648438       0.852764                  \n",
      "\u001b[J2           0.427233    0.362454              0.879416       0.892728                  \n",
      "\u001b[J3           0.299384    0.301918              0.910807       0.910757                  \n",
      "\u001b[J4           0.233975    0.29893               0.932065       0.9061                    \n",
      "\u001b[J5           0.19439     0.271613              0.943359       0.918795                  \n",
      "\u001b[J6           0.148884    0.246653              0.959579       0.928786                  \n",
      "\u001b[J7           0.119463    0.248154              0.969076       0.925856                  \n",
      "\u001b[J8           0.0933021   0.25183               0.977242       0.931265                  \n",
      "\u001b[J9           0.0707729   0.247587              0.986073       0.921725                  \n",
      "epoch       main/loss   validation/main/loss  main/accuracy  validation/main/accuracy\n",
      "\u001b[J1           1.34822     0.542541              0.644531       0.849159                  \n",
      "\u001b[J2           0.444695    0.351173              0.876019       0.901292                  \n",
      "\u001b[J3           0.304638    0.31761               0.910807       0.912936                  \n",
      "\u001b[J4           0.238892    0.308606              0.935802       0.907076                  \n",
      "\u001b[J5           0.186843    0.261262              0.948893       0.920222                  \n",
      "epoch       main/loss   validation/main/loss  main/accuracy  validation/main/accuracy\n",
      "\u001b[J1           1.30205     0.521275              0.65918        0.846755                  \n",
      "\u001b[J2           0.421323    0.376435              0.884171       0.879883                  \n",
      "epoch       main/loss   validation/main/loss  main/accuracy  validation/main/accuracy\n",
      "\u001b[J1           1.33489     0.529811              0.649089       0.862981                  \n",
      "\u001b[J2           0.434263    0.365387              0.880774       0.880559                  \n",
      "\u001b[J3           0.288479    0.318905              0.917643       0.89393                   \n",
      "\u001b[J4           0.227937    0.280435              0.938519       0.90933                   \n",
      "\u001b[J5           0.18236     0.261905              0.948568       0.915865                  \n",
      "\u001b[J6           0.139962    0.267111              0.963995       0.914438                  \n",
      "\u001b[J7           0.109643    0.255584              0.972982       0.922476                  \n",
      "\u001b[J8           0.0876645   0.239447              0.977582       0.924654                  \n",
      "\u001b[J9           0.064095    0.236041              0.987092       0.930965                  \n",
      "epoch       main/loss   validation/main/loss  main/accuracy  validation/main/accuracy\n",
      "\u001b[J1           1.2578      0.486985              0.679362       0.862831                  \n",
      "\u001b[J2           0.402901    0.352019              0.883832       0.896184                  \n",
      "epoch       main/loss   validation/main/loss  main/accuracy  validation/main/accuracy\n",
      "\u001b[J1           1.30911     0.496304              0.679036       0.868615                  \n",
      "\u001b[J2           0.422898    0.374689              0.883492       0.880108                  \n",
      "\u001b[J3           0.288998    0.301345              0.919596       0.906626                  \n",
      "\u001b[J4           0.227883    0.304006              0.938519       0.911058                  \n",
      "\u001b[J5           0.189749    0.288203              0.945964       0.919546                  \n",
      "epoch       main/loss   validation/main/loss  main/accuracy  validation/main/accuracy\n",
      "\u001b[J1           1.3653      0.554111              0.644206       0.855243                  \n",
      "\u001b[J2           0.44666     0.361926              0.870584       0.886118                  \n",
      "\u001b[J3           0.307064    0.313797              0.916341       0.908053                  \n",
      "\u001b[J4           0.232693    0.282607              0.934103       0.916617                  \n",
      "\u001b[J5           0.187476    0.284421              0.946615       0.909781                  \n",
      "\u001b[J6           0.157264    0.257275              0.956522       0.922701                  \n",
      "\u001b[J7           0.123262    0.247647              0.965169       0.922927                  \n",
      "\u001b[J8           0.0967807   0.227981              0.977242       0.932692                  \n",
      "\u001b[J9           0.0769919   0.239296              0.981658       0.928561                  \n",
      "epoch       main/loss   validation/main/loss  main/accuracy  validation/main/accuracy\n",
      "\u001b[J1           1.29907     0.50274               0.661784       0.873197                  \n",
      "\u001b[J2           0.416738    0.371138              0.878397       0.884014                  \n",
      "\u001b[J3           0.292571    0.314696              0.915365       0.910983                  \n",
      "\u001b[J4           0.215011    0.288437              0.945312       0.913462                  \n",
      "\u001b[J5           0.172407    0.261293              0.94987        0.925406                  \n",
      "epoch       main/loss   validation/main/loss  main/accuracy  validation/main/accuracy\n",
      "\u001b[J1           1.54358     0.758235              0.625977       0.850586                  \n",
      "\u001b[J2           0.558569    0.398472              0.867527       0.894456                  \n",
      "epoch       main/loss   validation/main/loss  main/accuracy  validation/main/accuracy\n",
      "\u001b[J1           1.33086     0.530719              0.652018       0.848858                  \n",
      "\u001b[J2           0.417543    0.35512               0.879755       0.889799                  \n",
      "\u001b[J3           0.27893     0.304145              0.926758       0.905649                  \n",
      "\u001b[J4           0.222609    0.291121              0.935802       0.91271                   \n",
      "\u001b[J5           0.174013    0.275248              0.950521       0.920072                  \n",
      "\u001b[J6           0.139652    0.26062               0.960258       0.926382                  \n"
     ]
    },
    {
     "name": "stdout",
     "output_type": "stream",
     "text": [
      "\u001b[J7           0.104944    0.254458              0.972982       0.923678                  \n",
      "\u001b[J8           0.078585    0.24779               0.980978       0.929312                  \n",
      "epoch       main/loss   validation/main/loss  main/accuracy  validation/main/accuracy\n",
      "\u001b[J1           1.31786     0.524048              0.662435       0.865234                  \n",
      "\u001b[J2           0.441133    0.336268              0.87534        0.903921                  \n",
      "\u001b[J3           0.294877    0.304635              0.91862        0.913687                  \n",
      "\u001b[J4           0.233541    0.282229              0.939878       0.917593                  \n",
      "\u001b[J5           0.195839    0.314405              0.947591       0.900015                  \n",
      "\u001b[J6           0.161086    0.265596              0.955163       0.925406                  \n",
      "\u001b[J7           0.128023    0.24915               0.966797       0.925856                  \n",
      "\u001b[J8           0.0970712   0.260332              0.977582       0.922251                  \n",
      "epoch       main/loss   validation/main/loss  main/accuracy  validation/main/accuracy\n",
      "\u001b[J1           1.30372     0.526493              0.654297       0.864032                  \n",
      "\u001b[J2           0.432433    0.339114              0.873302       0.906626                  \n",
      "\u001b[J3           0.284331    0.306043              0.923828       0.904672                  \n",
      "\u001b[J4           0.221766    0.28682               0.93784        0.919546                  \n",
      "\u001b[J5           0.176753    0.269713              0.952799       0.918344                  \n",
      "\u001b[J6           0.14092     0.250499              0.959239       0.93149                   \n",
      "\u001b[J7           0.104567    0.269931              0.974284       0.930063                  \n",
      "\u001b[J8           0.082763    0.280139              0.983016       0.922476                  \n",
      "epoch       main/loss   validation/main/loss  main/accuracy  validation/main/accuracy\n",
      "\u001b[J1           1.34218     0.549092              0.670573       0.868164                  \n",
      "\u001b[J2           0.444025    0.389306              0.871603       0.88762                   \n",
      "epoch       main/loss   validation/main/loss  main/accuracy  validation/main/accuracy\n",
      "\u001b[J1           1.39564     0.603572              0.667643       0.854492                  \n",
      "\u001b[J2           0.46608     0.371811              0.876019       0.889799                  \n",
      "epoch       main/loss   validation/main/loss  main/accuracy  validation/main/accuracy\n",
      "\u001b[J1           1.30154     0.480865              0.664062       0.875676                  \n",
      "\u001b[J2           0.423142    0.36961               0.883492       0.884916                  \n",
      "\u001b[J3           0.291656    0.304903              0.915365       0.903921                  \n",
      "\u001b[J4           0.224335    0.292919              0.933084       0.909029                  \n",
      "\u001b[J5           0.172755    0.271493              0.952474       0.919772                  \n",
      "\u001b[J6           0.133827    0.263526              0.962636       0.920748                  \n",
      "\u001b[J7           0.105236    0.257441              0.972005       0.925631                  \n",
      "\u001b[J8           0.0760202   0.269521              0.984375       0.926382                  \n",
      "epoch       main/loss   validation/main/loss  main/accuracy  validation/main/accuracy\n",
      "\u001b[J1           1.31757     0.535471              0.656901       0.862831                  \n",
      "\u001b[J2           0.415443    0.33569               0.886889       0.9064                    \n",
      "\u001b[J3           0.280389    0.303197              0.922201       0.908804                  \n",
      "\u001b[J4           0.23238     0.28465               0.934443       0.917819                  \n",
      "\u001b[J5           0.186072    0.279359              0.947591       0.916617                  \n",
      "\u001b[J6           0.140218    0.250199              0.961277       0.92195                   \n",
      "\u001b[J7           0.112576    0.28273               0.968099       0.915189                  \n",
      "\u001b[J8           0.0932495   0.247193              0.976223       0.928335                  \n",
      "\u001b[J9           0.0746302   0.242737              0.984375       0.935622                  \n",
      "epoch       main/loss   validation/main/loss  main/accuracy  validation/main/accuracy\n",
      "\u001b[J1           1.30124     0.52256               0.689453       0.851788                  \n",
      "\u001b[J2           0.419123    0.347127              0.878397       0.896935                  \n",
      "epoch       main/loss   validation/main/loss  main/accuracy  validation/main/accuracy\n",
      "\u001b[J1           1.36342     0.543274              0.673177       0.862455                  \n",
      "\u001b[J2           0.455689    0.360341              0.865829       0.886418                  \n",
      "\u001b[J3           0.305374    0.30946               0.913086       0.911734                  \n",
      "\u001b[J4           0.242801    0.322604              0.936481       0.907151                  \n",
      "\u001b[J5           0.195493    0.271157              0.948242       0.916091                  \n",
      "\u001b[J6           0.166646    0.268147              0.952446       0.92195                   \n",
      "\u001b[J7           0.131329    0.250858              0.963542       0.926608                  \n",
      "\u001b[J8           0.100878    0.246329              0.975543       0.926382                  \n",
      "epoch       main/loss   validation/main/loss  main/accuracy  validation/main/accuracy\n",
      "\u001b[J1           1.34118     0.562415              0.680013       0.86253                   \n",
      "\u001b[J2           0.441588    0.349114              0.877717       0.89055                   \n",
      "epoch       main/loss   validation/main/loss  main/accuracy  validation/main/accuracy\n",
      "\u001b[J1           1.36906     0.568961              0.64681        0.856445                  \n",
      "\u001b[J2           0.440387    0.349122              0.868207       0.898813                  \n",
      "\u001b[J3           0.295818    0.317007              0.914714       0.903471                  \n",
      "\u001b[J4           0.236384    0.309186              0.931046       0.903696                  \n",
      "\u001b[J5           0.185687    0.302241              0.950846       0.912485                  \n",
      "\u001b[J6           0.160453    0.261842              0.953465       0.926608                  \n",
      "\u001b[J7           0.12394     0.253608              0.968099       0.922476                  \n",
      "\u001b[J8           0.0989089   0.239944              0.976223       0.925631                  \n",
      "\u001b[J9           0.076353    0.232744              0.981318       0.92811                   \n",
      "epoch       main/loss   validation/main/loss  main/accuracy  validation/main/accuracy\n",
      "\u001b[J1           1.39681     0.598505              0.653646       0.846905                  \n",
      "\u001b[J2           0.47391     0.398683              0.856997       0.884465                  \n",
      "epoch       main/loss   validation/main/loss  main/accuracy  validation/main/accuracy\n",
      "\u001b[J1           1.52555     0.749216              0.613607       0.82527                   \n",
      "\u001b[J2           0.540082    0.389032              0.863111       0.884465                  \n",
      "epoch       main/loss   validation/main/loss  main/accuracy  validation/main/accuracy\n",
      "\u001b[J1           1.4333      0.583025              0.607096       0.858849                  \n",
      "\u001b[J2           0.452524    0.377856              0.877717       0.887169                  \n",
      "\u001b[J3           0.304299    0.309645              0.912109       0.901743                  \n",
      "\u001b[J4           0.2396      0.289448              0.931726       0.908579                  \n",
      "\u001b[J5           0.189301    0.281625              0.950195       0.919546                  \n",
      "epoch       main/loss   validation/main/loss  main/accuracy  validation/main/accuracy\n",
      "\u001b[J1           1.33127     0.530632              0.650716       0.856671                  \n",
      "\u001b[J2           0.434591    0.34757               0.877717       0.89686                   \n",
      "epoch       main/loss   validation/main/loss  main/accuracy  validation/main/accuracy\n",
      "\u001b[J1           1.28481     0.512275              0.660482       0.860126                  \n",
      "\u001b[J2           0.410195    0.399924              0.882133       0.887169                  \n",
      "\u001b[J3           0.28972     0.306127              0.917969       0.913462                  \n",
      "\u001b[J4           0.21935     0.320172              0.93716        0.911508                  \n",
      "\u001b[J5           0.182786    0.289795              0.945964       0.912485                  \n"
     ]
    },
    {
     "name": "stdout",
     "output_type": "stream",
     "text": [
      "epoch       main/loss   validation/main/loss  main/accuracy  validation/main/accuracy\n",
      "\u001b[J1           1.34992     0.548518              0.655599       0.855469                  \n",
      "\u001b[J2           0.464023    0.36857               0.863451       0.896184                  \n",
      "\u001b[J3           0.304237    0.31187               0.914714       0.911734                  \n",
      "\u001b[J4           0.228476    0.288256              0.93784        0.91271                   \n",
      "\u001b[J5           0.184758    0.280293              0.948242       0.918795                  \n",
      "\u001b[J6           0.151008    0.262881              0.957541       0.922927                  \n",
      "\u001b[J7           0.118196    0.251928              0.970052       0.926833                  \n",
      "\u001b[J8           0.0926157   0.239585              0.97894        0.925856                  \n",
      "\u001b[J9           0.070933    0.242431              0.986753       0.930739                  \n"
     ]
    }
   ],
   "source": [
    "import optuna\n",
    "optuna.logging.set_verbosity(optuna.logging.WARNING)  # This verbosity change is just to simplify the notebook output.\n",
    "\n",
    "study = optuna.create_study(pruner=optuna.pruners.MedianPruner())\n",
    "study.optimize(objective, n_trials=100)"
   ]
  },
  {
   "cell_type": "markdown",
   "metadata": {},
   "source": [
    "## Plotting Hyper-parameter Relationship of Trials"
   ]
  },
  {
   "cell_type": "code",
   "execution_count": 4,
   "metadata": {},
   "outputs": [
    {
     "data": {
      "text/html": [
       "        <script type=\"text/javascript\">\n",
       "        window.PlotlyConfig = {MathJaxConfig: 'local'};\n",
       "        if (window.MathJax) {MathJax.Hub.Config({SVG: {font: \"STIX-Web\"}});}\n",
       "        if (typeof require !== 'undefined') {\n",
       "        require.undef(\"plotly\");\n",
       "        requirejs.config({\n",
       "            paths: {\n",
       "                'plotly': ['https://cdn.plot.ly/plotly-latest.min']\n",
       "            }\n",
       "        });\n",
       "        require(['plotly'], function(Plotly) {\n",
       "            window._Plotly = Plotly;\n",
       "        });\n",
       "        }\n",
       "        </script>\n",
       "        "
      ]
     },
     "metadata": {},
     "output_type": "display_data"
    },
    {
     "data": {
      "application/vnd.plotly.v1+json": {
       "config": {
        "plotlyServerURL": "https://plot.ly"
       },
       "data": [
        {
         "type": "scatter",
         "xaxis": "x",
         "yaxis": "y"
        },
        {
         "colorbar": {
          "title": {
           "text": "Objective Value"
          }
         },
         "colorscale": [
          [
           0,
           "rgb(247,251,255)"
          ],
          [
           0.125,
           "rgb(222,235,247)"
          ],
          [
           0.25,
           "rgb(198,219,239)"
          ],
          [
           0.375,
           "rgb(158,202,225)"
          ],
          [
           0.5,
           "rgb(107,174,214)"
          ],
          [
           0.625,
           "rgb(66,146,198)"
          ],
          [
           0.75,
           "rgb(33,113,181)"
          ],
          [
           0.875,
           "rgb(8,81,156)"
          ],
          [
           1,
           "rgb(8,48,107)"
          ]
         ],
         "connectgaps": true,
         "contours": {
          "coloring": "heatmap"
         },
         "hoverinfo": "none",
         "line": {
          "smoothing": 1.3
         },
         "reversescale": true,
         "showscale": true,
         "type": "contour",
         "x": [
          1,
          2,
          3
         ],
         "xaxis": "x5",
         "y": [
          38.63368327828813,
          61.861809340355066,
          64.4523529920253,
          112.76004948638199,
          128.93978187621568,
          129.59602989013428,
          140.91690956956657,
          149.43206402434868,
          150.86146384721712,
          168.39748663593,
          169.83123355686402,
          170.7675268448263,
          178.8631471298371,
          181.02675672071888,
          181.57794099141697,
          182.82264052567263,
          189.21936630739114,
          189.78238213239194,
          200.99073155697914,
          208.1738433957372,
          217.25426989833403,
          226.83203036771795,
          233.09953582609856,
          234.0979216117891,
          234.34864085779077,
          235.36328925805907,
          244.19351317529978,
          244.38432972654155,
          246.9653510692827,
          249.61604322727672,
          250.14969779831608,
          255.4506017615034,
          255.79289908804088
         ],
         "yaxis": "y5",
         "z": [
          [
           null,
           null,
           0.26958279125392437
          ],
          [
           null,
           0.2820313274860382,
           null
          ],
          [
           null,
           null,
           0.2883530855178833
          ],
          [
           null,
           null,
           0.27214717492461205
          ],
          [
           null,
           null,
           0.26490793004631996
          ],
          [
           null,
           null,
           0.253996767103672
          ],
          [
           null,
           null,
           0.25246404111385345
          ],
          [
           null,
           0.24880902469158173,
           null
          ],
          [
           null,
           null,
           0.24020745791494846
          ],
          [
           null,
           null,
           0.2656950391829014
          ],
          [
           null,
           null,
           0.2553078122437
          ],
          [
           null,
           null,
           0.25102086178958416
          ],
          [
           null,
           0.2530394420027733,
           null
          ],
          [
           null,
           null,
           0.2672870345413685
          ],
          [
           null,
           0.23689827509224415,
           null
          ],
          [
           null,
           null,
           0.24240343272686005
          ],
          [
           null,
           0.22953632660210133,
           null
          ],
          [
           null,
           0.2390523049980402,
           null
          ],
          [
           null,
           0.2409790586680174,
           null
          ],
          [
           0.26976754516363144,
           null,
           null
          ],
          [
           null,
           0.24516725353896618,
           null
          ],
          [
           null,
           0.23027783632278442,
           null
          ],
          [
           null,
           0.2578176222741604,
           null
          ],
          [
           null,
           0.22774771973490715,
           null
          ],
          [
           null,
           null,
           0.2643739078193903
          ],
          [
           null,
           0.2708234563469887,
           null
          ],
          [
           null,
           0.2371191754937172,
           null
          ],
          [
           null,
           0.23592069745063782,
           null
          ],
          [
           null,
           0.2330324575304985,
           null
          ],
          [
           null,
           0.23060715943574905,
           null
          ],
          [
           null,
           0.2263924852013588,
           null
          ],
          [
           null,
           0.2556901406496763,
           null
          ],
          [
           null,
           0.23060716595500708,
           null
          ]
         ]
        },
        {
         "marker": {
          "color": "black"
         },
         "mode": "markers",
         "showlegend": false,
         "type": "scatter",
         "x": [
          2,
          3,
          3,
          3,
          1,
          3,
          3,
          3,
          3,
          2,
          2,
          3,
          3,
          3,
          3,
          3,
          3,
          2,
          2,
          2,
          2,
          2,
          2,
          2,
          2,
          2,
          2,
          2,
          2,
          2,
          2,
          2,
          2
         ],
         "xaxis": "x5",
         "y": [
          61.861809340355066,
          64.4523529920253,
          168.39748663593,
          38.63368327828813,
          208.1738433957372,
          140.91690956956657,
          170.7675268448263,
          128.93978187621568,
          129.59602989013428,
          246.9653510692827,
          235.36328925805907,
          150.86146384721712,
          112.76004948638199,
          169.83123355686402,
          182.82264052567263,
          181.02675672071888,
          234.34864085779077,
          149.43206402434868,
          181.57794099141697,
          178.8631471298371,
          249.61604322727672,
          244.19351317529978,
          255.79289908804088,
          250.14969779831608,
          244.38432972654155,
          255.4506017615034,
          234.0979216117891,
          226.83203036771795,
          233.09953582609856,
          189.78238213239194,
          217.25426989833403,
          200.99073155697914,
          189.21936630739114
         ],
         "yaxis": "y5"
        },
        {
         "colorbar": {
          "title": {
           "text": "Objective Value"
          }
         },
         "colorscale": [
          [
           0,
           "rgb(247,251,255)"
          ],
          [
           0.125,
           "rgb(222,235,247)"
          ],
          [
           0.25,
           "rgb(198,219,239)"
          ],
          [
           0.375,
           "rgb(158,202,225)"
          ],
          [
           0.5,
           "rgb(107,174,214)"
          ],
          [
           0.625,
           "rgb(66,146,198)"
          ],
          [
           0.75,
           "rgb(33,113,181)"
          ],
          [
           0.875,
           "rgb(8,81,156)"
          ],
          [
           1,
           "rgb(8,48,107)"
          ]
         ],
         "connectgaps": true,
         "contours": {
          "coloring": "heatmap"
         },
         "hoverinfo": "none",
         "line": {
          "smoothing": 1.3
         },
         "reversescale": true,
         "showscale": false,
         "type": "contour",
         "x": [
          1,
          2,
          3
         ],
         "xaxis": "x9",
         "y": [
          32.84689993028172,
          36.72645284317059,
          41.513119482496954,
          45.61101540162852,
          56.05442905833494,
          64.63685970128728,
          78.37951042007731,
          82.2936336065144,
          103.38247964137062,
          119.13677690135066,
          136.12168886913398,
          173.1358858180036,
          175.54936057823517,
          184.92433447088666,
          209.96405982832783,
          219.0136873145725,
          224.05263754662184,
          226.47373116528212,
          237.11717359904114,
          243.45353023329773,
          246.821232272477,
          247.63064600646598,
          248.17716911171402,
          248.62468920052441,
          248.98039327823994,
          249.0519584491777,
          251.6532427272772,
          252.90728874411573,
          255.06495663917065,
          255.66947266620062,
          255.66962619126951,
          255.92409928867525
         ],
         "yaxis": "y9",
         "z": [
          [
           null,
           null,
           0.253996767103672
          ],
          [
           null,
           null,
           0.2553078122437
          ],
          [
           null,
           0.2330324575304985,
           null
          ],
          [
           null,
           0.2708234563469887,
           null
          ],
          [
           null,
           null,
           0.26958279125392437
          ],
          [
           null,
           null,
           0.2656950391829014
          ],
          [
           null,
           null,
           0.2883530855178833
          ],
          [
           null,
           null,
           0.25102086178958416
          ],
          [
           null,
           0.2820313274860382,
           null
          ],
          [
           null,
           null,
           0.27214717492461205
          ],
          [
           null,
           null,
           0.24020745791494846
          ],
          [
           null,
           null,
           0.2672870345413685
          ],
          [
           null,
           null,
           0.24240343272686005
          ],
          [
           null,
           0.2578176222741604,
           null
          ],
          [
           null,
           0.2263924852013588,
           null
          ],
          [
           null,
           0.2556901406496763,
           null
          ],
          [
           null,
           null,
           0.2643739078193903
          ],
          [
           null,
           0.2409790586680174,
           null
          ],
          [
           null,
           0.2530394420027733,
           null
          ],
          [
           null,
           0.22953632660210133,
           null
          ],
          [
           null,
           null,
           0.25246404111385345
          ],
          [
           null,
           0.23592069745063782,
           null
          ],
          [
           null,
           0.2371191754937172,
           null
          ],
          [
           null,
           0.24880902469158173,
           null
          ],
          [
           null,
           0.23689827509224415,
           null
          ],
          [
           null,
           0.23060715943574905,
           null
          ],
          [
           null,
           null,
           0.26490793004631996
          ],
          [
           null,
           0.23060716595500708,
           null
          ],
          [
           null,
           0.23027783632278442,
           null
          ],
          [
           null,
           0.2390523049980402,
           null
          ],
          [
           null,
           0.24516725353896618,
           null
          ],
          [
           null,
           0.22774771973490715,
           null
          ]
         ]
        },
        {
         "marker": {
          "color": "black"
         },
         "mode": "markers",
         "showlegend": false,
         "type": "scatter",
         "x": [
          2,
          3,
          3,
          3,
          3,
          3,
          3,
          3,
          2,
          2,
          3,
          3,
          3,
          3,
          3,
          3,
          2,
          2,
          2,
          2,
          2,
          2,
          2,
          2,
          2,
          2,
          2,
          2,
          2,
          2,
          2,
          2
         ],
         "xaxis": "x9",
         "y": [
          103.38247964137062,
          78.37951042007731,
          64.63685970128728,
          56.05442905833494,
          246.821232272477,
          82.2936336065144,
          251.6532427272772,
          32.84689993028172,
          41.513119482496954,
          45.61101540162852,
          136.12168886913398,
          119.13677690135066,
          36.72645284317059,
          175.54936057823517,
          173.1358858180036,
          224.05263754662184,
          248.62468920052441,
          248.98039327823994,
          237.11717359904114,
          249.0519584491777,
          248.17716911171402,
          252.90728874411573,
          209.96405982832783,
          247.63064600646598,
          219.0136873145725,
          255.92409928867525,
          255.06495663917065,
          184.92433447088666,
          255.66947266620062,
          255.66962619126951,
          226.47373116528212,
          243.45353023329773
         ],
         "yaxis": "y9"
        },
        {
         "colorbar": {
          "title": {
           "text": "Objective Value"
          }
         },
         "colorscale": [
          [
           0,
           "rgb(247,251,255)"
          ],
          [
           0.125,
           "rgb(222,235,247)"
          ],
          [
           0.25,
           "rgb(198,219,239)"
          ],
          [
           0.375,
           "rgb(158,202,225)"
          ],
          [
           0.5,
           "rgb(107,174,214)"
          ],
          [
           0.625,
           "rgb(66,146,198)"
          ],
          [
           0.75,
           "rgb(33,113,181)"
          ],
          [
           0.875,
           "rgb(8,81,156)"
          ],
          [
           1,
           "rgb(8,48,107)"
          ]
         ],
         "connectgaps": true,
         "contours": {
          "coloring": "heatmap"
         },
         "hoverinfo": "none",
         "line": {
          "smoothing": 1.3
         },
         "reversescale": true,
         "showscale": false,
         "type": "contour",
         "x": [
          1,
          2,
          3
         ],
         "xaxis": "x13",
         "y": [
          36.39426249330998,
          44.5254852982493,
          77.47623236725656,
          96.2077203980807,
          104.46616647058897,
          108.69814813858511,
          113.60538499092658,
          123.6653863708816,
          163.6622901731585,
          181.15512453655936,
          201.13371172376014,
          203.3349719220077,
          217.2395452497521
         ],
         "yaxis": "y13",
         "z": [
          [
           null,
           null,
           0.25246404111385345
          ],
          [
           null,
           null,
           0.26490793004631996
          ],
          [
           null,
           null,
           0.2656950391829014
          ],
          [
           null,
           null,
           0.2883530855178833
          ],
          [
           null,
           null,
           0.2643739078193903
          ],
          [
           null,
           null,
           0.24240343272686005
          ],
          [
           null,
           null,
           0.2672870345413685
          ],
          [
           null,
           null,
           0.26958279125392437
          ],
          [
           null,
           null,
           0.253996767103672
          ],
          [
           null,
           null,
           0.25102086178958416
          ],
          [
           null,
           null,
           0.27214717492461205
          ],
          [
           null,
           null,
           0.2553078122437
          ],
          [
           null,
           null,
           0.24020745791494846
          ]
         ]
        },
        {
         "marker": {
          "color": "black"
         },
         "mode": "markers",
         "showlegend": false,
         "type": "scatter",
         "x": [
          3,
          3,
          3,
          3,
          3,
          3,
          3,
          3,
          3,
          3,
          3,
          3,
          3
         ],
         "xaxis": "x13",
         "y": [
          96.2077203980807,
          77.47623236725656,
          123.6653863708816,
          36.39426249330998,
          181.15512453655936,
          44.5254852982493,
          163.6622901731585,
          217.2395452497521,
          201.13371172376014,
          203.3349719220077,
          108.69814813858511,
          113.60538499092658,
          104.46616647058897
         ],
         "yaxis": "y13"
        },
        {
         "colorbar": {
          "title": {
           "text": "Objective Value"
          }
         },
         "colorscale": [
          [
           0,
           "rgb(247,251,255)"
          ],
          [
           0.125,
           "rgb(222,235,247)"
          ],
          [
           0.25,
           "rgb(198,219,239)"
          ],
          [
           0.375,
           "rgb(158,202,225)"
          ],
          [
           0.5,
           "rgb(107,174,214)"
          ],
          [
           0.625,
           "rgb(66,146,198)"
          ],
          [
           0.75,
           "rgb(33,113,181)"
          ],
          [
           0.875,
           "rgb(8,81,156)"
          ],
          [
           1,
           "rgb(8,48,107)"
          ]
         ],
         "connectgaps": true,
         "contours": {
          "coloring": "heatmap"
         },
         "hoverinfo": "none",
         "line": {
          "smoothing": 1.3
         },
         "reversescale": true,
         "showscale": false,
         "type": "contour",
         "x": [
          38.63368327828813,
          61.861809340355066,
          64.4523529920253,
          112.76004948638199,
          128.93978187621568,
          129.59602989013428,
          140.91690956956657,
          149.43206402434868,
          150.86146384721712,
          168.39748663593,
          169.83123355686402,
          170.7675268448263,
          178.8631471298371,
          181.02675672071888,
          181.57794099141697,
          182.82264052567263,
          189.21936630739114,
          189.78238213239194,
          200.99073155697914,
          208.1738433957372,
          217.25426989833403,
          226.83203036771795,
          233.09953582609856,
          234.0979216117891,
          234.34864085779077,
          235.36328925805907,
          244.19351317529978,
          244.38432972654155,
          246.9653510692827,
          249.61604322727672,
          250.14969779831608,
          255.4506017615034,
          255.79289908804088
         ],
         "xaxis": "x2",
         "y": [
          1,
          2,
          3
         ],
         "yaxis": "y2",
         "z": [
          [
           null,
           null,
           null,
           null,
           null,
           null,
           null,
           null,
           null,
           null,
           null,
           null,
           null,
           null,
           null,
           null,
           null,
           null,
           null,
           0.26976754516363144,
           null,
           null,
           null,
           null,
           null,
           null,
           null,
           null,
           null,
           null,
           null,
           null,
           null
          ],
          [
           null,
           0.2820313274860382,
           null,
           null,
           null,
           null,
           null,
           0.24880902469158173,
           null,
           null,
           null,
           null,
           0.2530394420027733,
           null,
           0.23689827509224415,
           null,
           0.22953632660210133,
           0.2390523049980402,
           0.2409790586680174,
           null,
           0.24516725353896618,
           0.23027783632278442,
           0.2578176222741604,
           0.22774771973490715,
           null,
           0.2708234563469887,
           0.2371191754937172,
           0.23592069745063782,
           0.2330324575304985,
           0.23060715943574905,
           0.2263924852013588,
           0.2556901406496763,
           0.23060716595500708
          ],
          [
           0.26958279125392437,
           null,
           0.2883530855178833,
           0.27214717492461205,
           0.26490793004631996,
           0.253996767103672,
           0.25246404111385345,
           null,
           0.24020745791494846,
           0.2656950391829014,
           0.2553078122437,
           0.25102086178958416,
           null,
           0.2672870345413685,
           null,
           0.24240343272686005,
           null,
           null,
           null,
           null,
           null,
           null,
           null,
           null,
           0.2643739078193903,
           null,
           null,
           null,
           null,
           null,
           null,
           null,
           null
          ]
         ]
        },
        {
         "marker": {
          "color": "black"
         },
         "mode": "markers",
         "showlegend": false,
         "type": "scatter",
         "x": [
          61.861809340355066,
          64.4523529920253,
          168.39748663593,
          38.63368327828813,
          208.1738433957372,
          140.91690956956657,
          170.7675268448263,
          128.93978187621568,
          129.59602989013428,
          246.9653510692827,
          235.36328925805907,
          150.86146384721712,
          112.76004948638199,
          169.83123355686402,
          182.82264052567263,
          181.02675672071888,
          234.34864085779077,
          149.43206402434868,
          181.57794099141697,
          178.8631471298371,
          249.61604322727672,
          244.19351317529978,
          255.79289908804088,
          250.14969779831608,
          244.38432972654155,
          255.4506017615034,
          234.0979216117891,
          226.83203036771795,
          233.09953582609856,
          189.78238213239194,
          217.25426989833403,
          200.99073155697914,
          189.21936630739114
         ],
         "xaxis": "x2",
         "y": [
          2,
          3,
          3,
          3,
          1,
          3,
          3,
          3,
          3,
          2,
          2,
          3,
          3,
          3,
          3,
          3,
          3,
          2,
          2,
          2,
          2,
          2,
          2,
          2,
          2,
          2,
          2,
          2,
          2,
          2,
          2,
          2,
          2
         ],
         "yaxis": "y2"
        },
        {
         "type": "scatter",
         "xaxis": "x6",
         "yaxis": "y6"
        },
        {
         "colorbar": {
          "title": {
           "text": "Objective Value"
          }
         },
         "colorscale": [
          [
           0,
           "rgb(247,251,255)"
          ],
          [
           0.125,
           "rgb(222,235,247)"
          ],
          [
           0.25,
           "rgb(198,219,239)"
          ],
          [
           0.375,
           "rgb(158,202,225)"
          ],
          [
           0.5,
           "rgb(107,174,214)"
          ],
          [
           0.625,
           "rgb(66,146,198)"
          ],
          [
           0.75,
           "rgb(33,113,181)"
          ],
          [
           0.875,
           "rgb(8,81,156)"
          ],
          [
           1,
           "rgb(8,48,107)"
          ]
         ],
         "connectgaps": true,
         "contours": {
          "coloring": "heatmap"
         },
         "hoverinfo": "none",
         "line": {
          "smoothing": 1.3
         },
         "reversescale": true,
         "showscale": false,
         "type": "contour",
         "x": [
          38.63368327828813,
          61.861809340355066,
          64.4523529920253,
          112.76004948638199,
          128.93978187621568,
          129.59602989013428,
          140.91690956956657,
          149.43206402434868,
          150.86146384721712,
          168.39748663593,
          169.83123355686402,
          170.7675268448263,
          178.8631471298371,
          181.02675672071888,
          181.57794099141697,
          182.82264052567263,
          189.21936630739114,
          189.78238213239194,
          200.99073155697914,
          208.1738433957372,
          217.25426989833403,
          226.83203036771795,
          233.09953582609856,
          234.0979216117891,
          234.34864085779077,
          235.36328925805907,
          244.19351317529978,
          244.38432972654155,
          246.9653510692827,
          249.61604322727672,
          250.14969779831608,
          255.4506017615034,
          255.79289908804088
         ],
         "xaxis": "x10",
         "y": [
          32.84689993028172,
          36.72645284317059,
          41.513119482496954,
          45.61101540162852,
          56.05442905833494,
          64.63685970128728,
          78.37951042007731,
          82.2936336065144,
          103.38247964137062,
          119.13677690135066,
          136.12168886913398,
          173.1358858180036,
          175.54936057823517,
          184.92433447088666,
          209.96405982832783,
          219.0136873145725,
          224.05263754662184,
          226.47373116528212,
          237.11717359904114,
          243.45353023329773,
          246.821232272477,
          247.63064600646598,
          248.17716911171402,
          248.62468920052441,
          248.98039327823994,
          249.0519584491777,
          251.6532427272772,
          252.90728874411573,
          255.06495663917065,
          255.66947266620062,
          255.66962619126951,
          255.92409928867525
         ],
         "yaxis": "y10",
         "z": [
          [
           null,
           null,
           null,
           null,
           null,
           0.253996767103672,
           null,
           null,
           null,
           null,
           null,
           null,
           null,
           null,
           null,
           null,
           null,
           null,
           null,
           null,
           null,
           null,
           null,
           null,
           null,
           null,
           null,
           null,
           null,
           null,
           null,
           null,
           null
          ],
          [
           null,
           null,
           null,
           null,
           null,
           null,
           null,
           null,
           null,
           null,
           0.2553078122437,
           null,
           null,
           null,
           null,
           null,
           null,
           null,
           null,
           null,
           null,
           null,
           null,
           null,
           null,
           null,
           null,
           null,
           null,
           null,
           null,
           null,
           null
          ],
          [
           null,
           null,
           null,
           null,
           null,
           null,
           null,
           null,
           null,
           null,
           null,
           null,
           null,
           null,
           null,
           null,
           null,
           null,
           null,
           null,
           null,
           null,
           null,
           null,
           null,
           null,
           null,
           null,
           0.2330324575304985,
           null,
           null,
           null,
           null
          ],
          [
           null,
           null,
           null,
           null,
           null,
           null,
           null,
           null,
           null,
           null,
           null,
           null,
           null,
           null,
           null,
           null,
           null,
           null,
           null,
           null,
           null,
           null,
           null,
           null,
           null,
           0.2708234563469887,
           null,
           null,
           null,
           null,
           null,
           null,
           null
          ],
          [
           0.26958279125392437,
           null,
           null,
           null,
           null,
           null,
           null,
           null,
           null,
           null,
           null,
           null,
           null,
           null,
           null,
           null,
           null,
           null,
           null,
           null,
           null,
           null,
           null,
           null,
           null,
           null,
           null,
           null,
           null,
           null,
           null,
           null,
           null
          ],
          [
           null,
           null,
           null,
           null,
           null,
           null,
           null,
           null,
           null,
           0.2656950391829014,
           null,
           null,
           null,
           null,
           null,
           null,
           null,
           null,
           null,
           null,
           null,
           null,
           null,
           null,
           null,
           null,
           null,
           null,
           null,
           null,
           null,
           null,
           null
          ],
          [
           null,
           null,
           0.2883530855178833,
           null,
           null,
           null,
           null,
           null,
           null,
           null,
           null,
           null,
           null,
           null,
           null,
           null,
           null,
           null,
           null,
           null,
           null,
           null,
           null,
           null,
           null,
           null,
           null,
           null,
           null,
           null,
           null,
           null,
           null
          ],
          [
           null,
           null,
           null,
           null,
           null,
           null,
           null,
           null,
           null,
           null,
           null,
           0.25102086178958416,
           null,
           null,
           null,
           null,
           null,
           null,
           null,
           null,
           null,
           null,
           null,
           null,
           null,
           null,
           null,
           null,
           null,
           null,
           null,
           null,
           null
          ],
          [
           null,
           0.2820313274860382,
           null,
           null,
           null,
           null,
           null,
           null,
           null,
           null,
           null,
           null,
           null,
           null,
           null,
           null,
           null,
           null,
           null,
           null,
           null,
           null,
           null,
           null,
           null,
           null,
           null,
           null,
           null,
           null,
           null,
           null,
           null
          ],
          [
           null,
           null,
           null,
           0.27214717492461205,
           null,
           null,
           null,
           null,
           null,
           null,
           null,
           null,
           null,
           null,
           null,
           null,
           null,
           null,
           null,
           null,
           null,
           null,
           null,
           null,
           null,
           null,
           null,
           null,
           null,
           null,
           null,
           null,
           null
          ],
          [
           null,
           null,
           null,
           null,
           null,
           null,
           null,
           null,
           0.24020745791494846,
           null,
           null,
           null,
           null,
           null,
           null,
           null,
           null,
           null,
           null,
           null,
           null,
           null,
           null,
           null,
           null,
           null,
           null,
           null,
           null,
           null,
           null,
           null,
           null
          ],
          [
           null,
           null,
           null,
           null,
           null,
           null,
           null,
           null,
           null,
           null,
           null,
           null,
           null,
           0.2672870345413685,
           null,
           null,
           null,
           null,
           null,
           null,
           null,
           null,
           null,
           null,
           null,
           null,
           null,
           null,
           null,
           null,
           null,
           null,
           null
          ],
          [
           null,
           null,
           null,
           null,
           null,
           null,
           null,
           null,
           null,
           null,
           null,
           null,
           null,
           null,
           null,
           0.24240343272686005,
           null,
           null,
           null,
           null,
           null,
           null,
           null,
           null,
           null,
           null,
           null,
           null,
           null,
           null,
           null,
           null,
           null
          ],
          [
           null,
           null,
           null,
           null,
           null,
           null,
           null,
           null,
           null,
           null,
           null,
           null,
           null,
           null,
           null,
           null,
           null,
           null,
           null,
           null,
           null,
           null,
           0.2578176222741604,
           null,
           null,
           null,
           null,
           null,
           null,
           null,
           null,
           null,
           null
          ],
          [
           null,
           null,
           null,
           null,
           null,
           null,
           null,
           null,
           null,
           null,
           null,
           null,
           null,
           null,
           null,
           null,
           null,
           null,
           null,
           null,
           null,
           null,
           null,
           null,
           null,
           null,
           null,
           null,
           null,
           null,
           0.2263924852013588,
           null,
           null
          ],
          [
           null,
           null,
           null,
           null,
           null,
           null,
           null,
           null,
           null,
           null,
           null,
           null,
           null,
           null,
           null,
           null,
           null,
           null,
           null,
           null,
           null,
           null,
           null,
           null,
           null,
           null,
           null,
           null,
           null,
           null,
           null,
           0.2556901406496763,
           null
          ],
          [
           null,
           null,
           null,
           null,
           null,
           null,
           null,
           null,
           null,
           null,
           null,
           null,
           null,
           null,
           null,
           null,
           null,
           null,
           null,
           null,
           null,
           null,
           null,
           null,
           0.2643739078193903,
           null,
           null,
           null,
           null,
           null,
           null,
           null,
           null
          ],
          [
           null,
           null,
           null,
           null,
           null,
           null,
           null,
           null,
           null,
           null,
           null,
           null,
           null,
           null,
           null,
           null,
           null,
           null,
           0.2409790586680174,
           null,
           null,
           null,
           null,
           null,
           null,
           null,
           null,
           null,
           null,
           null,
           null,
           null,
           null
          ],
          [
           null,
           null,
           null,
           null,
           null,
           null,
           null,
           null,
           null,
           null,
           null,
           null,
           0.2530394420027733,
           null,
           null,
           null,
           null,
           null,
           null,
           null,
           null,
           null,
           null,
           null,
           null,
           null,
           null,
           null,
           null,
           null,
           null,
           null,
           null
          ],
          [
           null,
           null,
           null,
           null,
           null,
           null,
           null,
           null,
           null,
           null,
           null,
           null,
           null,
           null,
           null,
           null,
           0.22953632660210133,
           null,
           null,
           null,
           null,
           null,
           null,
           null,
           null,
           null,
           null,
           null,
           null,
           null,
           null,
           null,
           null
          ],
          [
           null,
           null,
           null,
           null,
           null,
           null,
           0.25246404111385345,
           null,
           null,
           null,
           null,
           null,
           null,
           null,
           null,
           null,
           null,
           null,
           null,
           null,
           null,
           null,
           null,
           null,
           null,
           null,
           null,
           null,
           null,
           null,
           null,
           null,
           null
          ],
          [
           null,
           null,
           null,
           null,
           null,
           null,
           null,
           null,
           null,
           null,
           null,
           null,
           null,
           null,
           null,
           null,
           null,
           null,
           null,
           null,
           null,
           null,
           null,
           null,
           null,
           null,
           null,
           0.23592069745063782,
           null,
           null,
           null,
           null,
           null
          ],
          [
           null,
           null,
           null,
           null,
           null,
           null,
           null,
           null,
           null,
           null,
           null,
           null,
           null,
           null,
           null,
           null,
           null,
           null,
           null,
           null,
           null,
           null,
           null,
           null,
           null,
           null,
           0.2371191754937172,
           null,
           null,
           null,
           null,
           null,
           null
          ],
          [
           null,
           null,
           null,
           null,
           null,
           null,
           null,
           0.24880902469158173,
           null,
           null,
           null,
           null,
           null,
           null,
           null,
           null,
           null,
           null,
           null,
           null,
           null,
           null,
           null,
           null,
           null,
           null,
           null,
           null,
           null,
           null,
           null,
           null,
           null
          ],
          [
           null,
           null,
           null,
           null,
           null,
           null,
           null,
           null,
           null,
           null,
           null,
           null,
           null,
           null,
           0.23689827509224415,
           null,
           null,
           null,
           null,
           null,
           null,
           null,
           null,
           null,
           null,
           null,
           null,
           null,
           null,
           null,
           null,
           null,
           null
          ],
          [
           null,
           null,
           null,
           null,
           null,
           null,
           null,
           null,
           null,
           null,
           null,
           null,
           null,
           null,
           null,
           null,
           null,
           null,
           null,
           null,
           null,
           null,
           null,
           null,
           null,
           null,
           null,
           null,
           null,
           0.23060715943574905,
           null,
           null,
           null
          ],
          [
           null,
           null,
           null,
           null,
           0.26490793004631996,
           null,
           null,
           null,
           null,
           null,
           null,
           null,
           null,
           null,
           null,
           null,
           null,
           null,
           null,
           null,
           null,
           null,
           null,
           null,
           null,
           null,
           null,
           null,
           null,
           null,
           null,
           null,
           null
          ],
          [
           null,
           null,
           null,
           null,
           null,
           null,
           null,
           null,
           null,
           null,
           null,
           null,
           null,
           null,
           null,
           null,
           null,
           null,
           null,
           null,
           null,
           null,
           null,
           null,
           null,
           null,
           null,
           null,
           null,
           null,
           null,
           null,
           0.23060716595500708
          ],
          [
           null,
           null,
           null,
           null,
           null,
           null,
           null,
           null,
           null,
           null,
           null,
           null,
           null,
           null,
           null,
           null,
           null,
           null,
           null,
           null,
           null,
           0.23027783632278442,
           null,
           null,
           null,
           null,
           null,
           null,
           null,
           null,
           null,
           null,
           null
          ],
          [
           null,
           null,
           null,
           null,
           null,
           null,
           null,
           null,
           null,
           null,
           null,
           null,
           null,
           null,
           null,
           null,
           null,
           0.2390523049980402,
           null,
           null,
           null,
           null,
           null,
           null,
           null,
           null,
           null,
           null,
           null,
           null,
           null,
           null,
           null
          ],
          [
           null,
           null,
           null,
           null,
           null,
           null,
           null,
           null,
           null,
           null,
           null,
           null,
           null,
           null,
           null,
           null,
           null,
           null,
           null,
           null,
           0.24516725353896618,
           null,
           null,
           null,
           null,
           null,
           null,
           null,
           null,
           null,
           null,
           null,
           null
          ],
          [
           null,
           null,
           null,
           null,
           null,
           null,
           null,
           null,
           null,
           null,
           null,
           null,
           null,
           null,
           null,
           null,
           null,
           null,
           null,
           null,
           null,
           null,
           null,
           0.22774771973490715,
           null,
           null,
           null,
           null,
           null,
           null,
           null,
           null,
           null
          ]
         ]
        },
        {
         "marker": {
          "color": "black"
         },
         "mode": "markers",
         "showlegend": false,
         "type": "scatter",
         "x": [
          61.861809340355066,
          64.4523529920253,
          168.39748663593,
          38.63368327828813,
          140.91690956956657,
          170.7675268448263,
          128.93978187621568,
          129.59602989013428,
          246.9653510692827,
          235.36328925805907,
          150.86146384721712,
          112.76004948638199,
          169.83123355686402,
          182.82264052567263,
          181.02675672071888,
          234.34864085779077,
          149.43206402434868,
          181.57794099141697,
          178.8631471298371,
          249.61604322727672,
          244.19351317529978,
          255.79289908804088,
          250.14969779831608,
          244.38432972654155,
          255.4506017615034,
          234.0979216117891,
          226.83203036771795,
          233.09953582609856,
          189.78238213239194,
          217.25426989833403,
          200.99073155697914,
          189.21936630739114
         ],
         "xaxis": "x10",
         "y": [
          103.38247964137062,
          78.37951042007731,
          64.63685970128728,
          56.05442905833494,
          246.821232272477,
          82.2936336065144,
          251.6532427272772,
          32.84689993028172,
          41.513119482496954,
          45.61101540162852,
          136.12168886913398,
          119.13677690135066,
          36.72645284317059,
          175.54936057823517,
          173.1358858180036,
          224.05263754662184,
          248.62468920052441,
          248.98039327823994,
          237.11717359904114,
          249.0519584491777,
          248.17716911171402,
          252.90728874411573,
          209.96405982832783,
          247.63064600646598,
          219.0136873145725,
          255.92409928867525,
          255.06495663917065,
          184.92433447088666,
          255.66947266620062,
          255.66962619126951,
          226.47373116528212,
          243.45353023329773
         ],
         "yaxis": "y10"
        },
        {
         "colorbar": {
          "title": {
           "text": "Objective Value"
          }
         },
         "colorscale": [
          [
           0,
           "rgb(247,251,255)"
          ],
          [
           0.125,
           "rgb(222,235,247)"
          ],
          [
           0.25,
           "rgb(198,219,239)"
          ],
          [
           0.375,
           "rgb(158,202,225)"
          ],
          [
           0.5,
           "rgb(107,174,214)"
          ],
          [
           0.625,
           "rgb(66,146,198)"
          ],
          [
           0.75,
           "rgb(33,113,181)"
          ],
          [
           0.875,
           "rgb(8,81,156)"
          ],
          [
           1,
           "rgb(8,48,107)"
          ]
         ],
         "connectgaps": true,
         "contours": {
          "coloring": "heatmap"
         },
         "hoverinfo": "none",
         "line": {
          "smoothing": 1.3
         },
         "reversescale": true,
         "showscale": false,
         "type": "contour",
         "x": [
          38.63368327828813,
          61.861809340355066,
          64.4523529920253,
          112.76004948638199,
          128.93978187621568,
          129.59602989013428,
          140.91690956956657,
          149.43206402434868,
          150.86146384721712,
          168.39748663593,
          169.83123355686402,
          170.7675268448263,
          178.8631471298371,
          181.02675672071888,
          181.57794099141697,
          182.82264052567263,
          189.21936630739114,
          189.78238213239194,
          200.99073155697914,
          208.1738433957372,
          217.25426989833403,
          226.83203036771795,
          233.09953582609856,
          234.0979216117891,
          234.34864085779077,
          235.36328925805907,
          244.19351317529978,
          244.38432972654155,
          246.9653510692827,
          249.61604322727672,
          250.14969779831608,
          255.4506017615034,
          255.79289908804088
         ],
         "xaxis": "x14",
         "y": [
          36.39426249330998,
          44.5254852982493,
          77.47623236725656,
          96.2077203980807,
          104.46616647058897,
          108.69814813858511,
          113.60538499092658,
          123.6653863708816,
          163.6622901731585,
          181.15512453655936,
          201.13371172376014,
          203.3349719220077,
          217.2395452497521
         ],
         "yaxis": "y14",
         "z": [
          [
           null,
           null,
           null,
           null,
           null,
           null,
           0.25246404111385345,
           null,
           null,
           null,
           null,
           null,
           null,
           null,
           null,
           null,
           null,
           null,
           null,
           null,
           null,
           null,
           null,
           null,
           null,
           null,
           null,
           null,
           null,
           null,
           null,
           null,
           null
          ],
          [
           null,
           null,
           null,
           null,
           0.26490793004631996,
           null,
           null,
           null,
           null,
           null,
           null,
           null,
           null,
           null,
           null,
           null,
           null,
           null,
           null,
           null,
           null,
           null,
           null,
           null,
           null,
           null,
           null,
           null,
           null,
           null,
           null,
           null,
           null
          ],
          [
           null,
           null,
           null,
           null,
           null,
           null,
           null,
           null,
           null,
           0.2656950391829014,
           null,
           null,
           null,
           null,
           null,
           null,
           null,
           null,
           null,
           null,
           null,
           null,
           null,
           null,
           null,
           null,
           null,
           null,
           null,
           null,
           null,
           null,
           null
          ],
          [
           null,
           null,
           0.2883530855178833,
           null,
           null,
           null,
           null,
           null,
           null,
           null,
           null,
           null,
           null,
           null,
           null,
           null,
           null,
           null,
           null,
           null,
           null,
           null,
           null,
           null,
           null,
           null,
           null,
           null,
           null,
           null,
           null,
           null,
           null
          ],
          [
           null,
           null,
           null,
           null,
           null,
           null,
           null,
           null,
           null,
           null,
           null,
           null,
           null,
           null,
           null,
           null,
           null,
           null,
           null,
           null,
           null,
           null,
           null,
           null,
           0.2643739078193903,
           null,
           null,
           null,
           null,
           null,
           null,
           null,
           null
          ],
          [
           null,
           null,
           null,
           null,
           null,
           null,
           null,
           null,
           null,
           null,
           null,
           null,
           null,
           null,
           null,
           0.24240343272686005,
           null,
           null,
           null,
           null,
           null,
           null,
           null,
           null,
           null,
           null,
           null,
           null,
           null,
           null,
           null,
           null,
           null
          ],
          [
           null,
           null,
           null,
           null,
           null,
           null,
           null,
           null,
           null,
           null,
           null,
           null,
           null,
           0.2672870345413685,
           null,
           null,
           null,
           null,
           null,
           null,
           null,
           null,
           null,
           null,
           null,
           null,
           null,
           null,
           null,
           null,
           null,
           null,
           null
          ],
          [
           0.26958279125392437,
           null,
           null,
           null,
           null,
           null,
           null,
           null,
           null,
           null,
           null,
           null,
           null,
           null,
           null,
           null,
           null,
           null,
           null,
           null,
           null,
           null,
           null,
           null,
           null,
           null,
           null,
           null,
           null,
           null,
           null,
           null,
           null
          ],
          [
           null,
           null,
           null,
           null,
           null,
           0.253996767103672,
           null,
           null,
           null,
           null,
           null,
           null,
           null,
           null,
           null,
           null,
           null,
           null,
           null,
           null,
           null,
           null,
           null,
           null,
           null,
           null,
           null,
           null,
           null,
           null,
           null,
           null,
           null
          ],
          [
           null,
           null,
           null,
           null,
           null,
           null,
           null,
           null,
           null,
           null,
           null,
           0.25102086178958416,
           null,
           null,
           null,
           null,
           null,
           null,
           null,
           null,
           null,
           null,
           null,
           null,
           null,
           null,
           null,
           null,
           null,
           null,
           null,
           null,
           null
          ],
          [
           null,
           null,
           null,
           0.27214717492461205,
           null,
           null,
           null,
           null,
           null,
           null,
           null,
           null,
           null,
           null,
           null,
           null,
           null,
           null,
           null,
           null,
           null,
           null,
           null,
           null,
           null,
           null,
           null,
           null,
           null,
           null,
           null,
           null,
           null
          ],
          [
           null,
           null,
           null,
           null,
           null,
           null,
           null,
           null,
           null,
           null,
           0.2553078122437,
           null,
           null,
           null,
           null,
           null,
           null,
           null,
           null,
           null,
           null,
           null,
           null,
           null,
           null,
           null,
           null,
           null,
           null,
           null,
           null,
           null,
           null
          ],
          [
           null,
           null,
           null,
           null,
           null,
           null,
           null,
           null,
           0.24020745791494846,
           null,
           null,
           null,
           null,
           null,
           null,
           null,
           null,
           null,
           null,
           null,
           null,
           null,
           null,
           null,
           null,
           null,
           null,
           null,
           null,
           null,
           null,
           null,
           null
          ]
         ]
        },
        {
         "marker": {
          "color": "black"
         },
         "mode": "markers",
         "showlegend": false,
         "type": "scatter",
         "x": [
          64.4523529920253,
          168.39748663593,
          38.63368327828813,
          140.91690956956657,
          170.7675268448263,
          128.93978187621568,
          129.59602989013428,
          150.86146384721712,
          112.76004948638199,
          169.83123355686402,
          182.82264052567263,
          181.02675672071888,
          234.34864085779077
         ],
         "xaxis": "x14",
         "y": [
          96.2077203980807,
          77.47623236725656,
          123.6653863708816,
          36.39426249330998,
          181.15512453655936,
          44.5254852982493,
          163.6622901731585,
          217.2395452497521,
          201.13371172376014,
          203.3349719220077,
          108.69814813858511,
          113.60538499092658,
          104.46616647058897
         ],
         "yaxis": "y14"
        },
        {
         "colorbar": {
          "title": {
           "text": "Objective Value"
          }
         },
         "colorscale": [
          [
           0,
           "rgb(247,251,255)"
          ],
          [
           0.125,
           "rgb(222,235,247)"
          ],
          [
           0.25,
           "rgb(198,219,239)"
          ],
          [
           0.375,
           "rgb(158,202,225)"
          ],
          [
           0.5,
           "rgb(107,174,214)"
          ],
          [
           0.625,
           "rgb(66,146,198)"
          ],
          [
           0.75,
           "rgb(33,113,181)"
          ],
          [
           0.875,
           "rgb(8,81,156)"
          ],
          [
           1,
           "rgb(8,48,107)"
          ]
         ],
         "connectgaps": true,
         "contours": {
          "coloring": "heatmap"
         },
         "hoverinfo": "none",
         "line": {
          "smoothing": 1.3
         },
         "reversescale": true,
         "showscale": false,
         "type": "contour",
         "x": [
          32.84689993028172,
          36.72645284317059,
          41.513119482496954,
          45.61101540162852,
          56.05442905833494,
          64.63685970128728,
          78.37951042007731,
          82.2936336065144,
          103.38247964137062,
          119.13677690135066,
          136.12168886913398,
          173.1358858180036,
          175.54936057823517,
          184.92433447088666,
          209.96405982832783,
          219.0136873145725,
          224.05263754662184,
          226.47373116528212,
          237.11717359904114,
          243.45353023329773,
          246.821232272477,
          247.63064600646598,
          248.17716911171402,
          248.62468920052441,
          248.98039327823994,
          249.0519584491777,
          251.6532427272772,
          252.90728874411573,
          255.06495663917065,
          255.66947266620062,
          255.66962619126951,
          255.92409928867525
         ],
         "xaxis": "x3",
         "y": [
          1,
          2,
          3
         ],
         "yaxis": "y3",
         "z": [
          [
           null,
           null,
           null,
           null,
           null,
           null,
           null,
           null,
           null,
           null,
           null,
           null,
           null,
           null,
           null,
           null,
           null,
           null,
           null,
           null,
           null,
           null,
           null,
           null,
           null,
           null,
           null,
           null,
           null,
           null,
           null,
           null
          ],
          [
           null,
           null,
           0.2330324575304985,
           0.2708234563469887,
           null,
           null,
           null,
           null,
           0.2820313274860382,
           null,
           null,
           null,
           null,
           0.2578176222741604,
           0.2263924852013588,
           0.2556901406496763,
           null,
           0.2409790586680174,
           0.2530394420027733,
           0.22953632660210133,
           null,
           0.23592069745063782,
           0.2371191754937172,
           0.24880902469158173,
           0.23689827509224415,
           0.23060715943574905,
           null,
           0.23060716595500708,
           0.23027783632278442,
           0.2390523049980402,
           0.24516725353896618,
           0.22774771973490715
          ],
          [
           0.253996767103672,
           0.2553078122437,
           null,
           null,
           0.26958279125392437,
           0.2656950391829014,
           0.2883530855178833,
           0.25102086178958416,
           null,
           0.27214717492461205,
           0.24020745791494846,
           0.2672870345413685,
           0.24240343272686005,
           null,
           null,
           null,
           0.2643739078193903,
           null,
           null,
           null,
           0.25246404111385345,
           null,
           null,
           null,
           null,
           null,
           0.26490793004631996,
           null,
           null,
           null,
           null,
           null
          ]
         ]
        },
        {
         "marker": {
          "color": "black"
         },
         "mode": "markers",
         "showlegend": false,
         "type": "scatter",
         "x": [
          103.38247964137062,
          78.37951042007731,
          64.63685970128728,
          56.05442905833494,
          246.821232272477,
          82.2936336065144,
          251.6532427272772,
          32.84689993028172,
          41.513119482496954,
          45.61101540162852,
          136.12168886913398,
          119.13677690135066,
          36.72645284317059,
          175.54936057823517,
          173.1358858180036,
          224.05263754662184,
          248.62468920052441,
          248.98039327823994,
          237.11717359904114,
          249.0519584491777,
          248.17716911171402,
          252.90728874411573,
          209.96405982832783,
          247.63064600646598,
          219.0136873145725,
          255.92409928867525,
          255.06495663917065,
          184.92433447088666,
          255.66947266620062,
          255.66962619126951,
          226.47373116528212,
          243.45353023329773
         ],
         "xaxis": "x3",
         "y": [
          2,
          3,
          3,
          3,
          3,
          3,
          3,
          3,
          2,
          2,
          3,
          3,
          3,
          3,
          3,
          3,
          2,
          2,
          2,
          2,
          2,
          2,
          2,
          2,
          2,
          2,
          2,
          2,
          2,
          2,
          2,
          2
         ],
         "yaxis": "y3"
        },
        {
         "colorbar": {
          "title": {
           "text": "Objective Value"
          }
         },
         "colorscale": [
          [
           0,
           "rgb(247,251,255)"
          ],
          [
           0.125,
           "rgb(222,235,247)"
          ],
          [
           0.25,
           "rgb(198,219,239)"
          ],
          [
           0.375,
           "rgb(158,202,225)"
          ],
          [
           0.5,
           "rgb(107,174,214)"
          ],
          [
           0.625,
           "rgb(66,146,198)"
          ],
          [
           0.75,
           "rgb(33,113,181)"
          ],
          [
           0.875,
           "rgb(8,81,156)"
          ],
          [
           1,
           "rgb(8,48,107)"
          ]
         ],
         "connectgaps": true,
         "contours": {
          "coloring": "heatmap"
         },
         "hoverinfo": "none",
         "line": {
          "smoothing": 1.3
         },
         "reversescale": true,
         "showscale": false,
         "type": "contour",
         "x": [
          32.84689993028172,
          36.72645284317059,
          41.513119482496954,
          45.61101540162852,
          56.05442905833494,
          64.63685970128728,
          78.37951042007731,
          82.2936336065144,
          103.38247964137062,
          119.13677690135066,
          136.12168886913398,
          173.1358858180036,
          175.54936057823517,
          184.92433447088666,
          209.96405982832783,
          219.0136873145725,
          224.05263754662184,
          226.47373116528212,
          237.11717359904114,
          243.45353023329773,
          246.821232272477,
          247.63064600646598,
          248.17716911171402,
          248.62468920052441,
          248.98039327823994,
          249.0519584491777,
          251.6532427272772,
          252.90728874411573,
          255.06495663917065,
          255.66947266620062,
          255.66962619126951,
          255.92409928867525
         ],
         "xaxis": "x7",
         "y": [
          38.63368327828813,
          61.861809340355066,
          64.4523529920253,
          112.76004948638199,
          128.93978187621568,
          129.59602989013428,
          140.91690956956657,
          149.43206402434868,
          150.86146384721712,
          168.39748663593,
          169.83123355686402,
          170.7675268448263,
          178.8631471298371,
          181.02675672071888,
          181.57794099141697,
          182.82264052567263,
          189.21936630739114,
          189.78238213239194,
          200.99073155697914,
          208.1738433957372,
          217.25426989833403,
          226.83203036771795,
          233.09953582609856,
          234.0979216117891,
          234.34864085779077,
          235.36328925805907,
          244.19351317529978,
          244.38432972654155,
          246.9653510692827,
          249.61604322727672,
          250.14969779831608,
          255.4506017615034,
          255.79289908804088
         ],
         "yaxis": "y7",
         "z": [
          [
           null,
           null,
           null,
           null,
           0.26958279125392437,
           null,
           null,
           null,
           null,
           null,
           null,
           null,
           null,
           null,
           null,
           null,
           null,
           null,
           null,
           null,
           null,
           null,
           null,
           null,
           null,
           null,
           null,
           null,
           null,
           null,
           null,
           null
          ],
          [
           null,
           null,
           null,
           null,
           null,
           null,
           null,
           null,
           0.2820313274860382,
           null,
           null,
           null,
           null,
           null,
           null,
           null,
           null,
           null,
           null,
           null,
           null,
           null,
           null,
           null,
           null,
           null,
           null,
           null,
           null,
           null,
           null,
           null
          ],
          [
           null,
           null,
           null,
           null,
           null,
           null,
           0.2883530855178833,
           null,
           null,
           null,
           null,
           null,
           null,
           null,
           null,
           null,
           null,
           null,
           null,
           null,
           null,
           null,
           null,
           null,
           null,
           null,
           null,
           null,
           null,
           null,
           null,
           null
          ],
          [
           null,
           null,
           null,
           null,
           null,
           null,
           null,
           null,
           null,
           0.27214717492461205,
           null,
           null,
           null,
           null,
           null,
           null,
           null,
           null,
           null,
           null,
           null,
           null,
           null,
           null,
           null,
           null,
           null,
           null,
           null,
           null,
           null,
           null
          ],
          [
           null,
           null,
           null,
           null,
           null,
           null,
           null,
           null,
           null,
           null,
           null,
           null,
           null,
           null,
           null,
           null,
           null,
           null,
           null,
           null,
           null,
           null,
           null,
           null,
           null,
           null,
           0.26490793004631996,
           null,
           null,
           null,
           null,
           null
          ],
          [
           0.253996767103672,
           null,
           null,
           null,
           null,
           null,
           null,
           null,
           null,
           null,
           null,
           null,
           null,
           null,
           null,
           null,
           null,
           null,
           null,
           null,
           null,
           null,
           null,
           null,
           null,
           null,
           null,
           null,
           null,
           null,
           null,
           null
          ],
          [
           null,
           null,
           null,
           null,
           null,
           null,
           null,
           null,
           null,
           null,
           null,
           null,
           null,
           null,
           null,
           null,
           null,
           null,
           null,
           null,
           0.25246404111385345,
           null,
           null,
           null,
           null,
           null,
           null,
           null,
           null,
           null,
           null,
           null
          ],
          [
           null,
           null,
           null,
           null,
           null,
           null,
           null,
           null,
           null,
           null,
           null,
           null,
           null,
           null,
           null,
           null,
           null,
           null,
           null,
           null,
           null,
           null,
           null,
           0.24880902469158173,
           null,
           null,
           null,
           null,
           null,
           null,
           null,
           null
          ],
          [
           null,
           null,
           null,
           null,
           null,
           null,
           null,
           null,
           null,
           null,
           0.24020745791494846,
           null,
           null,
           null,
           null,
           null,
           null,
           null,
           null,
           null,
           null,
           null,
           null,
           null,
           null,
           null,
           null,
           null,
           null,
           null,
           null,
           null
          ],
          [
           null,
           null,
           null,
           null,
           null,
           0.2656950391829014,
           null,
           null,
           null,
           null,
           null,
           null,
           null,
           null,
           null,
           null,
           null,
           null,
           null,
           null,
           null,
           null,
           null,
           null,
           null,
           null,
           null,
           null,
           null,
           null,
           null,
           null
          ],
          [
           null,
           0.2553078122437,
           null,
           null,
           null,
           null,
           null,
           null,
           null,
           null,
           null,
           null,
           null,
           null,
           null,
           null,
           null,
           null,
           null,
           null,
           null,
           null,
           null,
           null,
           null,
           null,
           null,
           null,
           null,
           null,
           null,
           null
          ],
          [
           null,
           null,
           null,
           null,
           null,
           null,
           null,
           0.25102086178958416,
           null,
           null,
           null,
           null,
           null,
           null,
           null,
           null,
           null,
           null,
           null,
           null,
           null,
           null,
           null,
           null,
           null,
           null,
           null,
           null,
           null,
           null,
           null,
           null
          ],
          [
           null,
           null,
           null,
           null,
           null,
           null,
           null,
           null,
           null,
           null,
           null,
           null,
           null,
           null,
           null,
           null,
           null,
           null,
           0.2530394420027733,
           null,
           null,
           null,
           null,
           null,
           null,
           null,
           null,
           null,
           null,
           null,
           null,
           null
          ],
          [
           null,
           null,
           null,
           null,
           null,
           null,
           null,
           null,
           null,
           null,
           null,
           0.2672870345413685,
           null,
           null,
           null,
           null,
           null,
           null,
           null,
           null,
           null,
           null,
           null,
           null,
           null,
           null,
           null,
           null,
           null,
           null,
           null,
           null
          ],
          [
           null,
           null,
           null,
           null,
           null,
           null,
           null,
           null,
           null,
           null,
           null,
           null,
           null,
           null,
           null,
           null,
           null,
           null,
           null,
           null,
           null,
           null,
           null,
           null,
           0.23689827509224415,
           null,
           null,
           null,
           null,
           null,
           null,
           null
          ],
          [
           null,
           null,
           null,
           null,
           null,
           null,
           null,
           null,
           null,
           null,
           null,
           null,
           0.24240343272686005,
           null,
           null,
           null,
           null,
           null,
           null,
           null,
           null,
           null,
           null,
           null,
           null,
           null,
           null,
           null,
           null,
           null,
           null,
           null
          ],
          [
           null,
           null,
           null,
           null,
           null,
           null,
           null,
           null,
           null,
           null,
           null,
           null,
           null,
           null,
           null,
           null,
           null,
           null,
           null,
           0.22953632660210133,
           null,
           null,
           null,
           null,
           null,
           null,
           null,
           null,
           null,
           null,
           null,
           null
          ],
          [
           null,
           null,
           null,
           null,
           null,
           null,
           null,
           null,
           null,
           null,
           null,
           null,
           null,
           null,
           null,
           null,
           null,
           null,
           null,
           null,
           null,
           null,
           null,
           null,
           null,
           null,
           null,
           null,
           null,
           0.2390523049980402,
           null,
           null
          ],
          [
           null,
           null,
           null,
           null,
           null,
           null,
           null,
           null,
           null,
           null,
           null,
           null,
           null,
           null,
           null,
           null,
           null,
           0.2409790586680174,
           null,
           null,
           null,
           null,
           null,
           null,
           null,
           null,
           null,
           null,
           null,
           null,
           null,
           null
          ],
          [
           null,
           null,
           null,
           null,
           null,
           null,
           null,
           null,
           null,
           null,
           null,
           null,
           null,
           null,
           null,
           null,
           null,
           null,
           null,
           null,
           null,
           null,
           null,
           null,
           null,
           null,
           null,
           null,
           null,
           null,
           null,
           null
          ],
          [
           null,
           null,
           null,
           null,
           null,
           null,
           null,
           null,
           null,
           null,
           null,
           null,
           null,
           null,
           null,
           null,
           null,
           null,
           null,
           null,
           null,
           null,
           null,
           null,
           null,
           null,
           null,
           null,
           null,
           null,
           0.24516725353896618,
           null
          ],
          [
           null,
           null,
           null,
           null,
           null,
           null,
           null,
           null,
           null,
           null,
           null,
           null,
           null,
           null,
           null,
           null,
           null,
           null,
           null,
           null,
           null,
           null,
           null,
           null,
           null,
           null,
           null,
           null,
           0.23027783632278442,
           null,
           null,
           null
          ],
          [
           null,
           null,
           null,
           null,
           null,
           null,
           null,
           null,
           null,
           null,
           null,
           null,
           null,
           0.2578176222741604,
           null,
           null,
           null,
           null,
           null,
           null,
           null,
           null,
           null,
           null,
           null,
           null,
           null,
           null,
           null,
           null,
           null,
           null
          ],
          [
           null,
           null,
           null,
           null,
           null,
           null,
           null,
           null,
           null,
           null,
           null,
           null,
           null,
           null,
           null,
           null,
           null,
           null,
           null,
           null,
           null,
           null,
           null,
           null,
           null,
           null,
           null,
           null,
           null,
           null,
           null,
           0.22774771973490715
          ],
          [
           null,
           null,
           null,
           null,
           null,
           null,
           null,
           null,
           null,
           null,
           null,
           null,
           null,
           null,
           null,
           null,
           0.2643739078193903,
           null,
           null,
           null,
           null,
           null,
           null,
           null,
           null,
           null,
           null,
           null,
           null,
           null,
           null,
           null
          ],
          [
           null,
           null,
           null,
           0.2708234563469887,
           null,
           null,
           null,
           null,
           null,
           null,
           null,
           null,
           null,
           null,
           null,
           null,
           null,
           null,
           null,
           null,
           null,
           null,
           null,
           null,
           null,
           null,
           null,
           null,
           null,
           null,
           null,
           null
          ],
          [
           null,
           null,
           null,
           null,
           null,
           null,
           null,
           null,
           null,
           null,
           null,
           null,
           null,
           null,
           null,
           null,
           null,
           null,
           null,
           null,
           null,
           null,
           0.2371191754937172,
           null,
           null,
           null,
           null,
           null,
           null,
           null,
           null,
           null
          ],
          [
           null,
           null,
           null,
           null,
           null,
           null,
           null,
           null,
           null,
           null,
           null,
           null,
           null,
           null,
           null,
           null,
           null,
           null,
           null,
           null,
           null,
           0.23592069745063782,
           null,
           null,
           null,
           null,
           null,
           null,
           null,
           null,
           null,
           null
          ],
          [
           null,
           null,
           0.2330324575304985,
           null,
           null,
           null,
           null,
           null,
           null,
           null,
           null,
           null,
           null,
           null,
           null,
           null,
           null,
           null,
           null,
           null,
           null,
           null,
           null,
           null,
           null,
           null,
           null,
           null,
           null,
           null,
           null,
           null
          ],
          [
           null,
           null,
           null,
           null,
           null,
           null,
           null,
           null,
           null,
           null,
           null,
           null,
           null,
           null,
           null,
           null,
           null,
           null,
           null,
           null,
           null,
           null,
           null,
           null,
           null,
           0.23060715943574905,
           null,
           null,
           null,
           null,
           null,
           null
          ],
          [
           null,
           null,
           null,
           null,
           null,
           null,
           null,
           null,
           null,
           null,
           null,
           null,
           null,
           null,
           0.2263924852013588,
           null,
           null,
           null,
           null,
           null,
           null,
           null,
           null,
           null,
           null,
           null,
           null,
           null,
           null,
           null,
           null,
           null
          ],
          [
           null,
           null,
           null,
           null,
           null,
           null,
           null,
           null,
           null,
           null,
           null,
           null,
           null,
           null,
           null,
           0.2556901406496763,
           null,
           null,
           null,
           null,
           null,
           null,
           null,
           null,
           null,
           null,
           null,
           null,
           null,
           null,
           null,
           null
          ],
          [
           null,
           null,
           null,
           null,
           null,
           null,
           null,
           null,
           null,
           null,
           null,
           null,
           null,
           null,
           null,
           null,
           null,
           null,
           null,
           null,
           null,
           null,
           null,
           null,
           null,
           null,
           null,
           0.23060716595500708,
           null,
           null,
           null,
           null
          ]
         ]
        },
        {
         "marker": {
          "color": "black"
         },
         "mode": "markers",
         "showlegend": false,
         "type": "scatter",
         "x": [
          103.38247964137062,
          78.37951042007731,
          64.63685970128728,
          56.05442905833494,
          246.821232272477,
          82.2936336065144,
          251.6532427272772,
          32.84689993028172,
          41.513119482496954,
          45.61101540162852,
          136.12168886913398,
          119.13677690135066,
          36.72645284317059,
          175.54936057823517,
          173.1358858180036,
          224.05263754662184,
          248.62468920052441,
          248.98039327823994,
          237.11717359904114,
          249.0519584491777,
          248.17716911171402,
          252.90728874411573,
          209.96405982832783,
          247.63064600646598,
          219.0136873145725,
          255.92409928867525,
          255.06495663917065,
          184.92433447088666,
          255.66947266620062,
          255.66962619126951,
          226.47373116528212,
          243.45353023329773
         ],
         "xaxis": "x7",
         "y": [
          61.861809340355066,
          64.4523529920253,
          168.39748663593,
          38.63368327828813,
          140.91690956956657,
          170.7675268448263,
          128.93978187621568,
          129.59602989013428,
          246.9653510692827,
          235.36328925805907,
          150.86146384721712,
          112.76004948638199,
          169.83123355686402,
          182.82264052567263,
          181.02675672071888,
          234.34864085779077,
          149.43206402434868,
          181.57794099141697,
          178.8631471298371,
          249.61604322727672,
          244.19351317529978,
          255.79289908804088,
          250.14969779831608,
          244.38432972654155,
          255.4506017615034,
          234.0979216117891,
          226.83203036771795,
          233.09953582609856,
          189.78238213239194,
          217.25426989833403,
          200.99073155697914,
          189.21936630739114
         ],
         "yaxis": "y7"
        },
        {
         "type": "scatter",
         "xaxis": "x11",
         "yaxis": "y11"
        },
        {
         "colorbar": {
          "title": {
           "text": "Objective Value"
          }
         },
         "colorscale": [
          [
           0,
           "rgb(247,251,255)"
          ],
          [
           0.125,
           "rgb(222,235,247)"
          ],
          [
           0.25,
           "rgb(198,219,239)"
          ],
          [
           0.375,
           "rgb(158,202,225)"
          ],
          [
           0.5,
           "rgb(107,174,214)"
          ],
          [
           0.625,
           "rgb(66,146,198)"
          ],
          [
           0.75,
           "rgb(33,113,181)"
          ],
          [
           0.875,
           "rgb(8,81,156)"
          ],
          [
           1,
           "rgb(8,48,107)"
          ]
         ],
         "connectgaps": true,
         "contours": {
          "coloring": "heatmap"
         },
         "hoverinfo": "none",
         "line": {
          "smoothing": 1.3
         },
         "reversescale": true,
         "showscale": false,
         "type": "contour",
         "x": [
          32.84689993028172,
          36.72645284317059,
          41.513119482496954,
          45.61101540162852,
          56.05442905833494,
          64.63685970128728,
          78.37951042007731,
          82.2936336065144,
          103.38247964137062,
          119.13677690135066,
          136.12168886913398,
          173.1358858180036,
          175.54936057823517,
          184.92433447088666,
          209.96405982832783,
          219.0136873145725,
          224.05263754662184,
          226.47373116528212,
          237.11717359904114,
          243.45353023329773,
          246.821232272477,
          247.63064600646598,
          248.17716911171402,
          248.62468920052441,
          248.98039327823994,
          249.0519584491777,
          251.6532427272772,
          252.90728874411573,
          255.06495663917065,
          255.66947266620062,
          255.66962619126951,
          255.92409928867525
         ],
         "xaxis": "x15",
         "y": [
          36.39426249330998,
          44.5254852982493,
          77.47623236725656,
          96.2077203980807,
          104.46616647058897,
          108.69814813858511,
          113.60538499092658,
          123.6653863708816,
          163.6622901731585,
          181.15512453655936,
          201.13371172376014,
          203.3349719220077,
          217.2395452497521
         ],
         "yaxis": "y15",
         "z": [
          [
           null,
           null,
           null,
           null,
           null,
           null,
           null,
           null,
           null,
           null,
           null,
           null,
           null,
           null,
           null,
           null,
           null,
           null,
           null,
           null,
           0.25246404111385345,
           null,
           null,
           null,
           null,
           null,
           null,
           null,
           null,
           null,
           null,
           null
          ],
          [
           null,
           null,
           null,
           null,
           null,
           null,
           null,
           null,
           null,
           null,
           null,
           null,
           null,
           null,
           null,
           null,
           null,
           null,
           null,
           null,
           null,
           null,
           null,
           null,
           null,
           null,
           0.26490793004631996,
           null,
           null,
           null,
           null,
           null
          ],
          [
           null,
           null,
           null,
           null,
           null,
           0.2656950391829014,
           null,
           null,
           null,
           null,
           null,
           null,
           null,
           null,
           null,
           null,
           null,
           null,
           null,
           null,
           null,
           null,
           null,
           null,
           null,
           null,
           null,
           null,
           null,
           null,
           null,
           null
          ],
          [
           null,
           null,
           null,
           null,
           null,
           null,
           0.2883530855178833,
           null,
           null,
           null,
           null,
           null,
           null,
           null,
           null,
           null,
           null,
           null,
           null,
           null,
           null,
           null,
           null,
           null,
           null,
           null,
           null,
           null,
           null,
           null,
           null,
           null
          ],
          [
           null,
           null,
           null,
           null,
           null,
           null,
           null,
           null,
           null,
           null,
           null,
           null,
           null,
           null,
           null,
           null,
           0.2643739078193903,
           null,
           null,
           null,
           null,
           null,
           null,
           null,
           null,
           null,
           null,
           null,
           null,
           null,
           null,
           null
          ],
          [
           null,
           null,
           null,
           null,
           null,
           null,
           null,
           null,
           null,
           null,
           null,
           null,
           0.24240343272686005,
           null,
           null,
           null,
           null,
           null,
           null,
           null,
           null,
           null,
           null,
           null,
           null,
           null,
           null,
           null,
           null,
           null,
           null,
           null
          ],
          [
           null,
           null,
           null,
           null,
           null,
           null,
           null,
           null,
           null,
           null,
           null,
           0.2672870345413685,
           null,
           null,
           null,
           null,
           null,
           null,
           null,
           null,
           null,
           null,
           null,
           null,
           null,
           null,
           null,
           null,
           null,
           null,
           null,
           null
          ],
          [
           null,
           null,
           null,
           null,
           0.26958279125392437,
           null,
           null,
           null,
           null,
           null,
           null,
           null,
           null,
           null,
           null,
           null,
           null,
           null,
           null,
           null,
           null,
           null,
           null,
           null,
           null,
           null,
           null,
           null,
           null,
           null,
           null,
           null
          ],
          [
           0.253996767103672,
           null,
           null,
           null,
           null,
           null,
           null,
           null,
           null,
           null,
           null,
           null,
           null,
           null,
           null,
           null,
           null,
           null,
           null,
           null,
           null,
           null,
           null,
           null,
           null,
           null,
           null,
           null,
           null,
           null,
           null,
           null
          ],
          [
           null,
           null,
           null,
           null,
           null,
           null,
           null,
           0.25102086178958416,
           null,
           null,
           null,
           null,
           null,
           null,
           null,
           null,
           null,
           null,
           null,
           null,
           null,
           null,
           null,
           null,
           null,
           null,
           null,
           null,
           null,
           null,
           null,
           null
          ],
          [
           null,
           null,
           null,
           null,
           null,
           null,
           null,
           null,
           null,
           0.27214717492461205,
           null,
           null,
           null,
           null,
           null,
           null,
           null,
           null,
           null,
           null,
           null,
           null,
           null,
           null,
           null,
           null,
           null,
           null,
           null,
           null,
           null,
           null
          ],
          [
           null,
           0.2553078122437,
           null,
           null,
           null,
           null,
           null,
           null,
           null,
           null,
           null,
           null,
           null,
           null,
           null,
           null,
           null,
           null,
           null,
           null,
           null,
           null,
           null,
           null,
           null,
           null,
           null,
           null,
           null,
           null,
           null,
           null
          ],
          [
           null,
           null,
           null,
           null,
           null,
           null,
           null,
           null,
           null,
           null,
           0.24020745791494846,
           null,
           null,
           null,
           null,
           null,
           null,
           null,
           null,
           null,
           null,
           null,
           null,
           null,
           null,
           null,
           null,
           null,
           null,
           null,
           null,
           null
          ]
         ]
        },
        {
         "marker": {
          "color": "black"
         },
         "mode": "markers",
         "showlegend": false,
         "type": "scatter",
         "x": [
          78.37951042007731,
          64.63685970128728,
          56.05442905833494,
          246.821232272477,
          82.2936336065144,
          251.6532427272772,
          32.84689993028172,
          136.12168886913398,
          119.13677690135066,
          36.72645284317059,
          175.54936057823517,
          173.1358858180036,
          224.05263754662184
         ],
         "xaxis": "x15",
         "y": [
          96.2077203980807,
          77.47623236725656,
          123.6653863708816,
          36.39426249330998,
          181.15512453655936,
          44.5254852982493,
          163.6622901731585,
          217.2395452497521,
          201.13371172376014,
          203.3349719220077,
          108.69814813858511,
          113.60538499092658,
          104.46616647058897
         ],
         "yaxis": "y15"
        },
        {
         "colorbar": {
          "title": {
           "text": "Objective Value"
          }
         },
         "colorscale": [
          [
           0,
           "rgb(247,251,255)"
          ],
          [
           0.125,
           "rgb(222,235,247)"
          ],
          [
           0.25,
           "rgb(198,219,239)"
          ],
          [
           0.375,
           "rgb(158,202,225)"
          ],
          [
           0.5,
           "rgb(107,174,214)"
          ],
          [
           0.625,
           "rgb(66,146,198)"
          ],
          [
           0.75,
           "rgb(33,113,181)"
          ],
          [
           0.875,
           "rgb(8,81,156)"
          ],
          [
           1,
           "rgb(8,48,107)"
          ]
         ],
         "connectgaps": true,
         "contours": {
          "coloring": "heatmap"
         },
         "hoverinfo": "none",
         "line": {
          "smoothing": 1.3
         },
         "reversescale": true,
         "showscale": false,
         "type": "contour",
         "x": [
          36.39426249330998,
          44.5254852982493,
          77.47623236725656,
          96.2077203980807,
          104.46616647058897,
          108.69814813858511,
          113.60538499092658,
          123.6653863708816,
          163.6622901731585,
          181.15512453655936,
          201.13371172376014,
          203.3349719220077,
          217.2395452497521
         ],
         "xaxis": "x4",
         "y": [
          1,
          2,
          3
         ],
         "yaxis": "y4",
         "z": [
          [
           null,
           null,
           null,
           null,
           null,
           null,
           null,
           null,
           null,
           null,
           null,
           null,
           null
          ],
          [
           null,
           null,
           null,
           null,
           null,
           null,
           null,
           null,
           null,
           null,
           null,
           null,
           null
          ],
          [
           0.25246404111385345,
           0.26490793004631996,
           0.2656950391829014,
           0.2883530855178833,
           0.2643739078193903,
           0.24240343272686005,
           0.2672870345413685,
           0.26958279125392437,
           0.253996767103672,
           0.25102086178958416,
           0.27214717492461205,
           0.2553078122437,
           0.24020745791494846
          ]
         ]
        },
        {
         "marker": {
          "color": "black"
         },
         "mode": "markers",
         "showlegend": false,
         "type": "scatter",
         "x": [
          96.2077203980807,
          77.47623236725656,
          123.6653863708816,
          36.39426249330998,
          181.15512453655936,
          44.5254852982493,
          163.6622901731585,
          217.2395452497521,
          201.13371172376014,
          203.3349719220077,
          108.69814813858511,
          113.60538499092658,
          104.46616647058897
         ],
         "xaxis": "x4",
         "y": [
          3,
          3,
          3,
          3,
          3,
          3,
          3,
          3,
          3,
          3,
          3,
          3,
          3
         ],
         "yaxis": "y4"
        },
        {
         "colorbar": {
          "title": {
           "text": "Objective Value"
          }
         },
         "colorscale": [
          [
           0,
           "rgb(247,251,255)"
          ],
          [
           0.125,
           "rgb(222,235,247)"
          ],
          [
           0.25,
           "rgb(198,219,239)"
          ],
          [
           0.375,
           "rgb(158,202,225)"
          ],
          [
           0.5,
           "rgb(107,174,214)"
          ],
          [
           0.625,
           "rgb(66,146,198)"
          ],
          [
           0.75,
           "rgb(33,113,181)"
          ],
          [
           0.875,
           "rgb(8,81,156)"
          ],
          [
           1,
           "rgb(8,48,107)"
          ]
         ],
         "connectgaps": true,
         "contours": {
          "coloring": "heatmap"
         },
         "hoverinfo": "none",
         "line": {
          "smoothing": 1.3
         },
         "reversescale": true,
         "showscale": false,
         "type": "contour",
         "x": [
          36.39426249330998,
          44.5254852982493,
          77.47623236725656,
          96.2077203980807,
          104.46616647058897,
          108.69814813858511,
          113.60538499092658,
          123.6653863708816,
          163.6622901731585,
          181.15512453655936,
          201.13371172376014,
          203.3349719220077,
          217.2395452497521
         ],
         "xaxis": "x8",
         "y": [
          38.63368327828813,
          61.861809340355066,
          64.4523529920253,
          112.76004948638199,
          128.93978187621568,
          129.59602989013428,
          140.91690956956657,
          149.43206402434868,
          150.86146384721712,
          168.39748663593,
          169.83123355686402,
          170.7675268448263,
          178.8631471298371,
          181.02675672071888,
          181.57794099141697,
          182.82264052567263,
          189.21936630739114,
          189.78238213239194,
          200.99073155697914,
          208.1738433957372,
          217.25426989833403,
          226.83203036771795,
          233.09953582609856,
          234.0979216117891,
          234.34864085779077,
          235.36328925805907,
          244.19351317529978,
          244.38432972654155,
          246.9653510692827,
          249.61604322727672,
          250.14969779831608,
          255.4506017615034,
          255.79289908804088
         ],
         "yaxis": "y8",
         "z": [
          [
           null,
           null,
           null,
           null,
           null,
           null,
           null,
           0.26958279125392437,
           null,
           null,
           null,
           null,
           null
          ],
          [
           null,
           null,
           null,
           null,
           null,
           null,
           null,
           null,
           null,
           null,
           null,
           null,
           null
          ],
          [
           null,
           null,
           null,
           0.2883530855178833,
           null,
           null,
           null,
           null,
           null,
           null,
           null,
           null,
           null
          ],
          [
           null,
           null,
           null,
           null,
           null,
           null,
           null,
           null,
           null,
           null,
           0.27214717492461205,
           null,
           null
          ],
          [
           null,
           0.26490793004631996,
           null,
           null,
           null,
           null,
           null,
           null,
           null,
           null,
           null,
           null,
           null
          ],
          [
           null,
           null,
           null,
           null,
           null,
           null,
           null,
           null,
           0.253996767103672,
           null,
           null,
           null,
           null
          ],
          [
           0.25246404111385345,
           null,
           null,
           null,
           null,
           null,
           null,
           null,
           null,
           null,
           null,
           null,
           null
          ],
          [
           null,
           null,
           null,
           null,
           null,
           null,
           null,
           null,
           null,
           null,
           null,
           null,
           null
          ],
          [
           null,
           null,
           null,
           null,
           null,
           null,
           null,
           null,
           null,
           null,
           null,
           null,
           0.24020745791494846
          ],
          [
           null,
           null,
           0.2656950391829014,
           null,
           null,
           null,
           null,
           null,
           null,
           null,
           null,
           null,
           null
          ],
          [
           null,
           null,
           null,
           null,
           null,
           null,
           null,
           null,
           null,
           null,
           null,
           0.2553078122437,
           null
          ],
          [
           null,
           null,
           null,
           null,
           null,
           null,
           null,
           null,
           null,
           0.25102086178958416,
           null,
           null,
           null
          ],
          [
           null,
           null,
           null,
           null,
           null,
           null,
           null,
           null,
           null,
           null,
           null,
           null,
           null
          ],
          [
           null,
           null,
           null,
           null,
           null,
           null,
           0.2672870345413685,
           null,
           null,
           null,
           null,
           null,
           null
          ],
          [
           null,
           null,
           null,
           null,
           null,
           null,
           null,
           null,
           null,
           null,
           null,
           null,
           null
          ],
          [
           null,
           null,
           null,
           null,
           null,
           0.24240343272686005,
           null,
           null,
           null,
           null,
           null,
           null,
           null
          ],
          [
           null,
           null,
           null,
           null,
           null,
           null,
           null,
           null,
           null,
           null,
           null,
           null,
           null
          ],
          [
           null,
           null,
           null,
           null,
           null,
           null,
           null,
           null,
           null,
           null,
           null,
           null,
           null
          ],
          [
           null,
           null,
           null,
           null,
           null,
           null,
           null,
           null,
           null,
           null,
           null,
           null,
           null
          ],
          [
           null,
           null,
           null,
           null,
           null,
           null,
           null,
           null,
           null,
           null,
           null,
           null,
           null
          ],
          [
           null,
           null,
           null,
           null,
           null,
           null,
           null,
           null,
           null,
           null,
           null,
           null,
           null
          ],
          [
           null,
           null,
           null,
           null,
           null,
           null,
           null,
           null,
           null,
           null,
           null,
           null,
           null
          ],
          [
           null,
           null,
           null,
           null,
           null,
           null,
           null,
           null,
           null,
           null,
           null,
           null,
           null
          ],
          [
           null,
           null,
           null,
           null,
           null,
           null,
           null,
           null,
           null,
           null,
           null,
           null,
           null
          ],
          [
           null,
           null,
           null,
           null,
           0.2643739078193903,
           null,
           null,
           null,
           null,
           null,
           null,
           null,
           null
          ],
          [
           null,
           null,
           null,
           null,
           null,
           null,
           null,
           null,
           null,
           null,
           null,
           null,
           null
          ],
          [
           null,
           null,
           null,
           null,
           null,
           null,
           null,
           null,
           null,
           null,
           null,
           null,
           null
          ],
          [
           null,
           null,
           null,
           null,
           null,
           null,
           null,
           null,
           null,
           null,
           null,
           null,
           null
          ],
          [
           null,
           null,
           null,
           null,
           null,
           null,
           null,
           null,
           null,
           null,
           null,
           null,
           null
          ],
          [
           null,
           null,
           null,
           null,
           null,
           null,
           null,
           null,
           null,
           null,
           null,
           null,
           null
          ],
          [
           null,
           null,
           null,
           null,
           null,
           null,
           null,
           null,
           null,
           null,
           null,
           null,
           null
          ],
          [
           null,
           null,
           null,
           null,
           null,
           null,
           null,
           null,
           null,
           null,
           null,
           null,
           null
          ],
          [
           null,
           null,
           null,
           null,
           null,
           null,
           null,
           null,
           null,
           null,
           null,
           null,
           null
          ]
         ]
        },
        {
         "marker": {
          "color": "black"
         },
         "mode": "markers",
         "showlegend": false,
         "type": "scatter",
         "x": [
          96.2077203980807,
          77.47623236725656,
          123.6653863708816,
          36.39426249330998,
          181.15512453655936,
          44.5254852982493,
          163.6622901731585,
          217.2395452497521,
          201.13371172376014,
          203.3349719220077,
          108.69814813858511,
          113.60538499092658,
          104.46616647058897
         ],
         "xaxis": "x8",
         "y": [
          64.4523529920253,
          168.39748663593,
          38.63368327828813,
          140.91690956956657,
          170.7675268448263,
          128.93978187621568,
          129.59602989013428,
          150.86146384721712,
          112.76004948638199,
          169.83123355686402,
          182.82264052567263,
          181.02675672071888,
          234.34864085779077
         ],
         "yaxis": "y8"
        },
        {
         "colorbar": {
          "title": {
           "text": "Objective Value"
          }
         },
         "colorscale": [
          [
           0,
           "rgb(247,251,255)"
          ],
          [
           0.125,
           "rgb(222,235,247)"
          ],
          [
           0.25,
           "rgb(198,219,239)"
          ],
          [
           0.375,
           "rgb(158,202,225)"
          ],
          [
           0.5,
           "rgb(107,174,214)"
          ],
          [
           0.625,
           "rgb(66,146,198)"
          ],
          [
           0.75,
           "rgb(33,113,181)"
          ],
          [
           0.875,
           "rgb(8,81,156)"
          ],
          [
           1,
           "rgb(8,48,107)"
          ]
         ],
         "connectgaps": true,
         "contours": {
          "coloring": "heatmap"
         },
         "hoverinfo": "none",
         "line": {
          "smoothing": 1.3
         },
         "reversescale": true,
         "showscale": false,
         "type": "contour",
         "x": [
          36.39426249330998,
          44.5254852982493,
          77.47623236725656,
          96.2077203980807,
          104.46616647058897,
          108.69814813858511,
          113.60538499092658,
          123.6653863708816,
          163.6622901731585,
          181.15512453655936,
          201.13371172376014,
          203.3349719220077,
          217.2395452497521
         ],
         "xaxis": "x12",
         "y": [
          32.84689993028172,
          36.72645284317059,
          41.513119482496954,
          45.61101540162852,
          56.05442905833494,
          64.63685970128728,
          78.37951042007731,
          82.2936336065144,
          103.38247964137062,
          119.13677690135066,
          136.12168886913398,
          173.1358858180036,
          175.54936057823517,
          184.92433447088666,
          209.96405982832783,
          219.0136873145725,
          224.05263754662184,
          226.47373116528212,
          237.11717359904114,
          243.45353023329773,
          246.821232272477,
          247.63064600646598,
          248.17716911171402,
          248.62468920052441,
          248.98039327823994,
          249.0519584491777,
          251.6532427272772,
          252.90728874411573,
          255.06495663917065,
          255.66947266620062,
          255.66962619126951,
          255.92409928867525
         ],
         "yaxis": "y12",
         "z": [
          [
           null,
           null,
           null,
           null,
           null,
           null,
           null,
           null,
           0.253996767103672,
           null,
           null,
           null,
           null
          ],
          [
           null,
           null,
           null,
           null,
           null,
           null,
           null,
           null,
           null,
           null,
           null,
           0.2553078122437,
           null
          ],
          [
           null,
           null,
           null,
           null,
           null,
           null,
           null,
           null,
           null,
           null,
           null,
           null,
           null
          ],
          [
           null,
           null,
           null,
           null,
           null,
           null,
           null,
           null,
           null,
           null,
           null,
           null,
           null
          ],
          [
           null,
           null,
           null,
           null,
           null,
           null,
           null,
           0.26958279125392437,
           null,
           null,
           null,
           null,
           null
          ],
          [
           null,
           null,
           0.2656950391829014,
           null,
           null,
           null,
           null,
           null,
           null,
           null,
           null,
           null,
           null
          ],
          [
           null,
           null,
           null,
           0.2883530855178833,
           null,
           null,
           null,
           null,
           null,
           null,
           null,
           null,
           null
          ],
          [
           null,
           null,
           null,
           null,
           null,
           null,
           null,
           null,
           null,
           0.25102086178958416,
           null,
           null,
           null
          ],
          [
           null,
           null,
           null,
           null,
           null,
           null,
           null,
           null,
           null,
           null,
           null,
           null,
           null
          ],
          [
           null,
           null,
           null,
           null,
           null,
           null,
           null,
           null,
           null,
           null,
           0.27214717492461205,
           null,
           null
          ],
          [
           null,
           null,
           null,
           null,
           null,
           null,
           null,
           null,
           null,
           null,
           null,
           null,
           0.24020745791494846
          ],
          [
           null,
           null,
           null,
           null,
           null,
           null,
           0.2672870345413685,
           null,
           null,
           null,
           null,
           null,
           null
          ],
          [
           null,
           null,
           null,
           null,
           null,
           0.24240343272686005,
           null,
           null,
           null,
           null,
           null,
           null,
           null
          ],
          [
           null,
           null,
           null,
           null,
           null,
           null,
           null,
           null,
           null,
           null,
           null,
           null,
           null
          ],
          [
           null,
           null,
           null,
           null,
           null,
           null,
           null,
           null,
           null,
           null,
           null,
           null,
           null
          ],
          [
           null,
           null,
           null,
           null,
           null,
           null,
           null,
           null,
           null,
           null,
           null,
           null,
           null
          ],
          [
           null,
           null,
           null,
           null,
           0.2643739078193903,
           null,
           null,
           null,
           null,
           null,
           null,
           null,
           null
          ],
          [
           null,
           null,
           null,
           null,
           null,
           null,
           null,
           null,
           null,
           null,
           null,
           null,
           null
          ],
          [
           null,
           null,
           null,
           null,
           null,
           null,
           null,
           null,
           null,
           null,
           null,
           null,
           null
          ],
          [
           null,
           null,
           null,
           null,
           null,
           null,
           null,
           null,
           null,
           null,
           null,
           null,
           null
          ],
          [
           0.25246404111385345,
           null,
           null,
           null,
           null,
           null,
           null,
           null,
           null,
           null,
           null,
           null,
           null
          ],
          [
           null,
           null,
           null,
           null,
           null,
           null,
           null,
           null,
           null,
           null,
           null,
           null,
           null
          ],
          [
           null,
           null,
           null,
           null,
           null,
           null,
           null,
           null,
           null,
           null,
           null,
           null,
           null
          ],
          [
           null,
           null,
           null,
           null,
           null,
           null,
           null,
           null,
           null,
           null,
           null,
           null,
           null
          ],
          [
           null,
           null,
           null,
           null,
           null,
           null,
           null,
           null,
           null,
           null,
           null,
           null,
           null
          ],
          [
           null,
           null,
           null,
           null,
           null,
           null,
           null,
           null,
           null,
           null,
           null,
           null,
           null
          ],
          [
           null,
           0.26490793004631996,
           null,
           null,
           null,
           null,
           null,
           null,
           null,
           null,
           null,
           null,
           null
          ],
          [
           null,
           null,
           null,
           null,
           null,
           null,
           null,
           null,
           null,
           null,
           null,
           null,
           null
          ],
          [
           null,
           null,
           null,
           null,
           null,
           null,
           null,
           null,
           null,
           null,
           null,
           null,
           null
          ],
          [
           null,
           null,
           null,
           null,
           null,
           null,
           null,
           null,
           null,
           null,
           null,
           null,
           null
          ],
          [
           null,
           null,
           null,
           null,
           null,
           null,
           null,
           null,
           null,
           null,
           null,
           null,
           null
          ],
          [
           null,
           null,
           null,
           null,
           null,
           null,
           null,
           null,
           null,
           null,
           null,
           null,
           null
          ]
         ]
        },
        {
         "marker": {
          "color": "black"
         },
         "mode": "markers",
         "showlegend": false,
         "type": "scatter",
         "x": [
          96.2077203980807,
          77.47623236725656,
          123.6653863708816,
          36.39426249330998,
          181.15512453655936,
          44.5254852982493,
          163.6622901731585,
          217.2395452497521,
          201.13371172376014,
          203.3349719220077,
          108.69814813858511,
          113.60538499092658,
          104.46616647058897
         ],
         "xaxis": "x12",
         "y": [
          78.37951042007731,
          64.63685970128728,
          56.05442905833494,
          246.821232272477,
          82.2936336065144,
          251.6532427272772,
          32.84689993028172,
          136.12168886913398,
          119.13677690135066,
          36.72645284317059,
          175.54936057823517,
          173.1358858180036,
          224.05263754662184
         ],
         "yaxis": "y12"
        },
        {
         "type": "scatter",
         "xaxis": "x16",
         "yaxis": "y16"
        }
       ],
       "layout": {
        "template": {
         "data": {
          "bar": [
           {
            "error_x": {
             "color": "#2a3f5f"
            },
            "error_y": {
             "color": "#2a3f5f"
            },
            "marker": {
             "line": {
              "color": "#E5ECF6",
              "width": 0.5
             }
            },
            "type": "bar"
           }
          ],
          "barpolar": [
           {
            "marker": {
             "line": {
              "color": "#E5ECF6",
              "width": 0.5
             }
            },
            "type": "barpolar"
           }
          ],
          "carpet": [
           {
            "aaxis": {
             "endlinecolor": "#2a3f5f",
             "gridcolor": "white",
             "linecolor": "white",
             "minorgridcolor": "white",
             "startlinecolor": "#2a3f5f"
            },
            "baxis": {
             "endlinecolor": "#2a3f5f",
             "gridcolor": "white",
             "linecolor": "white",
             "minorgridcolor": "white",
             "startlinecolor": "#2a3f5f"
            },
            "type": "carpet"
           }
          ],
          "choropleth": [
           {
            "colorbar": {
             "outlinewidth": 0,
             "ticks": ""
            },
            "type": "choropleth"
           }
          ],
          "contour": [
           {
            "colorbar": {
             "outlinewidth": 0,
             "ticks": ""
            },
            "colorscale": [
             [
              0,
              "#0d0887"
             ],
             [
              0.1111111111111111,
              "#46039f"
             ],
             [
              0.2222222222222222,
              "#7201a8"
             ],
             [
              0.3333333333333333,
              "#9c179e"
             ],
             [
              0.4444444444444444,
              "#bd3786"
             ],
             [
              0.5555555555555556,
              "#d8576b"
             ],
             [
              0.6666666666666666,
              "#ed7953"
             ],
             [
              0.7777777777777778,
              "#fb9f3a"
             ],
             [
              0.8888888888888888,
              "#fdca26"
             ],
             [
              1,
              "#f0f921"
             ]
            ],
            "type": "contour"
           }
          ],
          "contourcarpet": [
           {
            "colorbar": {
             "outlinewidth": 0,
             "ticks": ""
            },
            "type": "contourcarpet"
           }
          ],
          "heatmap": [
           {
            "colorbar": {
             "outlinewidth": 0,
             "ticks": ""
            },
            "colorscale": [
             [
              0,
              "#0d0887"
             ],
             [
              0.1111111111111111,
              "#46039f"
             ],
             [
              0.2222222222222222,
              "#7201a8"
             ],
             [
              0.3333333333333333,
              "#9c179e"
             ],
             [
              0.4444444444444444,
              "#bd3786"
             ],
             [
              0.5555555555555556,
              "#d8576b"
             ],
             [
              0.6666666666666666,
              "#ed7953"
             ],
             [
              0.7777777777777778,
              "#fb9f3a"
             ],
             [
              0.8888888888888888,
              "#fdca26"
             ],
             [
              1,
              "#f0f921"
             ]
            ],
            "type": "heatmap"
           }
          ],
          "heatmapgl": [
           {
            "colorbar": {
             "outlinewidth": 0,
             "ticks": ""
            },
            "colorscale": [
             [
              0,
              "#0d0887"
             ],
             [
              0.1111111111111111,
              "#46039f"
             ],
             [
              0.2222222222222222,
              "#7201a8"
             ],
             [
              0.3333333333333333,
              "#9c179e"
             ],
             [
              0.4444444444444444,
              "#bd3786"
             ],
             [
              0.5555555555555556,
              "#d8576b"
             ],
             [
              0.6666666666666666,
              "#ed7953"
             ],
             [
              0.7777777777777778,
              "#fb9f3a"
             ],
             [
              0.8888888888888888,
              "#fdca26"
             ],
             [
              1,
              "#f0f921"
             ]
            ],
            "type": "heatmapgl"
           }
          ],
          "histogram": [
           {
            "marker": {
             "colorbar": {
              "outlinewidth": 0,
              "ticks": ""
             }
            },
            "type": "histogram"
           }
          ],
          "histogram2d": [
           {
            "colorbar": {
             "outlinewidth": 0,
             "ticks": ""
            },
            "colorscale": [
             [
              0,
              "#0d0887"
             ],
             [
              0.1111111111111111,
              "#46039f"
             ],
             [
              0.2222222222222222,
              "#7201a8"
             ],
             [
              0.3333333333333333,
              "#9c179e"
             ],
             [
              0.4444444444444444,
              "#bd3786"
             ],
             [
              0.5555555555555556,
              "#d8576b"
             ],
             [
              0.6666666666666666,
              "#ed7953"
             ],
             [
              0.7777777777777778,
              "#fb9f3a"
             ],
             [
              0.8888888888888888,
              "#fdca26"
             ],
             [
              1,
              "#f0f921"
             ]
            ],
            "type": "histogram2d"
           }
          ],
          "histogram2dcontour": [
           {
            "colorbar": {
             "outlinewidth": 0,
             "ticks": ""
            },
            "colorscale": [
             [
              0,
              "#0d0887"
             ],
             [
              0.1111111111111111,
              "#46039f"
             ],
             [
              0.2222222222222222,
              "#7201a8"
             ],
             [
              0.3333333333333333,
              "#9c179e"
             ],
             [
              0.4444444444444444,
              "#bd3786"
             ],
             [
              0.5555555555555556,
              "#d8576b"
             ],
             [
              0.6666666666666666,
              "#ed7953"
             ],
             [
              0.7777777777777778,
              "#fb9f3a"
             ],
             [
              0.8888888888888888,
              "#fdca26"
             ],
             [
              1,
              "#f0f921"
             ]
            ],
            "type": "histogram2dcontour"
           }
          ],
          "mesh3d": [
           {
            "colorbar": {
             "outlinewidth": 0,
             "ticks": ""
            },
            "type": "mesh3d"
           }
          ],
          "parcoords": [
           {
            "line": {
             "colorbar": {
              "outlinewidth": 0,
              "ticks": ""
             }
            },
            "type": "parcoords"
           }
          ],
          "scatter": [
           {
            "marker": {
             "colorbar": {
              "outlinewidth": 0,
              "ticks": ""
             }
            },
            "type": "scatter"
           }
          ],
          "scatter3d": [
           {
            "line": {
             "colorbar": {
              "outlinewidth": 0,
              "ticks": ""
             }
            },
            "marker": {
             "colorbar": {
              "outlinewidth": 0,
              "ticks": ""
             }
            },
            "type": "scatter3d"
           }
          ],
          "scattercarpet": [
           {
            "marker": {
             "colorbar": {
              "outlinewidth": 0,
              "ticks": ""
             }
            },
            "type": "scattercarpet"
           }
          ],
          "scattergeo": [
           {
            "marker": {
             "colorbar": {
              "outlinewidth": 0,
              "ticks": ""
             }
            },
            "type": "scattergeo"
           }
          ],
          "scattergl": [
           {
            "marker": {
             "colorbar": {
              "outlinewidth": 0,
              "ticks": ""
             }
            },
            "type": "scattergl"
           }
          ],
          "scattermapbox": [
           {
            "marker": {
             "colorbar": {
              "outlinewidth": 0,
              "ticks": ""
             }
            },
            "type": "scattermapbox"
           }
          ],
          "scatterpolar": [
           {
            "marker": {
             "colorbar": {
              "outlinewidth": 0,
              "ticks": ""
             }
            },
            "type": "scatterpolar"
           }
          ],
          "scatterpolargl": [
           {
            "marker": {
             "colorbar": {
              "outlinewidth": 0,
              "ticks": ""
             }
            },
            "type": "scatterpolargl"
           }
          ],
          "scatterternary": [
           {
            "marker": {
             "colorbar": {
              "outlinewidth": 0,
              "ticks": ""
             }
            },
            "type": "scatterternary"
           }
          ],
          "surface": [
           {
            "colorbar": {
             "outlinewidth": 0,
             "ticks": ""
            },
            "colorscale": [
             [
              0,
              "#0d0887"
             ],
             [
              0.1111111111111111,
              "#46039f"
             ],
             [
              0.2222222222222222,
              "#7201a8"
             ],
             [
              0.3333333333333333,
              "#9c179e"
             ],
             [
              0.4444444444444444,
              "#bd3786"
             ],
             [
              0.5555555555555556,
              "#d8576b"
             ],
             [
              0.6666666666666666,
              "#ed7953"
             ],
             [
              0.7777777777777778,
              "#fb9f3a"
             ],
             [
              0.8888888888888888,
              "#fdca26"
             ],
             [
              1,
              "#f0f921"
             ]
            ],
            "type": "surface"
           }
          ],
          "table": [
           {
            "cells": {
             "fill": {
              "color": "#EBF0F8"
             },
             "line": {
              "color": "white"
             }
            },
            "header": {
             "fill": {
              "color": "#C8D4E3"
             },
             "line": {
              "color": "white"
             }
            },
            "type": "table"
           }
          ]
         },
         "layout": {
          "annotationdefaults": {
           "arrowcolor": "#2a3f5f",
           "arrowhead": 0,
           "arrowwidth": 1
          },
          "colorscale": {
           "diverging": [
            [
             0,
             "#8e0152"
            ],
            [
             0.1,
             "#c51b7d"
            ],
            [
             0.2,
             "#de77ae"
            ],
            [
             0.3,
             "#f1b6da"
            ],
            [
             0.4,
             "#fde0ef"
            ],
            [
             0.5,
             "#f7f7f7"
            ],
            [
             0.6,
             "#e6f5d0"
            ],
            [
             0.7,
             "#b8e186"
            ],
            [
             0.8,
             "#7fbc41"
            ],
            [
             0.9,
             "#4d9221"
            ],
            [
             1,
             "#276419"
            ]
           ],
           "sequential": [
            [
             0,
             "#0d0887"
            ],
            [
             0.1111111111111111,
             "#46039f"
            ],
            [
             0.2222222222222222,
             "#7201a8"
            ],
            [
             0.3333333333333333,
             "#9c179e"
            ],
            [
             0.4444444444444444,
             "#bd3786"
            ],
            [
             0.5555555555555556,
             "#d8576b"
            ],
            [
             0.6666666666666666,
             "#ed7953"
            ],
            [
             0.7777777777777778,
             "#fb9f3a"
            ],
            [
             0.8888888888888888,
             "#fdca26"
            ],
            [
             1,
             "#f0f921"
            ]
           ],
           "sequentialminus": [
            [
             0,
             "#0d0887"
            ],
            [
             0.1111111111111111,
             "#46039f"
            ],
            [
             0.2222222222222222,
             "#7201a8"
            ],
            [
             0.3333333333333333,
             "#9c179e"
            ],
            [
             0.4444444444444444,
             "#bd3786"
            ],
            [
             0.5555555555555556,
             "#d8576b"
            ],
            [
             0.6666666666666666,
             "#ed7953"
            ],
            [
             0.7777777777777778,
             "#fb9f3a"
            ],
            [
             0.8888888888888888,
             "#fdca26"
            ],
            [
             1,
             "#f0f921"
            ]
           ]
          },
          "colorway": [
           "#636efa",
           "#EF553B",
           "#00cc96",
           "#ab63fa",
           "#FFA15A",
           "#19d3f3",
           "#FF6692",
           "#B6E880",
           "#FF97FF",
           "#FECB52"
          ],
          "font": {
           "color": "#2a3f5f"
          },
          "geo": {
           "bgcolor": "white",
           "lakecolor": "white",
           "landcolor": "#E5ECF6",
           "showlakes": true,
           "showland": true,
           "subunitcolor": "white"
          },
          "hoverlabel": {
           "align": "left"
          },
          "hovermode": "closest",
          "mapbox": {
           "style": "light"
          },
          "paper_bgcolor": "white",
          "plot_bgcolor": "#E5ECF6",
          "polar": {
           "angularaxis": {
            "gridcolor": "white",
            "linecolor": "white",
            "ticks": ""
           },
           "bgcolor": "#E5ECF6",
           "radialaxis": {
            "gridcolor": "white",
            "linecolor": "white",
            "ticks": ""
           }
          },
          "scene": {
           "xaxis": {
            "backgroundcolor": "#E5ECF6",
            "gridcolor": "white",
            "gridwidth": 2,
            "linecolor": "white",
            "showbackground": true,
            "ticks": "",
            "zerolinecolor": "white"
           },
           "yaxis": {
            "backgroundcolor": "#E5ECF6",
            "gridcolor": "white",
            "gridwidth": 2,
            "linecolor": "white",
            "showbackground": true,
            "ticks": "",
            "zerolinecolor": "white"
           },
           "zaxis": {
            "backgroundcolor": "#E5ECF6",
            "gridcolor": "white",
            "gridwidth": 2,
            "linecolor": "white",
            "showbackground": true,
            "ticks": "",
            "zerolinecolor": "white"
           }
          },
          "shapedefaults": {
           "line": {
            "color": "#2a3f5f"
           }
          },
          "ternary": {
           "aaxis": {
            "gridcolor": "white",
            "linecolor": "white",
            "ticks": ""
           },
           "baxis": {
            "gridcolor": "white",
            "linecolor": "white",
            "ticks": ""
           },
           "bgcolor": "#E5ECF6",
           "caxis": {
            "gridcolor": "white",
            "linecolor": "white",
            "ticks": ""
           }
          },
          "title": {
           "x": 0.05
          },
          "xaxis": {
           "automargin": true,
           "gridcolor": "white",
           "linecolor": "white",
           "ticks": "",
           "zerolinecolor": "white",
           "zerolinewidth": 2
          },
          "yaxis": {
           "automargin": true,
           "gridcolor": "white",
           "linecolor": "white",
           "ticks": "",
           "zerolinecolor": "white",
           "zerolinewidth": 2
          }
         }
        },
        "xaxis": {
         "anchor": "y",
         "domain": [
          0,
          0.2125
         ],
         "matches": "x13",
         "range": [
          1,
          3
         ],
         "showticklabels": false
        },
        "xaxis10": {
         "anchor": "y10",
         "domain": [
          0.2625,
          0.475
         ],
         "matches": "x14",
         "range": [
          38.63368327828813,
          255.79289908804088
         ],
         "showticklabels": false
        },
        "xaxis11": {
         "anchor": "y11",
         "domain": [
          0.525,
          0.7375
         ],
         "matches": "x15",
         "range": [
          32.84689993028172,
          255.92409928867525
         ],
         "showticklabels": false
        },
        "xaxis12": {
         "anchor": "y12",
         "domain": [
          0.7875,
          1
         ],
         "matches": "x16",
         "range": [
          36.39426249330998,
          217.2395452497521
         ],
         "showticklabels": false
        },
        "xaxis13": {
         "anchor": "y13",
         "domain": [
          0,
          0.2125
         ],
         "range": [
          1,
          3
         ],
         "title": {
          "text": "n_layers"
         }
        },
        "xaxis14": {
         "anchor": "y14",
         "domain": [
          0.2625,
          0.475
         ],
         "range": [
          38.63368327828813,
          255.79289908804088
         ],
         "title": {
          "text": "n_units_l0"
         }
        },
        "xaxis15": {
         "anchor": "y15",
         "domain": [
          0.525,
          0.7375
         ],
         "range": [
          32.84689993028172,
          255.92409928867525
         ],
         "title": {
          "text": "n_units_l1"
         }
        },
        "xaxis16": {
         "anchor": "y16",
         "domain": [
          0.7875,
          1
         ],
         "range": [
          36.39426249330998,
          217.2395452497521
         ],
         "title": {
          "text": "n_units_l2"
         }
        },
        "xaxis2": {
         "anchor": "y2",
         "domain": [
          0.2625,
          0.475
         ],
         "matches": "x14",
         "range": [
          38.63368327828813,
          255.79289908804088
         ],
         "showticklabels": false
        },
        "xaxis3": {
         "anchor": "y3",
         "domain": [
          0.525,
          0.7375
         ],
         "matches": "x15",
         "range": [
          32.84689993028172,
          255.92409928867525
         ],
         "showticklabels": false
        },
        "xaxis4": {
         "anchor": "y4",
         "domain": [
          0.7875,
          1
         ],
         "matches": "x16",
         "range": [
          36.39426249330998,
          217.2395452497521
         ],
         "showticklabels": false
        },
        "xaxis5": {
         "anchor": "y5",
         "domain": [
          0,
          0.2125
         ],
         "matches": "x13",
         "range": [
          1,
          3
         ],
         "showticklabels": false
        },
        "xaxis6": {
         "anchor": "y6",
         "domain": [
          0.2625,
          0.475
         ],
         "matches": "x14",
         "range": [
          38.63368327828813,
          255.79289908804088
         ],
         "showticklabels": false
        },
        "xaxis7": {
         "anchor": "y7",
         "domain": [
          0.525,
          0.7375
         ],
         "matches": "x15",
         "range": [
          32.84689993028172,
          255.92409928867525
         ],
         "showticklabels": false
        },
        "xaxis8": {
         "anchor": "y8",
         "domain": [
          0.7875,
          1
         ],
         "matches": "x16",
         "range": [
          36.39426249330998,
          217.2395452497521
         ],
         "showticklabels": false
        },
        "xaxis9": {
         "anchor": "y9",
         "domain": [
          0,
          0.2125
         ],
         "matches": "x13",
         "range": [
          1,
          3
         ],
         "showticklabels": false
        },
        "yaxis": {
         "anchor": "x",
         "domain": [
          0.80625,
          1
         ],
         "range": [
          1,
          3
         ],
         "title": {
          "text": "n_layers"
         }
        },
        "yaxis10": {
         "anchor": "x10",
         "domain": [
          0.26875,
          0.4625
         ],
         "matches": "y9",
         "range": [
          32.84689993028172,
          255.92409928867525
         ],
         "showticklabels": false
        },
        "yaxis11": {
         "anchor": "x11",
         "domain": [
          0.26875,
          0.4625
         ],
         "matches": "y9",
         "range": [
          32.84689993028172,
          255.92409928867525
         ],
         "showticklabels": false
        },
        "yaxis12": {
         "anchor": "x12",
         "domain": [
          0.26875,
          0.4625
         ],
         "matches": "y9",
         "range": [
          32.84689993028172,
          255.92409928867525
         ],
         "showticklabels": false
        },
        "yaxis13": {
         "anchor": "x13",
         "domain": [
          0,
          0.19375
         ],
         "range": [
          36.39426249330998,
          217.2395452497521
         ],
         "title": {
          "text": "n_units_l2"
         }
        },
        "yaxis14": {
         "anchor": "x14",
         "domain": [
          0,
          0.19375
         ],
         "matches": "y13",
         "range": [
          36.39426249330998,
          217.2395452497521
         ],
         "showticklabels": false
        },
        "yaxis15": {
         "anchor": "x15",
         "domain": [
          0,
          0.19375
         ],
         "matches": "y13",
         "range": [
          36.39426249330998,
          217.2395452497521
         ],
         "showticklabels": false
        },
        "yaxis16": {
         "anchor": "x16",
         "domain": [
          0,
          0.19375
         ],
         "matches": "y13",
         "range": [
          36.39426249330998,
          217.2395452497521
         ],
         "showticklabels": false
        },
        "yaxis2": {
         "anchor": "x2",
         "domain": [
          0.80625,
          1
         ],
         "matches": "y",
         "range": [
          1,
          3
         ],
         "showticklabels": false
        },
        "yaxis3": {
         "anchor": "x3",
         "domain": [
          0.80625,
          1
         ],
         "matches": "y",
         "range": [
          1,
          3
         ],
         "showticklabels": false
        },
        "yaxis4": {
         "anchor": "x4",
         "domain": [
          0.80625,
          1
         ],
         "matches": "y",
         "range": [
          1,
          3
         ],
         "showticklabels": false
        },
        "yaxis5": {
         "anchor": "x5",
         "domain": [
          0.5375,
          0.73125
         ],
         "range": [
          38.63368327828813,
          255.79289908804088
         ],
         "title": {
          "text": "n_units_l0"
         }
        },
        "yaxis6": {
         "anchor": "x6",
         "domain": [
          0.5375,
          0.73125
         ],
         "matches": "y5",
         "range": [
          38.63368327828813,
          255.79289908804088
         ],
         "showticklabels": false
        },
        "yaxis7": {
         "anchor": "x7",
         "domain": [
          0.5375,
          0.73125
         ],
         "matches": "y5",
         "range": [
          38.63368327828813,
          255.79289908804088
         ],
         "showticklabels": false
        },
        "yaxis8": {
         "anchor": "x8",
         "domain": [
          0.5375,
          0.73125
         ],
         "matches": "y5",
         "range": [
          38.63368327828813,
          255.79289908804088
         ],
         "showticklabels": false
        },
        "yaxis9": {
         "anchor": "x9",
         "domain": [
          0.26875,
          0.4625
         ],
         "range": [
          32.84689993028172,
          255.92409928867525
         ],
         "title": {
          "text": "n_units_l1"
         }
        }
       }
      },
      "text/html": [
       "<div>\n",
       "        \n",
       "        \n",
       "            <div id=\"e986d3f1-fdb7-4f9d-abf6-36ef36966927\" class=\"plotly-graph-div\" style=\"height:525px; width:100%;\"></div>\n",
       "            <script type=\"text/javascript\">\n",
       "                require([\"plotly\"], function(Plotly) {\n",
       "                    window.PLOTLYENV=window.PLOTLYENV || {};\n",
       "                    \n",
       "                if (document.getElementById(\"e986d3f1-fdb7-4f9d-abf6-36ef36966927\")) {\n",
       "                    Plotly.newPlot(\n",
       "                        'e986d3f1-fdb7-4f9d-abf6-36ef36966927',\n",
       "                        [{\"type\": \"scatter\", \"xaxis\": \"x\", \"yaxis\": \"y\"}, {\"colorbar\": {\"title\": {\"text\": \"Objective Value\"}}, \"colorscale\": [[0.0, \"rgb(247,251,255)\"], [0.125, \"rgb(222,235,247)\"], [0.25, \"rgb(198,219,239)\"], [0.375, \"rgb(158,202,225)\"], [0.5, \"rgb(107,174,214)\"], [0.625, \"rgb(66,146,198)\"], [0.75, \"rgb(33,113,181)\"], [0.875, \"rgb(8,81,156)\"], [1.0, \"rgb(8,48,107)\"]], \"connectgaps\": true, \"contours\": {\"coloring\": \"heatmap\"}, \"hoverinfo\": \"none\", \"line\": {\"smoothing\": 1.3}, \"reversescale\": true, \"showscale\": true, \"type\": \"contour\", \"x\": [1, 2, 3], \"xaxis\": \"x5\", \"y\": [38.63368327828813, 61.861809340355066, 64.4523529920253, 112.76004948638199, 128.93978187621568, 129.59602989013428, 140.91690956956657, 149.43206402434868, 150.86146384721712, 168.39748663593, 169.83123355686402, 170.7675268448263, 178.8631471298371, 181.02675672071888, 181.57794099141697, 182.82264052567263, 189.21936630739114, 189.78238213239194, 200.99073155697914, 208.1738433957372, 217.25426989833403, 226.83203036771795, 233.09953582609856, 234.0979216117891, 234.34864085779077, 235.36328925805907, 244.19351317529978, 244.38432972654155, 246.9653510692827, 249.61604322727672, 250.14969779831608, 255.4506017615034, 255.79289908804088], \"yaxis\": \"y5\", \"z\": [[null, null, 0.26958279125392437], [null, 0.2820313274860382, null], [null, null, 0.2883530855178833], [null, null, 0.27214717492461205], [null, null, 0.26490793004631996], [null, null, 0.253996767103672], [null, null, 0.25246404111385345], [null, 0.24880902469158173, null], [null, null, 0.24020745791494846], [null, null, 0.2656950391829014], [null, null, 0.2553078122437], [null, null, 0.25102086178958416], [null, 0.2530394420027733, null], [null, null, 0.2672870345413685], [null, 0.23689827509224415, null], [null, null, 0.24240343272686005], [null, 0.22953632660210133, null], [null, 0.2390523049980402, null], [null, 0.2409790586680174, null], [0.26976754516363144, null, null], [null, 0.24516725353896618, null], [null, 0.23027783632278442, null], [null, 0.2578176222741604, null], [null, 0.22774771973490715, null], [null, null, 0.2643739078193903], [null, 0.2708234563469887, null], [null, 0.2371191754937172, null], [null, 0.23592069745063782, null], [null, 0.2330324575304985, null], [null, 0.23060715943574905, null], [null, 0.2263924852013588, null], [null, 0.2556901406496763, null], [null, 0.23060716595500708, null]]}, {\"marker\": {\"color\": \"black\"}, \"mode\": \"markers\", \"showlegend\": false, \"type\": \"scatter\", \"x\": [2, 3, 3, 3, 1, 3, 3, 3, 3, 2, 2, 3, 3, 3, 3, 3, 3, 2, 2, 2, 2, 2, 2, 2, 2, 2, 2, 2, 2, 2, 2, 2, 2], \"xaxis\": \"x5\", \"y\": [61.861809340355066, 64.4523529920253, 168.39748663593, 38.63368327828813, 208.1738433957372, 140.91690956956657, 170.7675268448263, 128.93978187621568, 129.59602989013428, 246.9653510692827, 235.36328925805907, 150.86146384721712, 112.76004948638199, 169.83123355686402, 182.82264052567263, 181.02675672071888, 234.34864085779077, 149.43206402434868, 181.57794099141697, 178.8631471298371, 249.61604322727672, 244.19351317529978, 255.79289908804088, 250.14969779831608, 244.38432972654155, 255.4506017615034, 234.0979216117891, 226.83203036771795, 233.09953582609856, 189.78238213239194, 217.25426989833403, 200.99073155697914, 189.21936630739114], \"yaxis\": \"y5\"}, {\"colorbar\": {\"title\": {\"text\": \"Objective Value\"}}, \"colorscale\": [[0.0, \"rgb(247,251,255)\"], [0.125, \"rgb(222,235,247)\"], [0.25, \"rgb(198,219,239)\"], [0.375, \"rgb(158,202,225)\"], [0.5, \"rgb(107,174,214)\"], [0.625, \"rgb(66,146,198)\"], [0.75, \"rgb(33,113,181)\"], [0.875, \"rgb(8,81,156)\"], [1.0, \"rgb(8,48,107)\"]], \"connectgaps\": true, \"contours\": {\"coloring\": \"heatmap\"}, \"hoverinfo\": \"none\", \"line\": {\"smoothing\": 1.3}, \"reversescale\": true, \"showscale\": false, \"type\": \"contour\", \"x\": [1, 2, 3], \"xaxis\": \"x9\", \"y\": [32.84689993028172, 36.72645284317059, 41.513119482496954, 45.61101540162852, 56.05442905833494, 64.63685970128728, 78.37951042007731, 82.2936336065144, 103.38247964137062, 119.13677690135066, 136.12168886913398, 173.1358858180036, 175.54936057823517, 184.92433447088666, 209.96405982832783, 219.0136873145725, 224.05263754662184, 226.47373116528212, 237.11717359904114, 243.45353023329773, 246.821232272477, 247.63064600646598, 248.17716911171402, 248.62468920052441, 248.98039327823994, 249.0519584491777, 251.6532427272772, 252.90728874411573, 255.06495663917065, 255.66947266620062, 255.66962619126951, 255.92409928867525], \"yaxis\": \"y9\", \"z\": [[null, null, 0.253996767103672], [null, null, 0.2553078122437], [null, 0.2330324575304985, null], [null, 0.2708234563469887, null], [null, null, 0.26958279125392437], [null, null, 0.2656950391829014], [null, null, 0.2883530855178833], [null, null, 0.25102086178958416], [null, 0.2820313274860382, null], [null, null, 0.27214717492461205], [null, null, 0.24020745791494846], [null, null, 0.2672870345413685], [null, null, 0.24240343272686005], [null, 0.2578176222741604, null], [null, 0.2263924852013588, null], [null, 0.2556901406496763, null], [null, null, 0.2643739078193903], [null, 0.2409790586680174, null], [null, 0.2530394420027733, null], [null, 0.22953632660210133, null], [null, null, 0.25246404111385345], [null, 0.23592069745063782, null], [null, 0.2371191754937172, null], [null, 0.24880902469158173, null], [null, 0.23689827509224415, null], [null, 0.23060715943574905, null], [null, null, 0.26490793004631996], [null, 0.23060716595500708, null], [null, 0.23027783632278442, null], [null, 0.2390523049980402, null], [null, 0.24516725353896618, null], [null, 0.22774771973490715, null]]}, {\"marker\": {\"color\": \"black\"}, \"mode\": \"markers\", \"showlegend\": false, \"type\": \"scatter\", \"x\": [2, 3, 3, 3, 3, 3, 3, 3, 2, 2, 3, 3, 3, 3, 3, 3, 2, 2, 2, 2, 2, 2, 2, 2, 2, 2, 2, 2, 2, 2, 2, 2], \"xaxis\": \"x9\", \"y\": [103.38247964137062, 78.37951042007731, 64.63685970128728, 56.05442905833494, 246.821232272477, 82.2936336065144, 251.6532427272772, 32.84689993028172, 41.513119482496954, 45.61101540162852, 136.12168886913398, 119.13677690135066, 36.72645284317059, 175.54936057823517, 173.1358858180036, 224.05263754662184, 248.62468920052441, 248.98039327823994, 237.11717359904114, 249.0519584491777, 248.17716911171402, 252.90728874411573, 209.96405982832783, 247.63064600646598, 219.0136873145725, 255.92409928867525, 255.06495663917065, 184.92433447088666, 255.66947266620062, 255.66962619126951, 226.47373116528212, 243.45353023329773], \"yaxis\": \"y9\"}, {\"colorbar\": {\"title\": {\"text\": \"Objective Value\"}}, \"colorscale\": [[0.0, \"rgb(247,251,255)\"], [0.125, \"rgb(222,235,247)\"], [0.25, \"rgb(198,219,239)\"], [0.375, \"rgb(158,202,225)\"], [0.5, \"rgb(107,174,214)\"], [0.625, \"rgb(66,146,198)\"], [0.75, \"rgb(33,113,181)\"], [0.875, \"rgb(8,81,156)\"], [1.0, \"rgb(8,48,107)\"]], \"connectgaps\": true, \"contours\": {\"coloring\": \"heatmap\"}, \"hoverinfo\": \"none\", \"line\": {\"smoothing\": 1.3}, \"reversescale\": true, \"showscale\": false, \"type\": \"contour\", \"x\": [1, 2, 3], \"xaxis\": \"x13\", \"y\": [36.39426249330998, 44.5254852982493, 77.47623236725656, 96.2077203980807, 104.46616647058897, 108.69814813858511, 113.60538499092658, 123.6653863708816, 163.6622901731585, 181.15512453655936, 201.13371172376014, 203.3349719220077, 217.2395452497521], \"yaxis\": \"y13\", \"z\": [[null, null, 0.25246404111385345], [null, null, 0.26490793004631996], [null, null, 0.2656950391829014], [null, null, 0.2883530855178833], [null, null, 0.2643739078193903], [null, null, 0.24240343272686005], [null, null, 0.2672870345413685], [null, null, 0.26958279125392437], [null, null, 0.253996767103672], [null, null, 0.25102086178958416], [null, null, 0.27214717492461205], [null, null, 0.2553078122437], [null, null, 0.24020745791494846]]}, {\"marker\": {\"color\": \"black\"}, \"mode\": \"markers\", \"showlegend\": false, \"type\": \"scatter\", \"x\": [3, 3, 3, 3, 3, 3, 3, 3, 3, 3, 3, 3, 3], \"xaxis\": \"x13\", \"y\": [96.2077203980807, 77.47623236725656, 123.6653863708816, 36.39426249330998, 181.15512453655936, 44.5254852982493, 163.6622901731585, 217.2395452497521, 201.13371172376014, 203.3349719220077, 108.69814813858511, 113.60538499092658, 104.46616647058897], \"yaxis\": \"y13\"}, {\"colorbar\": {\"title\": {\"text\": \"Objective Value\"}}, \"colorscale\": [[0.0, \"rgb(247,251,255)\"], [0.125, \"rgb(222,235,247)\"], [0.25, \"rgb(198,219,239)\"], [0.375, \"rgb(158,202,225)\"], [0.5, \"rgb(107,174,214)\"], [0.625, \"rgb(66,146,198)\"], [0.75, \"rgb(33,113,181)\"], [0.875, \"rgb(8,81,156)\"], [1.0, \"rgb(8,48,107)\"]], \"connectgaps\": true, \"contours\": {\"coloring\": \"heatmap\"}, \"hoverinfo\": \"none\", \"line\": {\"smoothing\": 1.3}, \"reversescale\": true, \"showscale\": false, \"type\": \"contour\", \"x\": [38.63368327828813, 61.861809340355066, 64.4523529920253, 112.76004948638199, 128.93978187621568, 129.59602989013428, 140.91690956956657, 149.43206402434868, 150.86146384721712, 168.39748663593, 169.83123355686402, 170.7675268448263, 178.8631471298371, 181.02675672071888, 181.57794099141697, 182.82264052567263, 189.21936630739114, 189.78238213239194, 200.99073155697914, 208.1738433957372, 217.25426989833403, 226.83203036771795, 233.09953582609856, 234.0979216117891, 234.34864085779077, 235.36328925805907, 244.19351317529978, 244.38432972654155, 246.9653510692827, 249.61604322727672, 250.14969779831608, 255.4506017615034, 255.79289908804088], \"xaxis\": \"x2\", \"y\": [1, 2, 3], \"yaxis\": \"y2\", \"z\": [[null, null, null, null, null, null, null, null, null, null, null, null, null, null, null, null, null, null, null, 0.26976754516363144, null, null, null, null, null, null, null, null, null, null, null, null, null], [null, 0.2820313274860382, null, null, null, null, null, 0.24880902469158173, null, null, null, null, 0.2530394420027733, null, 0.23689827509224415, null, 0.22953632660210133, 0.2390523049980402, 0.2409790586680174, null, 0.24516725353896618, 0.23027783632278442, 0.2578176222741604, 0.22774771973490715, null, 0.2708234563469887, 0.2371191754937172, 0.23592069745063782, 0.2330324575304985, 0.23060715943574905, 0.2263924852013588, 0.2556901406496763, 0.23060716595500708], [0.26958279125392437, null, 0.2883530855178833, 0.27214717492461205, 0.26490793004631996, 0.253996767103672, 0.25246404111385345, null, 0.24020745791494846, 0.2656950391829014, 0.2553078122437, 0.25102086178958416, null, 0.2672870345413685, null, 0.24240343272686005, null, null, null, null, null, null, null, null, 0.2643739078193903, null, null, null, null, null, null, null, null]]}, {\"marker\": {\"color\": \"black\"}, \"mode\": \"markers\", \"showlegend\": false, \"type\": \"scatter\", \"x\": [61.861809340355066, 64.4523529920253, 168.39748663593, 38.63368327828813, 208.1738433957372, 140.91690956956657, 170.7675268448263, 128.93978187621568, 129.59602989013428, 246.9653510692827, 235.36328925805907, 150.86146384721712, 112.76004948638199, 169.83123355686402, 182.82264052567263, 181.02675672071888, 234.34864085779077, 149.43206402434868, 181.57794099141697, 178.8631471298371, 249.61604322727672, 244.19351317529978, 255.79289908804088, 250.14969779831608, 244.38432972654155, 255.4506017615034, 234.0979216117891, 226.83203036771795, 233.09953582609856, 189.78238213239194, 217.25426989833403, 200.99073155697914, 189.21936630739114], \"xaxis\": \"x2\", \"y\": [2, 3, 3, 3, 1, 3, 3, 3, 3, 2, 2, 3, 3, 3, 3, 3, 3, 2, 2, 2, 2, 2, 2, 2, 2, 2, 2, 2, 2, 2, 2, 2, 2], \"yaxis\": \"y2\"}, {\"type\": \"scatter\", \"xaxis\": \"x6\", \"yaxis\": \"y6\"}, {\"colorbar\": {\"title\": {\"text\": \"Objective Value\"}}, \"colorscale\": [[0.0, \"rgb(247,251,255)\"], [0.125, \"rgb(222,235,247)\"], [0.25, \"rgb(198,219,239)\"], [0.375, \"rgb(158,202,225)\"], [0.5, \"rgb(107,174,214)\"], [0.625, \"rgb(66,146,198)\"], [0.75, \"rgb(33,113,181)\"], [0.875, \"rgb(8,81,156)\"], [1.0, \"rgb(8,48,107)\"]], \"connectgaps\": true, \"contours\": {\"coloring\": \"heatmap\"}, \"hoverinfo\": \"none\", \"line\": {\"smoothing\": 1.3}, \"reversescale\": true, \"showscale\": false, \"type\": \"contour\", \"x\": [38.63368327828813, 61.861809340355066, 64.4523529920253, 112.76004948638199, 128.93978187621568, 129.59602989013428, 140.91690956956657, 149.43206402434868, 150.86146384721712, 168.39748663593, 169.83123355686402, 170.7675268448263, 178.8631471298371, 181.02675672071888, 181.57794099141697, 182.82264052567263, 189.21936630739114, 189.78238213239194, 200.99073155697914, 208.1738433957372, 217.25426989833403, 226.83203036771795, 233.09953582609856, 234.0979216117891, 234.34864085779077, 235.36328925805907, 244.19351317529978, 244.38432972654155, 246.9653510692827, 249.61604322727672, 250.14969779831608, 255.4506017615034, 255.79289908804088], \"xaxis\": \"x10\", \"y\": [32.84689993028172, 36.72645284317059, 41.513119482496954, 45.61101540162852, 56.05442905833494, 64.63685970128728, 78.37951042007731, 82.2936336065144, 103.38247964137062, 119.13677690135066, 136.12168886913398, 173.1358858180036, 175.54936057823517, 184.92433447088666, 209.96405982832783, 219.0136873145725, 224.05263754662184, 226.47373116528212, 237.11717359904114, 243.45353023329773, 246.821232272477, 247.63064600646598, 248.17716911171402, 248.62468920052441, 248.98039327823994, 249.0519584491777, 251.6532427272772, 252.90728874411573, 255.06495663917065, 255.66947266620062, 255.66962619126951, 255.92409928867525], \"yaxis\": \"y10\", \"z\": [[null, null, null, null, null, 0.253996767103672, null, null, null, null, null, null, null, null, null, null, null, null, null, null, null, null, null, null, null, null, null, null, null, null, null, null, null], [null, null, null, null, null, null, null, null, null, null, 0.2553078122437, null, null, null, null, null, null, null, null, null, null, null, null, null, null, null, null, null, null, null, null, null, null], [null, null, null, null, null, null, null, null, null, null, null, null, null, null, null, null, null, null, null, null, null, null, null, null, null, null, null, null, 0.2330324575304985, null, null, null, null], [null, null, null, null, null, null, null, null, null, null, null, null, null, null, null, null, null, null, null, null, null, null, null, null, null, 0.2708234563469887, null, null, null, null, null, null, null], [0.26958279125392437, null, null, null, null, null, null, null, null, null, null, null, null, null, null, null, null, null, null, null, null, null, null, null, null, null, null, null, null, null, null, null, null], [null, null, null, null, null, null, null, null, null, 0.2656950391829014, null, null, null, null, null, null, null, null, null, null, null, null, null, null, null, null, null, null, null, null, null, null, null], [null, null, 0.2883530855178833, null, null, null, null, null, null, null, null, null, null, null, null, null, null, null, null, null, null, null, null, null, null, null, null, null, null, null, null, null, null], [null, null, null, null, null, null, null, null, null, null, null, 0.25102086178958416, null, null, null, null, null, null, null, null, null, null, null, null, null, null, null, null, null, null, null, null, null], [null, 0.2820313274860382, null, null, null, null, null, null, null, null, null, null, null, null, null, null, null, null, null, null, null, null, null, null, null, null, null, null, null, null, null, null, null], [null, null, null, 0.27214717492461205, null, null, null, null, null, null, null, null, null, null, null, null, null, null, null, null, null, null, null, null, null, null, null, null, null, null, null, null, null], [null, null, null, null, null, null, null, null, 0.24020745791494846, null, null, null, null, null, null, null, null, null, null, null, null, null, null, null, null, null, null, null, null, null, null, null, null], [null, null, null, null, null, null, null, null, null, null, null, null, null, 0.2672870345413685, null, null, null, null, null, null, null, null, null, null, null, null, null, null, null, null, null, null, null], [null, null, null, null, null, null, null, null, null, null, null, null, null, null, null, 0.24240343272686005, null, null, null, null, null, null, null, null, null, null, null, null, null, null, null, null, null], [null, null, null, null, null, null, null, null, null, null, null, null, null, null, null, null, null, null, null, null, null, null, 0.2578176222741604, null, null, null, null, null, null, null, null, null, null], [null, null, null, null, null, null, null, null, null, null, null, null, null, null, null, null, null, null, null, null, null, null, null, null, null, null, null, null, null, null, 0.2263924852013588, null, null], [null, null, null, null, null, null, null, null, null, null, null, null, null, null, null, null, null, null, null, null, null, null, null, null, null, null, null, null, null, null, null, 0.2556901406496763, null], [null, null, null, null, null, null, null, null, null, null, null, null, null, null, null, null, null, null, null, null, null, null, null, null, 0.2643739078193903, null, null, null, null, null, null, null, null], [null, null, null, null, null, null, null, null, null, null, null, null, null, null, null, null, null, null, 0.2409790586680174, null, null, null, null, null, null, null, null, null, null, null, null, null, null], [null, null, null, null, null, null, null, null, null, null, null, null, 0.2530394420027733, null, null, null, null, null, null, null, null, null, null, null, null, null, null, null, null, null, null, null, null], [null, null, null, null, null, null, null, null, null, null, null, null, null, null, null, null, 0.22953632660210133, null, null, null, null, null, null, null, null, null, null, null, null, null, null, null, null], [null, null, null, null, null, null, 0.25246404111385345, null, null, null, null, null, null, null, null, null, null, null, null, null, null, null, null, null, null, null, null, null, null, null, null, null, null], [null, null, null, null, null, null, null, null, null, null, null, null, null, null, null, null, null, null, null, null, null, null, null, null, null, null, null, 0.23592069745063782, null, null, null, null, null], [null, null, null, null, null, null, null, null, null, null, null, null, null, null, null, null, null, null, null, null, null, null, null, null, null, null, 0.2371191754937172, null, null, null, null, null, null], [null, null, null, null, null, null, null, 0.24880902469158173, null, null, null, null, null, null, null, null, null, null, null, null, null, null, null, null, null, null, null, null, null, null, null, null, null], [null, null, null, null, null, null, null, null, null, null, null, null, null, null, 0.23689827509224415, null, null, null, null, null, null, null, null, null, null, null, null, null, null, null, null, null, null], [null, null, null, null, null, null, null, null, null, null, null, null, null, null, null, null, null, null, null, null, null, null, null, null, null, null, null, null, null, 0.23060715943574905, null, null, null], [null, null, null, null, 0.26490793004631996, null, null, null, null, null, null, null, null, null, null, null, null, null, null, null, null, null, null, null, null, null, null, null, null, null, null, null, null], [null, null, null, null, null, null, null, null, null, null, null, null, null, null, null, null, null, null, null, null, null, null, null, null, null, null, null, null, null, null, null, null, 0.23060716595500708], [null, null, null, null, null, null, null, null, null, null, null, null, null, null, null, null, null, null, null, null, null, 0.23027783632278442, null, null, null, null, null, null, null, null, null, null, null], [null, null, null, null, null, null, null, null, null, null, null, null, null, null, null, null, null, 0.2390523049980402, null, null, null, null, null, null, null, null, null, null, null, null, null, null, null], [null, null, null, null, null, null, null, null, null, null, null, null, null, null, null, null, null, null, null, null, 0.24516725353896618, null, null, null, null, null, null, null, null, null, null, null, null], [null, null, null, null, null, null, null, null, null, null, null, null, null, null, null, null, null, null, null, null, null, null, null, 0.22774771973490715, null, null, null, null, null, null, null, null, null]]}, {\"marker\": {\"color\": \"black\"}, \"mode\": \"markers\", \"showlegend\": false, \"type\": \"scatter\", \"x\": [61.861809340355066, 64.4523529920253, 168.39748663593, 38.63368327828813, 140.91690956956657, 170.7675268448263, 128.93978187621568, 129.59602989013428, 246.9653510692827, 235.36328925805907, 150.86146384721712, 112.76004948638199, 169.83123355686402, 182.82264052567263, 181.02675672071888, 234.34864085779077, 149.43206402434868, 181.57794099141697, 178.8631471298371, 249.61604322727672, 244.19351317529978, 255.79289908804088, 250.14969779831608, 244.38432972654155, 255.4506017615034, 234.0979216117891, 226.83203036771795, 233.09953582609856, 189.78238213239194, 217.25426989833403, 200.99073155697914, 189.21936630739114], \"xaxis\": \"x10\", \"y\": [103.38247964137062, 78.37951042007731, 64.63685970128728, 56.05442905833494, 246.821232272477, 82.2936336065144, 251.6532427272772, 32.84689993028172, 41.513119482496954, 45.61101540162852, 136.12168886913398, 119.13677690135066, 36.72645284317059, 175.54936057823517, 173.1358858180036, 224.05263754662184, 248.62468920052441, 248.98039327823994, 237.11717359904114, 249.0519584491777, 248.17716911171402, 252.90728874411573, 209.96405982832783, 247.63064600646598, 219.0136873145725, 255.92409928867525, 255.06495663917065, 184.92433447088666, 255.66947266620062, 255.66962619126951, 226.47373116528212, 243.45353023329773], \"yaxis\": \"y10\"}, {\"colorbar\": {\"title\": {\"text\": \"Objective Value\"}}, \"colorscale\": [[0.0, \"rgb(247,251,255)\"], [0.125, \"rgb(222,235,247)\"], [0.25, \"rgb(198,219,239)\"], [0.375, \"rgb(158,202,225)\"], [0.5, \"rgb(107,174,214)\"], [0.625, \"rgb(66,146,198)\"], [0.75, \"rgb(33,113,181)\"], [0.875, \"rgb(8,81,156)\"], [1.0, \"rgb(8,48,107)\"]], \"connectgaps\": true, \"contours\": {\"coloring\": \"heatmap\"}, \"hoverinfo\": \"none\", \"line\": {\"smoothing\": 1.3}, \"reversescale\": true, \"showscale\": false, \"type\": \"contour\", \"x\": [38.63368327828813, 61.861809340355066, 64.4523529920253, 112.76004948638199, 128.93978187621568, 129.59602989013428, 140.91690956956657, 149.43206402434868, 150.86146384721712, 168.39748663593, 169.83123355686402, 170.7675268448263, 178.8631471298371, 181.02675672071888, 181.57794099141697, 182.82264052567263, 189.21936630739114, 189.78238213239194, 200.99073155697914, 208.1738433957372, 217.25426989833403, 226.83203036771795, 233.09953582609856, 234.0979216117891, 234.34864085779077, 235.36328925805907, 244.19351317529978, 244.38432972654155, 246.9653510692827, 249.61604322727672, 250.14969779831608, 255.4506017615034, 255.79289908804088], \"xaxis\": \"x14\", \"y\": [36.39426249330998, 44.5254852982493, 77.47623236725656, 96.2077203980807, 104.46616647058897, 108.69814813858511, 113.60538499092658, 123.6653863708816, 163.6622901731585, 181.15512453655936, 201.13371172376014, 203.3349719220077, 217.2395452497521], \"yaxis\": \"y14\", \"z\": [[null, null, null, null, null, null, 0.25246404111385345, null, null, null, null, null, null, null, null, null, null, null, null, null, null, null, null, null, null, null, null, null, null, null, null, null, null], [null, null, null, null, 0.26490793004631996, null, null, null, null, null, null, null, null, null, null, null, null, null, null, null, null, null, null, null, null, null, null, null, null, null, null, null, null], [null, null, null, null, null, null, null, null, null, 0.2656950391829014, null, null, null, null, null, null, null, null, null, null, null, null, null, null, null, null, null, null, null, null, null, null, null], [null, null, 0.2883530855178833, null, null, null, null, null, null, null, null, null, null, null, null, null, null, null, null, null, null, null, null, null, null, null, null, null, null, null, null, null, null], [null, null, null, null, null, null, null, null, null, null, null, null, null, null, null, null, null, null, null, null, null, null, null, null, 0.2643739078193903, null, null, null, null, null, null, null, null], [null, null, null, null, null, null, null, null, null, null, null, null, null, null, null, 0.24240343272686005, null, null, null, null, null, null, null, null, null, null, null, null, null, null, null, null, null], [null, null, null, null, null, null, null, null, null, null, null, null, null, 0.2672870345413685, null, null, null, null, null, null, null, null, null, null, null, null, null, null, null, null, null, null, null], [0.26958279125392437, null, null, null, null, null, null, null, null, null, null, null, null, null, null, null, null, null, null, null, null, null, null, null, null, null, null, null, null, null, null, null, null], [null, null, null, null, null, 0.253996767103672, null, null, null, null, null, null, null, null, null, null, null, null, null, null, null, null, null, null, null, null, null, null, null, null, null, null, null], [null, null, null, null, null, null, null, null, null, null, null, 0.25102086178958416, null, null, null, null, null, null, null, null, null, null, null, null, null, null, null, null, null, null, null, null, null], [null, null, null, 0.27214717492461205, null, null, null, null, null, null, null, null, null, null, null, null, null, null, null, null, null, null, null, null, null, null, null, null, null, null, null, null, null], [null, null, null, null, null, null, null, null, null, null, 0.2553078122437, null, null, null, null, null, null, null, null, null, null, null, null, null, null, null, null, null, null, null, null, null, null], [null, null, null, null, null, null, null, null, 0.24020745791494846, null, null, null, null, null, null, null, null, null, null, null, null, null, null, null, null, null, null, null, null, null, null, null, null]]}, {\"marker\": {\"color\": \"black\"}, \"mode\": \"markers\", \"showlegend\": false, \"type\": \"scatter\", \"x\": [64.4523529920253, 168.39748663593, 38.63368327828813, 140.91690956956657, 170.7675268448263, 128.93978187621568, 129.59602989013428, 150.86146384721712, 112.76004948638199, 169.83123355686402, 182.82264052567263, 181.02675672071888, 234.34864085779077], \"xaxis\": \"x14\", \"y\": [96.2077203980807, 77.47623236725656, 123.6653863708816, 36.39426249330998, 181.15512453655936, 44.5254852982493, 163.6622901731585, 217.2395452497521, 201.13371172376014, 203.3349719220077, 108.69814813858511, 113.60538499092658, 104.46616647058897], \"yaxis\": \"y14\"}, {\"colorbar\": {\"title\": {\"text\": \"Objective Value\"}}, \"colorscale\": [[0.0, \"rgb(247,251,255)\"], [0.125, \"rgb(222,235,247)\"], [0.25, \"rgb(198,219,239)\"], [0.375, \"rgb(158,202,225)\"], [0.5, \"rgb(107,174,214)\"], [0.625, \"rgb(66,146,198)\"], [0.75, \"rgb(33,113,181)\"], [0.875, \"rgb(8,81,156)\"], [1.0, \"rgb(8,48,107)\"]], \"connectgaps\": true, \"contours\": {\"coloring\": \"heatmap\"}, \"hoverinfo\": \"none\", \"line\": {\"smoothing\": 1.3}, \"reversescale\": true, \"showscale\": false, \"type\": \"contour\", \"x\": [32.84689993028172, 36.72645284317059, 41.513119482496954, 45.61101540162852, 56.05442905833494, 64.63685970128728, 78.37951042007731, 82.2936336065144, 103.38247964137062, 119.13677690135066, 136.12168886913398, 173.1358858180036, 175.54936057823517, 184.92433447088666, 209.96405982832783, 219.0136873145725, 224.05263754662184, 226.47373116528212, 237.11717359904114, 243.45353023329773, 246.821232272477, 247.63064600646598, 248.17716911171402, 248.62468920052441, 248.98039327823994, 249.0519584491777, 251.6532427272772, 252.90728874411573, 255.06495663917065, 255.66947266620062, 255.66962619126951, 255.92409928867525], \"xaxis\": \"x3\", \"y\": [1, 2, 3], \"yaxis\": \"y3\", \"z\": [[null, null, null, null, null, null, null, null, null, null, null, null, null, null, null, null, null, null, null, null, null, null, null, null, null, null, null, null, null, null, null, null], [null, null, 0.2330324575304985, 0.2708234563469887, null, null, null, null, 0.2820313274860382, null, null, null, null, 0.2578176222741604, 0.2263924852013588, 0.2556901406496763, null, 0.2409790586680174, 0.2530394420027733, 0.22953632660210133, null, 0.23592069745063782, 0.2371191754937172, 0.24880902469158173, 0.23689827509224415, 0.23060715943574905, null, 0.23060716595500708, 0.23027783632278442, 0.2390523049980402, 0.24516725353896618, 0.22774771973490715], [0.253996767103672, 0.2553078122437, null, null, 0.26958279125392437, 0.2656950391829014, 0.2883530855178833, 0.25102086178958416, null, 0.27214717492461205, 0.24020745791494846, 0.2672870345413685, 0.24240343272686005, null, null, null, 0.2643739078193903, null, null, null, 0.25246404111385345, null, null, null, null, null, 0.26490793004631996, null, null, null, null, null]]}, {\"marker\": {\"color\": \"black\"}, \"mode\": \"markers\", \"showlegend\": false, \"type\": \"scatter\", \"x\": [103.38247964137062, 78.37951042007731, 64.63685970128728, 56.05442905833494, 246.821232272477, 82.2936336065144, 251.6532427272772, 32.84689993028172, 41.513119482496954, 45.61101540162852, 136.12168886913398, 119.13677690135066, 36.72645284317059, 175.54936057823517, 173.1358858180036, 224.05263754662184, 248.62468920052441, 248.98039327823994, 237.11717359904114, 249.0519584491777, 248.17716911171402, 252.90728874411573, 209.96405982832783, 247.63064600646598, 219.0136873145725, 255.92409928867525, 255.06495663917065, 184.92433447088666, 255.66947266620062, 255.66962619126951, 226.47373116528212, 243.45353023329773], \"xaxis\": \"x3\", \"y\": [2, 3, 3, 3, 3, 3, 3, 3, 2, 2, 3, 3, 3, 3, 3, 3, 2, 2, 2, 2, 2, 2, 2, 2, 2, 2, 2, 2, 2, 2, 2, 2], \"yaxis\": \"y3\"}, {\"colorbar\": {\"title\": {\"text\": \"Objective Value\"}}, \"colorscale\": [[0.0, \"rgb(247,251,255)\"], [0.125, \"rgb(222,235,247)\"], [0.25, \"rgb(198,219,239)\"], [0.375, \"rgb(158,202,225)\"], [0.5, \"rgb(107,174,214)\"], [0.625, \"rgb(66,146,198)\"], [0.75, \"rgb(33,113,181)\"], [0.875, \"rgb(8,81,156)\"], [1.0, \"rgb(8,48,107)\"]], \"connectgaps\": true, \"contours\": {\"coloring\": \"heatmap\"}, \"hoverinfo\": \"none\", \"line\": {\"smoothing\": 1.3}, \"reversescale\": true, \"showscale\": false, \"type\": \"contour\", \"x\": [32.84689993028172, 36.72645284317059, 41.513119482496954, 45.61101540162852, 56.05442905833494, 64.63685970128728, 78.37951042007731, 82.2936336065144, 103.38247964137062, 119.13677690135066, 136.12168886913398, 173.1358858180036, 175.54936057823517, 184.92433447088666, 209.96405982832783, 219.0136873145725, 224.05263754662184, 226.47373116528212, 237.11717359904114, 243.45353023329773, 246.821232272477, 247.63064600646598, 248.17716911171402, 248.62468920052441, 248.98039327823994, 249.0519584491777, 251.6532427272772, 252.90728874411573, 255.06495663917065, 255.66947266620062, 255.66962619126951, 255.92409928867525], \"xaxis\": \"x7\", \"y\": [38.63368327828813, 61.861809340355066, 64.4523529920253, 112.76004948638199, 128.93978187621568, 129.59602989013428, 140.91690956956657, 149.43206402434868, 150.86146384721712, 168.39748663593, 169.83123355686402, 170.7675268448263, 178.8631471298371, 181.02675672071888, 181.57794099141697, 182.82264052567263, 189.21936630739114, 189.78238213239194, 200.99073155697914, 208.1738433957372, 217.25426989833403, 226.83203036771795, 233.09953582609856, 234.0979216117891, 234.34864085779077, 235.36328925805907, 244.19351317529978, 244.38432972654155, 246.9653510692827, 249.61604322727672, 250.14969779831608, 255.4506017615034, 255.79289908804088], \"yaxis\": \"y7\", \"z\": [[null, null, null, null, 0.26958279125392437, null, null, null, null, null, null, null, null, null, null, null, null, null, null, null, null, null, null, null, null, null, null, null, null, null, null, null], [null, null, null, null, null, null, null, null, 0.2820313274860382, null, null, null, null, null, null, null, null, null, null, null, null, null, null, null, null, null, null, null, null, null, null, null], [null, null, null, null, null, null, 0.2883530855178833, null, null, null, null, null, null, null, null, null, null, null, null, null, null, null, null, null, null, null, null, null, null, null, null, null], [null, null, null, null, null, null, null, null, null, 0.27214717492461205, null, null, null, null, null, null, null, null, null, null, null, null, null, null, null, null, null, null, null, null, null, null], [null, null, null, null, null, null, null, null, null, null, null, null, null, null, null, null, null, null, null, null, null, null, null, null, null, null, 0.26490793004631996, null, null, null, null, null], [0.253996767103672, null, null, null, null, null, null, null, null, null, null, null, null, null, null, null, null, null, null, null, null, null, null, null, null, null, null, null, null, null, null, null], [null, null, null, null, null, null, null, null, null, null, null, null, null, null, null, null, null, null, null, null, 0.25246404111385345, null, null, null, null, null, null, null, null, null, null, null], [null, null, null, null, null, null, null, null, null, null, null, null, null, null, null, null, null, null, null, null, null, null, null, 0.24880902469158173, null, null, null, null, null, null, null, null], [null, null, null, null, null, null, null, null, null, null, 0.24020745791494846, null, null, null, null, null, null, null, null, null, null, null, null, null, null, null, null, null, null, null, null, null], [null, null, null, null, null, 0.2656950391829014, null, null, null, null, null, null, null, null, null, null, null, null, null, null, null, null, null, null, null, null, null, null, null, null, null, null], [null, 0.2553078122437, null, null, null, null, null, null, null, null, null, null, null, null, null, null, null, null, null, null, null, null, null, null, null, null, null, null, null, null, null, null], [null, null, null, null, null, null, null, 0.25102086178958416, null, null, null, null, null, null, null, null, null, null, null, null, null, null, null, null, null, null, null, null, null, null, null, null], [null, null, null, null, null, null, null, null, null, null, null, null, null, null, null, null, null, null, 0.2530394420027733, null, null, null, null, null, null, null, null, null, null, null, null, null], [null, null, null, null, null, null, null, null, null, null, null, 0.2672870345413685, null, null, null, null, null, null, null, null, null, null, null, null, null, null, null, null, null, null, null, null], [null, null, null, null, null, null, null, null, null, null, null, null, null, null, null, null, null, null, null, null, null, null, null, null, 0.23689827509224415, null, null, null, null, null, null, null], [null, null, null, null, null, null, null, null, null, null, null, null, 0.24240343272686005, null, null, null, null, null, null, null, null, null, null, null, null, null, null, null, null, null, null, null], [null, null, null, null, null, null, null, null, null, null, null, null, null, null, null, null, null, null, null, 0.22953632660210133, null, null, null, null, null, null, null, null, null, null, null, null], [null, null, null, null, null, null, null, null, null, null, null, null, null, null, null, null, null, null, null, null, null, null, null, null, null, null, null, null, null, 0.2390523049980402, null, null], [null, null, null, null, null, null, null, null, null, null, null, null, null, null, null, null, null, 0.2409790586680174, null, null, null, null, null, null, null, null, null, null, null, null, null, null], [null, null, null, null, null, null, null, null, null, null, null, null, null, null, null, null, null, null, null, null, null, null, null, null, null, null, null, null, null, null, null, null], [null, null, null, null, null, null, null, null, null, null, null, null, null, null, null, null, null, null, null, null, null, null, null, null, null, null, null, null, null, null, 0.24516725353896618, null], [null, null, null, null, null, null, null, null, null, null, null, null, null, null, null, null, null, null, null, null, null, null, null, null, null, null, null, null, 0.23027783632278442, null, null, null], [null, null, null, null, null, null, null, null, null, null, null, null, null, 0.2578176222741604, null, null, null, null, null, null, null, null, null, null, null, null, null, null, null, null, null, null], [null, null, null, null, null, null, null, null, null, null, null, null, null, null, null, null, null, null, null, null, null, null, null, null, null, null, null, null, null, null, null, 0.22774771973490715], [null, null, null, null, null, null, null, null, null, null, null, null, null, null, null, null, 0.2643739078193903, null, null, null, null, null, null, null, null, null, null, null, null, null, null, null], [null, null, null, 0.2708234563469887, null, null, null, null, null, null, null, null, null, null, null, null, null, null, null, null, null, null, null, null, null, null, null, null, null, null, null, null], [null, null, null, null, null, null, null, null, null, null, null, null, null, null, null, null, null, null, null, null, null, null, 0.2371191754937172, null, null, null, null, null, null, null, null, null], [null, null, null, null, null, null, null, null, null, null, null, null, null, null, null, null, null, null, null, null, null, 0.23592069745063782, null, null, null, null, null, null, null, null, null, null], [null, null, 0.2330324575304985, null, null, null, null, null, null, null, null, null, null, null, null, null, null, null, null, null, null, null, null, null, null, null, null, null, null, null, null, null], [null, null, null, null, null, null, null, null, null, null, null, null, null, null, null, null, null, null, null, null, null, null, null, null, null, 0.23060715943574905, null, null, null, null, null, null], [null, null, null, null, null, null, null, null, null, null, null, null, null, null, 0.2263924852013588, null, null, null, null, null, null, null, null, null, null, null, null, null, null, null, null, null], [null, null, null, null, null, null, null, null, null, null, null, null, null, null, null, 0.2556901406496763, null, null, null, null, null, null, null, null, null, null, null, null, null, null, null, null], [null, null, null, null, null, null, null, null, null, null, null, null, null, null, null, null, null, null, null, null, null, null, null, null, null, null, null, 0.23060716595500708, null, null, null, null]]}, {\"marker\": {\"color\": \"black\"}, \"mode\": \"markers\", \"showlegend\": false, \"type\": \"scatter\", \"x\": [103.38247964137062, 78.37951042007731, 64.63685970128728, 56.05442905833494, 246.821232272477, 82.2936336065144, 251.6532427272772, 32.84689993028172, 41.513119482496954, 45.61101540162852, 136.12168886913398, 119.13677690135066, 36.72645284317059, 175.54936057823517, 173.1358858180036, 224.05263754662184, 248.62468920052441, 248.98039327823994, 237.11717359904114, 249.0519584491777, 248.17716911171402, 252.90728874411573, 209.96405982832783, 247.63064600646598, 219.0136873145725, 255.92409928867525, 255.06495663917065, 184.92433447088666, 255.66947266620062, 255.66962619126951, 226.47373116528212, 243.45353023329773], \"xaxis\": \"x7\", \"y\": [61.861809340355066, 64.4523529920253, 168.39748663593, 38.63368327828813, 140.91690956956657, 170.7675268448263, 128.93978187621568, 129.59602989013428, 246.9653510692827, 235.36328925805907, 150.86146384721712, 112.76004948638199, 169.83123355686402, 182.82264052567263, 181.02675672071888, 234.34864085779077, 149.43206402434868, 181.57794099141697, 178.8631471298371, 249.61604322727672, 244.19351317529978, 255.79289908804088, 250.14969779831608, 244.38432972654155, 255.4506017615034, 234.0979216117891, 226.83203036771795, 233.09953582609856, 189.78238213239194, 217.25426989833403, 200.99073155697914, 189.21936630739114], \"yaxis\": \"y7\"}, {\"type\": \"scatter\", \"xaxis\": \"x11\", \"yaxis\": \"y11\"}, {\"colorbar\": {\"title\": {\"text\": \"Objective Value\"}}, \"colorscale\": [[0.0, \"rgb(247,251,255)\"], [0.125, \"rgb(222,235,247)\"], [0.25, \"rgb(198,219,239)\"], [0.375, \"rgb(158,202,225)\"], [0.5, \"rgb(107,174,214)\"], [0.625, \"rgb(66,146,198)\"], [0.75, \"rgb(33,113,181)\"], [0.875, \"rgb(8,81,156)\"], [1.0, \"rgb(8,48,107)\"]], \"connectgaps\": true, \"contours\": {\"coloring\": \"heatmap\"}, \"hoverinfo\": \"none\", \"line\": {\"smoothing\": 1.3}, \"reversescale\": true, \"showscale\": false, \"type\": \"contour\", \"x\": [32.84689993028172, 36.72645284317059, 41.513119482496954, 45.61101540162852, 56.05442905833494, 64.63685970128728, 78.37951042007731, 82.2936336065144, 103.38247964137062, 119.13677690135066, 136.12168886913398, 173.1358858180036, 175.54936057823517, 184.92433447088666, 209.96405982832783, 219.0136873145725, 224.05263754662184, 226.47373116528212, 237.11717359904114, 243.45353023329773, 246.821232272477, 247.63064600646598, 248.17716911171402, 248.62468920052441, 248.98039327823994, 249.0519584491777, 251.6532427272772, 252.90728874411573, 255.06495663917065, 255.66947266620062, 255.66962619126951, 255.92409928867525], \"xaxis\": \"x15\", \"y\": [36.39426249330998, 44.5254852982493, 77.47623236725656, 96.2077203980807, 104.46616647058897, 108.69814813858511, 113.60538499092658, 123.6653863708816, 163.6622901731585, 181.15512453655936, 201.13371172376014, 203.3349719220077, 217.2395452497521], \"yaxis\": \"y15\", \"z\": [[null, null, null, null, null, null, null, null, null, null, null, null, null, null, null, null, null, null, null, null, 0.25246404111385345, null, null, null, null, null, null, null, null, null, null, null], [null, null, null, null, null, null, null, null, null, null, null, null, null, null, null, null, null, null, null, null, null, null, null, null, null, null, 0.26490793004631996, null, null, null, null, null], [null, null, null, null, null, 0.2656950391829014, null, null, null, null, null, null, null, null, null, null, null, null, null, null, null, null, null, null, null, null, null, null, null, null, null, null], [null, null, null, null, null, null, 0.2883530855178833, null, null, null, null, null, null, null, null, null, null, null, null, null, null, null, null, null, null, null, null, null, null, null, null, null], [null, null, null, null, null, null, null, null, null, null, null, null, null, null, null, null, 0.2643739078193903, null, null, null, null, null, null, null, null, null, null, null, null, null, null, null], [null, null, null, null, null, null, null, null, null, null, null, null, 0.24240343272686005, null, null, null, null, null, null, null, null, null, null, null, null, null, null, null, null, null, null, null], [null, null, null, null, null, null, null, null, null, null, null, 0.2672870345413685, null, null, null, null, null, null, null, null, null, null, null, null, null, null, null, null, null, null, null, null], [null, null, null, null, 0.26958279125392437, null, null, null, null, null, null, null, null, null, null, null, null, null, null, null, null, null, null, null, null, null, null, null, null, null, null, null], [0.253996767103672, null, null, null, null, null, null, null, null, null, null, null, null, null, null, null, null, null, null, null, null, null, null, null, null, null, null, null, null, null, null, null], [null, null, null, null, null, null, null, 0.25102086178958416, null, null, null, null, null, null, null, null, null, null, null, null, null, null, null, null, null, null, null, null, null, null, null, null], [null, null, null, null, null, null, null, null, null, 0.27214717492461205, null, null, null, null, null, null, null, null, null, null, null, null, null, null, null, null, null, null, null, null, null, null], [null, 0.2553078122437, null, null, null, null, null, null, null, null, null, null, null, null, null, null, null, null, null, null, null, null, null, null, null, null, null, null, null, null, null, null], [null, null, null, null, null, null, null, null, null, null, 0.24020745791494846, null, null, null, null, null, null, null, null, null, null, null, null, null, null, null, null, null, null, null, null, null]]}, {\"marker\": {\"color\": \"black\"}, \"mode\": \"markers\", \"showlegend\": false, \"type\": \"scatter\", \"x\": [78.37951042007731, 64.63685970128728, 56.05442905833494, 246.821232272477, 82.2936336065144, 251.6532427272772, 32.84689993028172, 136.12168886913398, 119.13677690135066, 36.72645284317059, 175.54936057823517, 173.1358858180036, 224.05263754662184], \"xaxis\": \"x15\", \"y\": [96.2077203980807, 77.47623236725656, 123.6653863708816, 36.39426249330998, 181.15512453655936, 44.5254852982493, 163.6622901731585, 217.2395452497521, 201.13371172376014, 203.3349719220077, 108.69814813858511, 113.60538499092658, 104.46616647058897], \"yaxis\": \"y15\"}, {\"colorbar\": {\"title\": {\"text\": \"Objective Value\"}}, \"colorscale\": [[0.0, \"rgb(247,251,255)\"], [0.125, \"rgb(222,235,247)\"], [0.25, \"rgb(198,219,239)\"], [0.375, \"rgb(158,202,225)\"], [0.5, \"rgb(107,174,214)\"], [0.625, \"rgb(66,146,198)\"], [0.75, \"rgb(33,113,181)\"], [0.875, \"rgb(8,81,156)\"], [1.0, \"rgb(8,48,107)\"]], \"connectgaps\": true, \"contours\": {\"coloring\": \"heatmap\"}, \"hoverinfo\": \"none\", \"line\": {\"smoothing\": 1.3}, \"reversescale\": true, \"showscale\": false, \"type\": \"contour\", \"x\": [36.39426249330998, 44.5254852982493, 77.47623236725656, 96.2077203980807, 104.46616647058897, 108.69814813858511, 113.60538499092658, 123.6653863708816, 163.6622901731585, 181.15512453655936, 201.13371172376014, 203.3349719220077, 217.2395452497521], \"xaxis\": \"x4\", \"y\": [1, 2, 3], \"yaxis\": \"y4\", \"z\": [[null, null, null, null, null, null, null, null, null, null, null, null, null], [null, null, null, null, null, null, null, null, null, null, null, null, null], [0.25246404111385345, 0.26490793004631996, 0.2656950391829014, 0.2883530855178833, 0.2643739078193903, 0.24240343272686005, 0.2672870345413685, 0.26958279125392437, 0.253996767103672, 0.25102086178958416, 0.27214717492461205, 0.2553078122437, 0.24020745791494846]]}, {\"marker\": {\"color\": \"black\"}, \"mode\": \"markers\", \"showlegend\": false, \"type\": \"scatter\", \"x\": [96.2077203980807, 77.47623236725656, 123.6653863708816, 36.39426249330998, 181.15512453655936, 44.5254852982493, 163.6622901731585, 217.2395452497521, 201.13371172376014, 203.3349719220077, 108.69814813858511, 113.60538499092658, 104.46616647058897], \"xaxis\": \"x4\", \"y\": [3, 3, 3, 3, 3, 3, 3, 3, 3, 3, 3, 3, 3], \"yaxis\": \"y4\"}, {\"colorbar\": {\"title\": {\"text\": \"Objective Value\"}}, \"colorscale\": [[0.0, \"rgb(247,251,255)\"], [0.125, \"rgb(222,235,247)\"], [0.25, \"rgb(198,219,239)\"], [0.375, \"rgb(158,202,225)\"], [0.5, \"rgb(107,174,214)\"], [0.625, \"rgb(66,146,198)\"], [0.75, \"rgb(33,113,181)\"], [0.875, \"rgb(8,81,156)\"], [1.0, \"rgb(8,48,107)\"]], \"connectgaps\": true, \"contours\": {\"coloring\": \"heatmap\"}, \"hoverinfo\": \"none\", \"line\": {\"smoothing\": 1.3}, \"reversescale\": true, \"showscale\": false, \"type\": \"contour\", \"x\": [36.39426249330998, 44.5254852982493, 77.47623236725656, 96.2077203980807, 104.46616647058897, 108.69814813858511, 113.60538499092658, 123.6653863708816, 163.6622901731585, 181.15512453655936, 201.13371172376014, 203.3349719220077, 217.2395452497521], \"xaxis\": \"x8\", \"y\": [38.63368327828813, 61.861809340355066, 64.4523529920253, 112.76004948638199, 128.93978187621568, 129.59602989013428, 140.91690956956657, 149.43206402434868, 150.86146384721712, 168.39748663593, 169.83123355686402, 170.7675268448263, 178.8631471298371, 181.02675672071888, 181.57794099141697, 182.82264052567263, 189.21936630739114, 189.78238213239194, 200.99073155697914, 208.1738433957372, 217.25426989833403, 226.83203036771795, 233.09953582609856, 234.0979216117891, 234.34864085779077, 235.36328925805907, 244.19351317529978, 244.38432972654155, 246.9653510692827, 249.61604322727672, 250.14969779831608, 255.4506017615034, 255.79289908804088], \"yaxis\": \"y8\", \"z\": [[null, null, null, null, null, null, null, 0.26958279125392437, null, null, null, null, null], [null, null, null, null, null, null, null, null, null, null, null, null, null], [null, null, null, 0.2883530855178833, null, null, null, null, null, null, null, null, null], [null, null, null, null, null, null, null, null, null, null, 0.27214717492461205, null, null], [null, 0.26490793004631996, null, null, null, null, null, null, null, null, null, null, null], [null, null, null, null, null, null, null, null, 0.253996767103672, null, null, null, null], [0.25246404111385345, null, null, null, null, null, null, null, null, null, null, null, null], [null, null, null, null, null, null, null, null, null, null, null, null, null], [null, null, null, null, null, null, null, null, null, null, null, null, 0.24020745791494846], [null, null, 0.2656950391829014, null, null, null, null, null, null, null, null, null, null], [null, null, null, null, null, null, null, null, null, null, null, 0.2553078122437, null], [null, null, null, null, null, null, null, null, null, 0.25102086178958416, null, null, null], [null, null, null, null, null, null, null, null, null, null, null, null, null], [null, null, null, null, null, null, 0.2672870345413685, null, null, null, null, null, null], [null, null, null, null, null, null, null, null, null, null, null, null, null], [null, null, null, null, null, 0.24240343272686005, null, null, null, null, null, null, null], [null, null, null, null, null, null, null, null, null, null, null, null, null], [null, null, null, null, null, null, null, null, null, null, null, null, null], [null, null, null, null, null, null, null, null, null, null, null, null, null], [null, null, null, null, null, null, null, null, null, null, null, null, null], [null, null, null, null, null, null, null, null, null, null, null, null, null], [null, null, null, null, null, null, null, null, null, null, null, null, null], [null, null, null, null, null, null, null, null, null, null, null, null, null], [null, null, null, null, null, null, null, null, null, null, null, null, null], [null, null, null, null, 0.2643739078193903, null, null, null, null, null, null, null, null], [null, null, null, null, null, null, null, null, null, null, null, null, null], [null, null, null, null, null, null, null, null, null, null, null, null, null], [null, null, null, null, null, null, null, null, null, null, null, null, null], [null, null, null, null, null, null, null, null, null, null, null, null, null], [null, null, null, null, null, null, null, null, null, null, null, null, null], [null, null, null, null, null, null, null, null, null, null, null, null, null], [null, null, null, null, null, null, null, null, null, null, null, null, null], [null, null, null, null, null, null, null, null, null, null, null, null, null]]}, {\"marker\": {\"color\": \"black\"}, \"mode\": \"markers\", \"showlegend\": false, \"type\": \"scatter\", \"x\": [96.2077203980807, 77.47623236725656, 123.6653863708816, 36.39426249330998, 181.15512453655936, 44.5254852982493, 163.6622901731585, 217.2395452497521, 201.13371172376014, 203.3349719220077, 108.69814813858511, 113.60538499092658, 104.46616647058897], \"xaxis\": \"x8\", \"y\": [64.4523529920253, 168.39748663593, 38.63368327828813, 140.91690956956657, 170.7675268448263, 128.93978187621568, 129.59602989013428, 150.86146384721712, 112.76004948638199, 169.83123355686402, 182.82264052567263, 181.02675672071888, 234.34864085779077], \"yaxis\": \"y8\"}, {\"colorbar\": {\"title\": {\"text\": \"Objective Value\"}}, \"colorscale\": [[0.0, \"rgb(247,251,255)\"], [0.125, \"rgb(222,235,247)\"], [0.25, \"rgb(198,219,239)\"], [0.375, \"rgb(158,202,225)\"], [0.5, \"rgb(107,174,214)\"], [0.625, \"rgb(66,146,198)\"], [0.75, \"rgb(33,113,181)\"], [0.875, \"rgb(8,81,156)\"], [1.0, \"rgb(8,48,107)\"]], \"connectgaps\": true, \"contours\": {\"coloring\": \"heatmap\"}, \"hoverinfo\": \"none\", \"line\": {\"smoothing\": 1.3}, \"reversescale\": true, \"showscale\": false, \"type\": \"contour\", \"x\": [36.39426249330998, 44.5254852982493, 77.47623236725656, 96.2077203980807, 104.46616647058897, 108.69814813858511, 113.60538499092658, 123.6653863708816, 163.6622901731585, 181.15512453655936, 201.13371172376014, 203.3349719220077, 217.2395452497521], \"xaxis\": \"x12\", \"y\": [32.84689993028172, 36.72645284317059, 41.513119482496954, 45.61101540162852, 56.05442905833494, 64.63685970128728, 78.37951042007731, 82.2936336065144, 103.38247964137062, 119.13677690135066, 136.12168886913398, 173.1358858180036, 175.54936057823517, 184.92433447088666, 209.96405982832783, 219.0136873145725, 224.05263754662184, 226.47373116528212, 237.11717359904114, 243.45353023329773, 246.821232272477, 247.63064600646598, 248.17716911171402, 248.62468920052441, 248.98039327823994, 249.0519584491777, 251.6532427272772, 252.90728874411573, 255.06495663917065, 255.66947266620062, 255.66962619126951, 255.92409928867525], \"yaxis\": \"y12\", \"z\": [[null, null, null, null, null, null, null, null, 0.253996767103672, null, null, null, null], [null, null, null, null, null, null, null, null, null, null, null, 0.2553078122437, null], [null, null, null, null, null, null, null, null, null, null, null, null, null], [null, null, null, null, null, null, null, null, null, null, null, null, null], [null, null, null, null, null, null, null, 0.26958279125392437, null, null, null, null, null], [null, null, 0.2656950391829014, null, null, null, null, null, null, null, null, null, null], [null, null, null, 0.2883530855178833, null, null, null, null, null, null, null, null, null], [null, null, null, null, null, null, null, null, null, 0.25102086178958416, null, null, null], [null, null, null, null, null, null, null, null, null, null, null, null, null], [null, null, null, null, null, null, null, null, null, null, 0.27214717492461205, null, null], [null, null, null, null, null, null, null, null, null, null, null, null, 0.24020745791494846], [null, null, null, null, null, null, 0.2672870345413685, null, null, null, null, null, null], [null, null, null, null, null, 0.24240343272686005, null, null, null, null, null, null, null], [null, null, null, null, null, null, null, null, null, null, null, null, null], [null, null, null, null, null, null, null, null, null, null, null, null, null], [null, null, null, null, null, null, null, null, null, null, null, null, null], [null, null, null, null, 0.2643739078193903, null, null, null, null, null, null, null, null], [null, null, null, null, null, null, null, null, null, null, null, null, null], [null, null, null, null, null, null, null, null, null, null, null, null, null], [null, null, null, null, null, null, null, null, null, null, null, null, null], [0.25246404111385345, null, null, null, null, null, null, null, null, null, null, null, null], [null, null, null, null, null, null, null, null, null, null, null, null, null], [null, null, null, null, null, null, null, null, null, null, null, null, null], [null, null, null, null, null, null, null, null, null, null, null, null, null], [null, null, null, null, null, null, null, null, null, null, null, null, null], [null, null, null, null, null, null, null, null, null, null, null, null, null], [null, 0.26490793004631996, null, null, null, null, null, null, null, null, null, null, null], [null, null, null, null, null, null, null, null, null, null, null, null, null], [null, null, null, null, null, null, null, null, null, null, null, null, null], [null, null, null, null, null, null, null, null, null, null, null, null, null], [null, null, null, null, null, null, null, null, null, null, null, null, null], [null, null, null, null, null, null, null, null, null, null, null, null, null]]}, {\"marker\": {\"color\": \"black\"}, \"mode\": \"markers\", \"showlegend\": false, \"type\": \"scatter\", \"x\": [96.2077203980807, 77.47623236725656, 123.6653863708816, 36.39426249330998, 181.15512453655936, 44.5254852982493, 163.6622901731585, 217.2395452497521, 201.13371172376014, 203.3349719220077, 108.69814813858511, 113.60538499092658, 104.46616647058897], \"xaxis\": \"x12\", \"y\": [78.37951042007731, 64.63685970128728, 56.05442905833494, 246.821232272477, 82.2936336065144, 251.6532427272772, 32.84689993028172, 136.12168886913398, 119.13677690135066, 36.72645284317059, 175.54936057823517, 173.1358858180036, 224.05263754662184], \"yaxis\": \"y12\"}, {\"type\": \"scatter\", \"xaxis\": \"x16\", \"yaxis\": \"y16\"}],\n",
       "                        {\"template\": {\"data\": {\"bar\": [{\"error_x\": {\"color\": \"#2a3f5f\"}, \"error_y\": {\"color\": \"#2a3f5f\"}, \"marker\": {\"line\": {\"color\": \"#E5ECF6\", \"width\": 0.5}}, \"type\": \"bar\"}], \"barpolar\": [{\"marker\": {\"line\": {\"color\": \"#E5ECF6\", \"width\": 0.5}}, \"type\": \"barpolar\"}], \"carpet\": [{\"aaxis\": {\"endlinecolor\": \"#2a3f5f\", \"gridcolor\": \"white\", \"linecolor\": \"white\", \"minorgridcolor\": \"white\", \"startlinecolor\": \"#2a3f5f\"}, \"baxis\": {\"endlinecolor\": \"#2a3f5f\", \"gridcolor\": \"white\", \"linecolor\": \"white\", \"minorgridcolor\": \"white\", \"startlinecolor\": \"#2a3f5f\"}, \"type\": \"carpet\"}], \"choropleth\": [{\"colorbar\": {\"outlinewidth\": 0, \"ticks\": \"\"}, \"type\": \"choropleth\"}], \"contour\": [{\"colorbar\": {\"outlinewidth\": 0, \"ticks\": \"\"}, \"colorscale\": [[0.0, \"#0d0887\"], [0.1111111111111111, \"#46039f\"], [0.2222222222222222, \"#7201a8\"], [0.3333333333333333, \"#9c179e\"], [0.4444444444444444, \"#bd3786\"], [0.5555555555555556, \"#d8576b\"], [0.6666666666666666, \"#ed7953\"], [0.7777777777777778, \"#fb9f3a\"], [0.8888888888888888, \"#fdca26\"], [1.0, \"#f0f921\"]], \"type\": \"contour\"}], \"contourcarpet\": [{\"colorbar\": {\"outlinewidth\": 0, \"ticks\": \"\"}, \"type\": \"contourcarpet\"}], \"heatmap\": [{\"colorbar\": {\"outlinewidth\": 0, \"ticks\": \"\"}, \"colorscale\": [[0.0, \"#0d0887\"], [0.1111111111111111, \"#46039f\"], [0.2222222222222222, \"#7201a8\"], [0.3333333333333333, \"#9c179e\"], [0.4444444444444444, \"#bd3786\"], [0.5555555555555556, \"#d8576b\"], [0.6666666666666666, \"#ed7953\"], [0.7777777777777778, \"#fb9f3a\"], [0.8888888888888888, \"#fdca26\"], [1.0, \"#f0f921\"]], \"type\": \"heatmap\"}], \"heatmapgl\": [{\"colorbar\": {\"outlinewidth\": 0, \"ticks\": \"\"}, \"colorscale\": [[0.0, \"#0d0887\"], [0.1111111111111111, \"#46039f\"], [0.2222222222222222, \"#7201a8\"], [0.3333333333333333, \"#9c179e\"], [0.4444444444444444, \"#bd3786\"], [0.5555555555555556, \"#d8576b\"], [0.6666666666666666, \"#ed7953\"], [0.7777777777777778, \"#fb9f3a\"], [0.8888888888888888, \"#fdca26\"], [1.0, \"#f0f921\"]], \"type\": \"heatmapgl\"}], \"histogram\": [{\"marker\": {\"colorbar\": {\"outlinewidth\": 0, \"ticks\": \"\"}}, \"type\": \"histogram\"}], \"histogram2d\": [{\"colorbar\": {\"outlinewidth\": 0, \"ticks\": \"\"}, \"colorscale\": [[0.0, \"#0d0887\"], [0.1111111111111111, \"#46039f\"], [0.2222222222222222, \"#7201a8\"], [0.3333333333333333, \"#9c179e\"], [0.4444444444444444, \"#bd3786\"], [0.5555555555555556, \"#d8576b\"], [0.6666666666666666, \"#ed7953\"], [0.7777777777777778, \"#fb9f3a\"], [0.8888888888888888, \"#fdca26\"], [1.0, \"#f0f921\"]], \"type\": \"histogram2d\"}], \"histogram2dcontour\": [{\"colorbar\": {\"outlinewidth\": 0, \"ticks\": \"\"}, \"colorscale\": [[0.0, \"#0d0887\"], [0.1111111111111111, \"#46039f\"], [0.2222222222222222, \"#7201a8\"], [0.3333333333333333, \"#9c179e\"], [0.4444444444444444, \"#bd3786\"], [0.5555555555555556, \"#d8576b\"], [0.6666666666666666, \"#ed7953\"], [0.7777777777777778, \"#fb9f3a\"], [0.8888888888888888, \"#fdca26\"], [1.0, \"#f0f921\"]], \"type\": \"histogram2dcontour\"}], \"mesh3d\": [{\"colorbar\": {\"outlinewidth\": 0, \"ticks\": \"\"}, \"type\": \"mesh3d\"}], \"parcoords\": [{\"line\": {\"colorbar\": {\"outlinewidth\": 0, \"ticks\": \"\"}}, \"type\": \"parcoords\"}], \"scatter\": [{\"marker\": {\"colorbar\": {\"outlinewidth\": 0, \"ticks\": \"\"}}, \"type\": \"scatter\"}], \"scatter3d\": [{\"line\": {\"colorbar\": {\"outlinewidth\": 0, \"ticks\": \"\"}}, \"marker\": {\"colorbar\": {\"outlinewidth\": 0, \"ticks\": \"\"}}, \"type\": \"scatter3d\"}], \"scattercarpet\": [{\"marker\": {\"colorbar\": {\"outlinewidth\": 0, \"ticks\": \"\"}}, \"type\": \"scattercarpet\"}], \"scattergeo\": [{\"marker\": {\"colorbar\": {\"outlinewidth\": 0, \"ticks\": \"\"}}, \"type\": \"scattergeo\"}], \"scattergl\": [{\"marker\": {\"colorbar\": {\"outlinewidth\": 0, \"ticks\": \"\"}}, \"type\": \"scattergl\"}], \"scattermapbox\": [{\"marker\": {\"colorbar\": {\"outlinewidth\": 0, \"ticks\": \"\"}}, \"type\": \"scattermapbox\"}], \"scatterpolar\": [{\"marker\": {\"colorbar\": {\"outlinewidth\": 0, \"ticks\": \"\"}}, \"type\": \"scatterpolar\"}], \"scatterpolargl\": [{\"marker\": {\"colorbar\": {\"outlinewidth\": 0, \"ticks\": \"\"}}, \"type\": \"scatterpolargl\"}], \"scatterternary\": [{\"marker\": {\"colorbar\": {\"outlinewidth\": 0, \"ticks\": \"\"}}, \"type\": \"scatterternary\"}], \"surface\": [{\"colorbar\": {\"outlinewidth\": 0, \"ticks\": \"\"}, \"colorscale\": [[0.0, \"#0d0887\"], [0.1111111111111111, \"#46039f\"], [0.2222222222222222, \"#7201a8\"], [0.3333333333333333, \"#9c179e\"], [0.4444444444444444, \"#bd3786\"], [0.5555555555555556, \"#d8576b\"], [0.6666666666666666, \"#ed7953\"], [0.7777777777777778, \"#fb9f3a\"], [0.8888888888888888, \"#fdca26\"], [1.0, \"#f0f921\"]], \"type\": \"surface\"}], \"table\": [{\"cells\": {\"fill\": {\"color\": \"#EBF0F8\"}, \"line\": {\"color\": \"white\"}}, \"header\": {\"fill\": {\"color\": \"#C8D4E3\"}, \"line\": {\"color\": \"white\"}}, \"type\": \"table\"}]}, \"layout\": {\"annotationdefaults\": {\"arrowcolor\": \"#2a3f5f\", \"arrowhead\": 0, \"arrowwidth\": 1}, \"colorscale\": {\"diverging\": [[0, \"#8e0152\"], [0.1, \"#c51b7d\"], [0.2, \"#de77ae\"], [0.3, \"#f1b6da\"], [0.4, \"#fde0ef\"], [0.5, \"#f7f7f7\"], [0.6, \"#e6f5d0\"], [0.7, \"#b8e186\"], [0.8, \"#7fbc41\"], [0.9, \"#4d9221\"], [1, \"#276419\"]], \"sequential\": [[0.0, \"#0d0887\"], [0.1111111111111111, \"#46039f\"], [0.2222222222222222, \"#7201a8\"], [0.3333333333333333, \"#9c179e\"], [0.4444444444444444, \"#bd3786\"], [0.5555555555555556, \"#d8576b\"], [0.6666666666666666, \"#ed7953\"], [0.7777777777777778, \"#fb9f3a\"], [0.8888888888888888, \"#fdca26\"], [1.0, \"#f0f921\"]], \"sequentialminus\": [[0.0, \"#0d0887\"], [0.1111111111111111, \"#46039f\"], [0.2222222222222222, \"#7201a8\"], [0.3333333333333333, \"#9c179e\"], [0.4444444444444444, \"#bd3786\"], [0.5555555555555556, \"#d8576b\"], [0.6666666666666666, \"#ed7953\"], [0.7777777777777778, \"#fb9f3a\"], [0.8888888888888888, \"#fdca26\"], [1.0, \"#f0f921\"]]}, \"colorway\": [\"#636efa\", \"#EF553B\", \"#00cc96\", \"#ab63fa\", \"#FFA15A\", \"#19d3f3\", \"#FF6692\", \"#B6E880\", \"#FF97FF\", \"#FECB52\"], \"font\": {\"color\": \"#2a3f5f\"}, \"geo\": {\"bgcolor\": \"white\", \"lakecolor\": \"white\", \"landcolor\": \"#E5ECF6\", \"showlakes\": true, \"showland\": true, \"subunitcolor\": \"white\"}, \"hoverlabel\": {\"align\": \"left\"}, \"hovermode\": \"closest\", \"mapbox\": {\"style\": \"light\"}, \"paper_bgcolor\": \"white\", \"plot_bgcolor\": \"#E5ECF6\", \"polar\": {\"angularaxis\": {\"gridcolor\": \"white\", \"linecolor\": \"white\", \"ticks\": \"\"}, \"bgcolor\": \"#E5ECF6\", \"radialaxis\": {\"gridcolor\": \"white\", \"linecolor\": \"white\", \"ticks\": \"\"}}, \"scene\": {\"xaxis\": {\"backgroundcolor\": \"#E5ECF6\", \"gridcolor\": \"white\", \"gridwidth\": 2, \"linecolor\": \"white\", \"showbackground\": true, \"ticks\": \"\", \"zerolinecolor\": \"white\"}, \"yaxis\": {\"backgroundcolor\": \"#E5ECF6\", \"gridcolor\": \"white\", \"gridwidth\": 2, \"linecolor\": \"white\", \"showbackground\": true, \"ticks\": \"\", \"zerolinecolor\": \"white\"}, \"zaxis\": {\"backgroundcolor\": \"#E5ECF6\", \"gridcolor\": \"white\", \"gridwidth\": 2, \"linecolor\": \"white\", \"showbackground\": true, \"ticks\": \"\", \"zerolinecolor\": \"white\"}}, \"shapedefaults\": {\"line\": {\"color\": \"#2a3f5f\"}}, \"ternary\": {\"aaxis\": {\"gridcolor\": \"white\", \"linecolor\": \"white\", \"ticks\": \"\"}, \"baxis\": {\"gridcolor\": \"white\", \"linecolor\": \"white\", \"ticks\": \"\"}, \"bgcolor\": \"#E5ECF6\", \"caxis\": {\"gridcolor\": \"white\", \"linecolor\": \"white\", \"ticks\": \"\"}}, \"title\": {\"x\": 0.05}, \"xaxis\": {\"automargin\": true, \"gridcolor\": \"white\", \"linecolor\": \"white\", \"ticks\": \"\", \"zerolinecolor\": \"white\", \"zerolinewidth\": 2}, \"yaxis\": {\"automargin\": true, \"gridcolor\": \"white\", \"linecolor\": \"white\", \"ticks\": \"\", \"zerolinecolor\": \"white\", \"zerolinewidth\": 2}}}, \"xaxis\": {\"anchor\": \"y\", \"domain\": [0.0, 0.2125], \"matches\": \"x13\", \"range\": [1, 3], \"showticklabels\": false}, \"xaxis10\": {\"anchor\": \"y10\", \"domain\": [0.2625, 0.475], \"matches\": \"x14\", \"range\": [38.63368327828813, 255.79289908804088], \"showticklabels\": false}, \"xaxis11\": {\"anchor\": \"y11\", \"domain\": [0.525, 0.7375], \"matches\": \"x15\", \"range\": [32.84689993028172, 255.92409928867525], \"showticklabels\": false}, \"xaxis12\": {\"anchor\": \"y12\", \"domain\": [0.7875, 1.0], \"matches\": \"x16\", \"range\": [36.39426249330998, 217.2395452497521], \"showticklabels\": false}, \"xaxis13\": {\"anchor\": \"y13\", \"domain\": [0.0, 0.2125], \"range\": [1, 3], \"title\": {\"text\": \"n_layers\"}}, \"xaxis14\": {\"anchor\": \"y14\", \"domain\": [0.2625, 0.475], \"range\": [38.63368327828813, 255.79289908804088], \"title\": {\"text\": \"n_units_l0\"}}, \"xaxis15\": {\"anchor\": \"y15\", \"domain\": [0.525, 0.7375], \"range\": [32.84689993028172, 255.92409928867525], \"title\": {\"text\": \"n_units_l1\"}}, \"xaxis16\": {\"anchor\": \"y16\", \"domain\": [0.7875, 1.0], \"range\": [36.39426249330998, 217.2395452497521], \"title\": {\"text\": \"n_units_l2\"}}, \"xaxis2\": {\"anchor\": \"y2\", \"domain\": [0.2625, 0.475], \"matches\": \"x14\", \"range\": [38.63368327828813, 255.79289908804088], \"showticklabels\": false}, \"xaxis3\": {\"anchor\": \"y3\", \"domain\": [0.525, 0.7375], \"matches\": \"x15\", \"range\": [32.84689993028172, 255.92409928867525], \"showticklabels\": false}, \"xaxis4\": {\"anchor\": \"y4\", \"domain\": [0.7875, 1.0], \"matches\": \"x16\", \"range\": [36.39426249330998, 217.2395452497521], \"showticklabels\": false}, \"xaxis5\": {\"anchor\": \"y5\", \"domain\": [0.0, 0.2125], \"matches\": \"x13\", \"range\": [1, 3], \"showticklabels\": false}, \"xaxis6\": {\"anchor\": \"y6\", \"domain\": [0.2625, 0.475], \"matches\": \"x14\", \"range\": [38.63368327828813, 255.79289908804088], \"showticklabels\": false}, \"xaxis7\": {\"anchor\": \"y7\", \"domain\": [0.525, 0.7375], \"matches\": \"x15\", \"range\": [32.84689993028172, 255.92409928867525], \"showticklabels\": false}, \"xaxis8\": {\"anchor\": \"y8\", \"domain\": [0.7875, 1.0], \"matches\": \"x16\", \"range\": [36.39426249330998, 217.2395452497521], \"showticklabels\": false}, \"xaxis9\": {\"anchor\": \"y9\", \"domain\": [0.0, 0.2125], \"matches\": \"x13\", \"range\": [1, 3], \"showticklabels\": false}, \"yaxis\": {\"anchor\": \"x\", \"domain\": [0.80625, 1.0], \"range\": [1, 3], \"title\": {\"text\": \"n_layers\"}}, \"yaxis10\": {\"anchor\": \"x10\", \"domain\": [0.26875, 0.4625], \"matches\": \"y9\", \"range\": [32.84689993028172, 255.92409928867525], \"showticklabels\": false}, \"yaxis11\": {\"anchor\": \"x11\", \"domain\": [0.26875, 0.4625], \"matches\": \"y9\", \"range\": [32.84689993028172, 255.92409928867525], \"showticklabels\": false}, \"yaxis12\": {\"anchor\": \"x12\", \"domain\": [0.26875, 0.4625], \"matches\": \"y9\", \"range\": [32.84689993028172, 255.92409928867525], \"showticklabels\": false}, \"yaxis13\": {\"anchor\": \"x13\", \"domain\": [0.0, 0.19375], \"range\": [36.39426249330998, 217.2395452497521], \"title\": {\"text\": \"n_units_l2\"}}, \"yaxis14\": {\"anchor\": \"x14\", \"domain\": [0.0, 0.19375], \"matches\": \"y13\", \"range\": [36.39426249330998, 217.2395452497521], \"showticklabels\": false}, \"yaxis15\": {\"anchor\": \"x15\", \"domain\": [0.0, 0.19375], \"matches\": \"y13\", \"range\": [36.39426249330998, 217.2395452497521], \"showticklabels\": false}, \"yaxis16\": {\"anchor\": \"x16\", \"domain\": [0.0, 0.19375], \"matches\": \"y13\", \"range\": [36.39426249330998, 217.2395452497521], \"showticklabels\": false}, \"yaxis2\": {\"anchor\": \"x2\", \"domain\": [0.80625, 1.0], \"matches\": \"y\", \"range\": [1, 3], \"showticklabels\": false}, \"yaxis3\": {\"anchor\": \"x3\", \"domain\": [0.80625, 1.0], \"matches\": \"y\", \"range\": [1, 3], \"showticklabels\": false}, \"yaxis4\": {\"anchor\": \"x4\", \"domain\": [0.80625, 1.0], \"matches\": \"y\", \"range\": [1, 3], \"showticklabels\": false}, \"yaxis5\": {\"anchor\": \"x5\", \"domain\": [0.5375, 0.73125], \"range\": [38.63368327828813, 255.79289908804088], \"title\": {\"text\": \"n_units_l0\"}}, \"yaxis6\": {\"anchor\": \"x6\", \"domain\": [0.5375, 0.73125], \"matches\": \"y5\", \"range\": [38.63368327828813, 255.79289908804088], \"showticklabels\": false}, \"yaxis7\": {\"anchor\": \"x7\", \"domain\": [0.5375, 0.73125], \"matches\": \"y5\", \"range\": [38.63368327828813, 255.79289908804088], \"showticklabels\": false}, \"yaxis8\": {\"anchor\": \"x8\", \"domain\": [0.5375, 0.73125], \"matches\": \"y5\", \"range\": [38.63368327828813, 255.79289908804088], \"showticklabels\": false}, \"yaxis9\": {\"anchor\": \"x9\", \"domain\": [0.26875, 0.4625], \"range\": [32.84689993028172, 255.92409928867525], \"title\": {\"text\": \"n_units_l1\"}}},\n",
       "                        {\"responsive\": true}\n",
       "                    ).then(function(){\n",
       "                            \n",
       "var gd = document.getElementById('e986d3f1-fdb7-4f9d-abf6-36ef36966927');\n",
       "var x = new MutationObserver(function (mutations, observer) {{\n",
       "        var display = window.getComputedStyle(gd).display;\n",
       "        if (!display || display === 'none') {{\n",
       "            console.log([gd, 'removed!']);\n",
       "            Plotly.purge(gd);\n",
       "            observer.disconnect();\n",
       "        }}\n",
       "}});\n",
       "\n",
       "// Listen for the removal of the full notebook cells\n",
       "var notebookContainer = gd.closest('#notebook-container');\n",
       "if (notebookContainer) {{\n",
       "    x.observe(notebookContainer, {childList: true});\n",
       "}}\n",
       "\n",
       "// Listen for the clearing of the current output cell\n",
       "var outputEl = gd.closest('.output');\n",
       "if (outputEl) {{\n",
       "    x.observe(outputEl, {childList: true});\n",
       "}}\n",
       "\n",
       "                        })\n",
       "                };\n",
       "                });\n",
       "            </script>\n",
       "        </div>"
      ]
     },
     "metadata": {},
     "output_type": "display_data"
    }
   ],
   "source": [
    "from optuna.visualization import plot_contour\n",
    "\n",
    "plot_contour(study)"
   ]
  },
  {
   "cell_type": "markdown",
   "metadata": {},
   "source": [
    "## Select parameters to Visualize"
   ]
  },
  {
   "cell_type": "code",
   "execution_count": 5,
   "metadata": {},
   "outputs": [
    {
     "data": {
      "text/html": [
       "        <script type=\"text/javascript\">\n",
       "        window.PlotlyConfig = {MathJaxConfig: 'local'};\n",
       "        if (window.MathJax) {MathJax.Hub.Config({SVG: {font: \"STIX-Web\"}});}\n",
       "        if (typeof require !== 'undefined') {\n",
       "        require.undef(\"plotly\");\n",
       "        requirejs.config({\n",
       "            paths: {\n",
       "                'plotly': ['https://cdn.plot.ly/plotly-latest.min']\n",
       "            }\n",
       "        });\n",
       "        require(['plotly'], function(Plotly) {\n",
       "            window._Plotly = Plotly;\n",
       "        });\n",
       "        }\n",
       "        </script>\n",
       "        "
      ]
     },
     "metadata": {},
     "output_type": "display_data"
    },
    {
     "data": {
      "application/vnd.plotly.v1+json": {
       "config": {
        "plotlyServerURL": "https://plot.ly"
       },
       "data": [
        {
         "colorbar": {
          "title": {
           "text": "Objective Value"
          }
         },
         "colorscale": [
          [
           0,
           "rgb(247,251,255)"
          ],
          [
           0.125,
           "rgb(222,235,247)"
          ],
          [
           0.25,
           "rgb(198,219,239)"
          ],
          [
           0.375,
           "rgb(158,202,225)"
          ],
          [
           0.5,
           "rgb(107,174,214)"
          ],
          [
           0.625,
           "rgb(66,146,198)"
          ],
          [
           0.75,
           "rgb(33,113,181)"
          ],
          [
           0.875,
           "rgb(8,81,156)"
          ],
          [
           1,
           "rgb(8,48,107)"
          ]
         ],
         "connectgaps": true,
         "contours": {
          "coloring": "heatmap"
         },
         "hoverinfo": "none",
         "line": {
          "smoothing": 1.3
         },
         "reversescale": true,
         "type": "contour",
         "x": [
          38.63368327828813,
          61.861809340355066,
          64.4523529920253,
          112.76004948638199,
          128.93978187621568,
          129.59602989013428,
          140.91690956956657,
          149.43206402434868,
          150.86146384721712,
          168.39748663593,
          169.83123355686402,
          170.7675268448263,
          178.8631471298371,
          181.02675672071888,
          181.57794099141697,
          182.82264052567263,
          189.21936630739114,
          189.78238213239194,
          200.99073155697914,
          208.1738433957372,
          217.25426989833403,
          226.83203036771795,
          233.09953582609856,
          234.0979216117891,
          234.34864085779077,
          235.36328925805907,
          244.19351317529978,
          244.38432972654155,
          246.9653510692827,
          249.61604322727672,
          250.14969779831608,
          255.4506017615034,
          255.79289908804088
         ],
         "y": [
          32.84689993028172,
          36.72645284317059,
          41.513119482496954,
          45.61101540162852,
          56.05442905833494,
          64.63685970128728,
          78.37951042007731,
          82.2936336065144,
          103.38247964137062,
          119.13677690135066,
          136.12168886913398,
          173.1358858180036,
          175.54936057823517,
          184.92433447088666,
          209.96405982832783,
          219.0136873145725,
          224.05263754662184,
          226.47373116528212,
          237.11717359904114,
          243.45353023329773,
          246.821232272477,
          247.63064600646598,
          248.17716911171402,
          248.62468920052441,
          248.98039327823994,
          249.0519584491777,
          251.6532427272772,
          252.90728874411573,
          255.06495663917065,
          255.66947266620062,
          255.66962619126951,
          255.92409928867525
         ],
         "z": [
          [
           null,
           null,
           null,
           null,
           null,
           0.253996767103672,
           null,
           null,
           null,
           null,
           null,
           null,
           null,
           null,
           null,
           null,
           null,
           null,
           null,
           null,
           null,
           null,
           null,
           null,
           null,
           null,
           null,
           null,
           null,
           null,
           null,
           null,
           null
          ],
          [
           null,
           null,
           null,
           null,
           null,
           null,
           null,
           null,
           null,
           null,
           0.2553078122437,
           null,
           null,
           null,
           null,
           null,
           null,
           null,
           null,
           null,
           null,
           null,
           null,
           null,
           null,
           null,
           null,
           null,
           null,
           null,
           null,
           null,
           null
          ],
          [
           null,
           null,
           null,
           null,
           null,
           null,
           null,
           null,
           null,
           null,
           null,
           null,
           null,
           null,
           null,
           null,
           null,
           null,
           null,
           null,
           null,
           null,
           null,
           null,
           null,
           null,
           null,
           null,
           0.2330324575304985,
           null,
           null,
           null,
           null
          ],
          [
           null,
           null,
           null,
           null,
           null,
           null,
           null,
           null,
           null,
           null,
           null,
           null,
           null,
           null,
           null,
           null,
           null,
           null,
           null,
           null,
           null,
           null,
           null,
           null,
           null,
           0.2708234563469887,
           null,
           null,
           null,
           null,
           null,
           null,
           null
          ],
          [
           0.26958279125392437,
           null,
           null,
           null,
           null,
           null,
           null,
           null,
           null,
           null,
           null,
           null,
           null,
           null,
           null,
           null,
           null,
           null,
           null,
           null,
           null,
           null,
           null,
           null,
           null,
           null,
           null,
           null,
           null,
           null,
           null,
           null,
           null
          ],
          [
           null,
           null,
           null,
           null,
           null,
           null,
           null,
           null,
           null,
           0.2656950391829014,
           null,
           null,
           null,
           null,
           null,
           null,
           null,
           null,
           null,
           null,
           null,
           null,
           null,
           null,
           null,
           null,
           null,
           null,
           null,
           null,
           null,
           null,
           null
          ],
          [
           null,
           null,
           0.2883530855178833,
           null,
           null,
           null,
           null,
           null,
           null,
           null,
           null,
           null,
           null,
           null,
           null,
           null,
           null,
           null,
           null,
           null,
           null,
           null,
           null,
           null,
           null,
           null,
           null,
           null,
           null,
           null,
           null,
           null,
           null
          ],
          [
           null,
           null,
           null,
           null,
           null,
           null,
           null,
           null,
           null,
           null,
           null,
           0.25102086178958416,
           null,
           null,
           null,
           null,
           null,
           null,
           null,
           null,
           null,
           null,
           null,
           null,
           null,
           null,
           null,
           null,
           null,
           null,
           null,
           null,
           null
          ],
          [
           null,
           0.2820313274860382,
           null,
           null,
           null,
           null,
           null,
           null,
           null,
           null,
           null,
           null,
           null,
           null,
           null,
           null,
           null,
           null,
           null,
           null,
           null,
           null,
           null,
           null,
           null,
           null,
           null,
           null,
           null,
           null,
           null,
           null,
           null
          ],
          [
           null,
           null,
           null,
           0.27214717492461205,
           null,
           null,
           null,
           null,
           null,
           null,
           null,
           null,
           null,
           null,
           null,
           null,
           null,
           null,
           null,
           null,
           null,
           null,
           null,
           null,
           null,
           null,
           null,
           null,
           null,
           null,
           null,
           null,
           null
          ],
          [
           null,
           null,
           null,
           null,
           null,
           null,
           null,
           null,
           0.24020745791494846,
           null,
           null,
           null,
           null,
           null,
           null,
           null,
           null,
           null,
           null,
           null,
           null,
           null,
           null,
           null,
           null,
           null,
           null,
           null,
           null,
           null,
           null,
           null,
           null
          ],
          [
           null,
           null,
           null,
           null,
           null,
           null,
           null,
           null,
           null,
           null,
           null,
           null,
           null,
           0.2672870345413685,
           null,
           null,
           null,
           null,
           null,
           null,
           null,
           null,
           null,
           null,
           null,
           null,
           null,
           null,
           null,
           null,
           null,
           null,
           null
          ],
          [
           null,
           null,
           null,
           null,
           null,
           null,
           null,
           null,
           null,
           null,
           null,
           null,
           null,
           null,
           null,
           0.24240343272686005,
           null,
           null,
           null,
           null,
           null,
           null,
           null,
           null,
           null,
           null,
           null,
           null,
           null,
           null,
           null,
           null,
           null
          ],
          [
           null,
           null,
           null,
           null,
           null,
           null,
           null,
           null,
           null,
           null,
           null,
           null,
           null,
           null,
           null,
           null,
           null,
           null,
           null,
           null,
           null,
           null,
           0.2578176222741604,
           null,
           null,
           null,
           null,
           null,
           null,
           null,
           null,
           null,
           null
          ],
          [
           null,
           null,
           null,
           null,
           null,
           null,
           null,
           null,
           null,
           null,
           null,
           null,
           null,
           null,
           null,
           null,
           null,
           null,
           null,
           null,
           null,
           null,
           null,
           null,
           null,
           null,
           null,
           null,
           null,
           null,
           0.2263924852013588,
           null,
           null
          ],
          [
           null,
           null,
           null,
           null,
           null,
           null,
           null,
           null,
           null,
           null,
           null,
           null,
           null,
           null,
           null,
           null,
           null,
           null,
           null,
           null,
           null,
           null,
           null,
           null,
           null,
           null,
           null,
           null,
           null,
           null,
           null,
           0.2556901406496763,
           null
          ],
          [
           null,
           null,
           null,
           null,
           null,
           null,
           null,
           null,
           null,
           null,
           null,
           null,
           null,
           null,
           null,
           null,
           null,
           null,
           null,
           null,
           null,
           null,
           null,
           null,
           0.2643739078193903,
           null,
           null,
           null,
           null,
           null,
           null,
           null,
           null
          ],
          [
           null,
           null,
           null,
           null,
           null,
           null,
           null,
           null,
           null,
           null,
           null,
           null,
           null,
           null,
           null,
           null,
           null,
           null,
           0.2409790586680174,
           null,
           null,
           null,
           null,
           null,
           null,
           null,
           null,
           null,
           null,
           null,
           null,
           null,
           null
          ],
          [
           null,
           null,
           null,
           null,
           null,
           null,
           null,
           null,
           null,
           null,
           null,
           null,
           0.2530394420027733,
           null,
           null,
           null,
           null,
           null,
           null,
           null,
           null,
           null,
           null,
           null,
           null,
           null,
           null,
           null,
           null,
           null,
           null,
           null,
           null
          ],
          [
           null,
           null,
           null,
           null,
           null,
           null,
           null,
           null,
           null,
           null,
           null,
           null,
           null,
           null,
           null,
           null,
           0.22953632660210133,
           null,
           null,
           null,
           null,
           null,
           null,
           null,
           null,
           null,
           null,
           null,
           null,
           null,
           null,
           null,
           null
          ],
          [
           null,
           null,
           null,
           null,
           null,
           null,
           0.25246404111385345,
           null,
           null,
           null,
           null,
           null,
           null,
           null,
           null,
           null,
           null,
           null,
           null,
           null,
           null,
           null,
           null,
           null,
           null,
           null,
           null,
           null,
           null,
           null,
           null,
           null,
           null
          ],
          [
           null,
           null,
           null,
           null,
           null,
           null,
           null,
           null,
           null,
           null,
           null,
           null,
           null,
           null,
           null,
           null,
           null,
           null,
           null,
           null,
           null,
           null,
           null,
           null,
           null,
           null,
           null,
           0.23592069745063782,
           null,
           null,
           null,
           null,
           null
          ],
          [
           null,
           null,
           null,
           null,
           null,
           null,
           null,
           null,
           null,
           null,
           null,
           null,
           null,
           null,
           null,
           null,
           null,
           null,
           null,
           null,
           null,
           null,
           null,
           null,
           null,
           null,
           0.2371191754937172,
           null,
           null,
           null,
           null,
           null,
           null
          ],
          [
           null,
           null,
           null,
           null,
           null,
           null,
           null,
           0.24880902469158173,
           null,
           null,
           null,
           null,
           null,
           null,
           null,
           null,
           null,
           null,
           null,
           null,
           null,
           null,
           null,
           null,
           null,
           null,
           null,
           null,
           null,
           null,
           null,
           null,
           null
          ],
          [
           null,
           null,
           null,
           null,
           null,
           null,
           null,
           null,
           null,
           null,
           null,
           null,
           null,
           null,
           0.23689827509224415,
           null,
           null,
           null,
           null,
           null,
           null,
           null,
           null,
           null,
           null,
           null,
           null,
           null,
           null,
           null,
           null,
           null,
           null
          ],
          [
           null,
           null,
           null,
           null,
           null,
           null,
           null,
           null,
           null,
           null,
           null,
           null,
           null,
           null,
           null,
           null,
           null,
           null,
           null,
           null,
           null,
           null,
           null,
           null,
           null,
           null,
           null,
           null,
           null,
           0.23060715943574905,
           null,
           null,
           null
          ],
          [
           null,
           null,
           null,
           null,
           0.26490793004631996,
           null,
           null,
           null,
           null,
           null,
           null,
           null,
           null,
           null,
           null,
           null,
           null,
           null,
           null,
           null,
           null,
           null,
           null,
           null,
           null,
           null,
           null,
           null,
           null,
           null,
           null,
           null,
           null
          ],
          [
           null,
           null,
           null,
           null,
           null,
           null,
           null,
           null,
           null,
           null,
           null,
           null,
           null,
           null,
           null,
           null,
           null,
           null,
           null,
           null,
           null,
           null,
           null,
           null,
           null,
           null,
           null,
           null,
           null,
           null,
           null,
           null,
           0.23060716595500708
          ],
          [
           null,
           null,
           null,
           null,
           null,
           null,
           null,
           null,
           null,
           null,
           null,
           null,
           null,
           null,
           null,
           null,
           null,
           null,
           null,
           null,
           null,
           0.23027783632278442,
           null,
           null,
           null,
           null,
           null,
           null,
           null,
           null,
           null,
           null,
           null
          ],
          [
           null,
           null,
           null,
           null,
           null,
           null,
           null,
           null,
           null,
           null,
           null,
           null,
           null,
           null,
           null,
           null,
           null,
           0.2390523049980402,
           null,
           null,
           null,
           null,
           null,
           null,
           null,
           null,
           null,
           null,
           null,
           null,
           null,
           null,
           null
          ],
          [
           null,
           null,
           null,
           null,
           null,
           null,
           null,
           null,
           null,
           null,
           null,
           null,
           null,
           null,
           null,
           null,
           null,
           null,
           null,
           null,
           0.24516725353896618,
           null,
           null,
           null,
           null,
           null,
           null,
           null,
           null,
           null,
           null,
           null,
           null
          ],
          [
           null,
           null,
           null,
           null,
           null,
           null,
           null,
           null,
           null,
           null,
           null,
           null,
           null,
           null,
           null,
           null,
           null,
           null,
           null,
           null,
           null,
           null,
           null,
           0.22774771973490715,
           null,
           null,
           null,
           null,
           null,
           null,
           null,
           null,
           null
          ]
         ]
        },
        {
         "marker": {
          "color": "black"
         },
         "mode": "markers",
         "showlegend": false,
         "type": "scatter",
         "x": [
          61.861809340355066,
          64.4523529920253,
          168.39748663593,
          38.63368327828813,
          140.91690956956657,
          170.7675268448263,
          128.93978187621568,
          129.59602989013428,
          246.9653510692827,
          235.36328925805907,
          150.86146384721712,
          112.76004948638199,
          169.83123355686402,
          182.82264052567263,
          181.02675672071888,
          234.34864085779077,
          149.43206402434868,
          181.57794099141697,
          178.8631471298371,
          249.61604322727672,
          244.19351317529978,
          255.79289908804088,
          250.14969779831608,
          244.38432972654155,
          255.4506017615034,
          234.0979216117891,
          226.83203036771795,
          233.09953582609856,
          189.78238213239194,
          217.25426989833403,
          200.99073155697914,
          189.21936630739114
         ],
         "y": [
          103.38247964137062,
          78.37951042007731,
          64.63685970128728,
          56.05442905833494,
          246.821232272477,
          82.2936336065144,
          251.6532427272772,
          32.84689993028172,
          41.513119482496954,
          45.61101540162852,
          136.12168886913398,
          119.13677690135066,
          36.72645284317059,
          175.54936057823517,
          173.1358858180036,
          224.05263754662184,
          248.62468920052441,
          248.98039327823994,
          237.11717359904114,
          249.0519584491777,
          248.17716911171402,
          252.90728874411573,
          209.96405982832783,
          247.63064600646598,
          219.0136873145725,
          255.92409928867525,
          255.06495663917065,
          184.92433447088666,
          255.66947266620062,
          255.66962619126951,
          226.47373116528212,
          243.45353023329773
         ]
        }
       ],
       "layout": {
        "template": {
         "data": {
          "bar": [
           {
            "error_x": {
             "color": "#2a3f5f"
            },
            "error_y": {
             "color": "#2a3f5f"
            },
            "marker": {
             "line": {
              "color": "#E5ECF6",
              "width": 0.5
             }
            },
            "type": "bar"
           }
          ],
          "barpolar": [
           {
            "marker": {
             "line": {
              "color": "#E5ECF6",
              "width": 0.5
             }
            },
            "type": "barpolar"
           }
          ],
          "carpet": [
           {
            "aaxis": {
             "endlinecolor": "#2a3f5f",
             "gridcolor": "white",
             "linecolor": "white",
             "minorgridcolor": "white",
             "startlinecolor": "#2a3f5f"
            },
            "baxis": {
             "endlinecolor": "#2a3f5f",
             "gridcolor": "white",
             "linecolor": "white",
             "minorgridcolor": "white",
             "startlinecolor": "#2a3f5f"
            },
            "type": "carpet"
           }
          ],
          "choropleth": [
           {
            "colorbar": {
             "outlinewidth": 0,
             "ticks": ""
            },
            "type": "choropleth"
           }
          ],
          "contour": [
           {
            "colorbar": {
             "outlinewidth": 0,
             "ticks": ""
            },
            "colorscale": [
             [
              0,
              "#0d0887"
             ],
             [
              0.1111111111111111,
              "#46039f"
             ],
             [
              0.2222222222222222,
              "#7201a8"
             ],
             [
              0.3333333333333333,
              "#9c179e"
             ],
             [
              0.4444444444444444,
              "#bd3786"
             ],
             [
              0.5555555555555556,
              "#d8576b"
             ],
             [
              0.6666666666666666,
              "#ed7953"
             ],
             [
              0.7777777777777778,
              "#fb9f3a"
             ],
             [
              0.8888888888888888,
              "#fdca26"
             ],
             [
              1,
              "#f0f921"
             ]
            ],
            "type": "contour"
           }
          ],
          "contourcarpet": [
           {
            "colorbar": {
             "outlinewidth": 0,
             "ticks": ""
            },
            "type": "contourcarpet"
           }
          ],
          "heatmap": [
           {
            "colorbar": {
             "outlinewidth": 0,
             "ticks": ""
            },
            "colorscale": [
             [
              0,
              "#0d0887"
             ],
             [
              0.1111111111111111,
              "#46039f"
             ],
             [
              0.2222222222222222,
              "#7201a8"
             ],
             [
              0.3333333333333333,
              "#9c179e"
             ],
             [
              0.4444444444444444,
              "#bd3786"
             ],
             [
              0.5555555555555556,
              "#d8576b"
             ],
             [
              0.6666666666666666,
              "#ed7953"
             ],
             [
              0.7777777777777778,
              "#fb9f3a"
             ],
             [
              0.8888888888888888,
              "#fdca26"
             ],
             [
              1,
              "#f0f921"
             ]
            ],
            "type": "heatmap"
           }
          ],
          "heatmapgl": [
           {
            "colorbar": {
             "outlinewidth": 0,
             "ticks": ""
            },
            "colorscale": [
             [
              0,
              "#0d0887"
             ],
             [
              0.1111111111111111,
              "#46039f"
             ],
             [
              0.2222222222222222,
              "#7201a8"
             ],
             [
              0.3333333333333333,
              "#9c179e"
             ],
             [
              0.4444444444444444,
              "#bd3786"
             ],
             [
              0.5555555555555556,
              "#d8576b"
             ],
             [
              0.6666666666666666,
              "#ed7953"
             ],
             [
              0.7777777777777778,
              "#fb9f3a"
             ],
             [
              0.8888888888888888,
              "#fdca26"
             ],
             [
              1,
              "#f0f921"
             ]
            ],
            "type": "heatmapgl"
           }
          ],
          "histogram": [
           {
            "marker": {
             "colorbar": {
              "outlinewidth": 0,
              "ticks": ""
             }
            },
            "type": "histogram"
           }
          ],
          "histogram2d": [
           {
            "colorbar": {
             "outlinewidth": 0,
             "ticks": ""
            },
            "colorscale": [
             [
              0,
              "#0d0887"
             ],
             [
              0.1111111111111111,
              "#46039f"
             ],
             [
              0.2222222222222222,
              "#7201a8"
             ],
             [
              0.3333333333333333,
              "#9c179e"
             ],
             [
              0.4444444444444444,
              "#bd3786"
             ],
             [
              0.5555555555555556,
              "#d8576b"
             ],
             [
              0.6666666666666666,
              "#ed7953"
             ],
             [
              0.7777777777777778,
              "#fb9f3a"
             ],
             [
              0.8888888888888888,
              "#fdca26"
             ],
             [
              1,
              "#f0f921"
             ]
            ],
            "type": "histogram2d"
           }
          ],
          "histogram2dcontour": [
           {
            "colorbar": {
             "outlinewidth": 0,
             "ticks": ""
            },
            "colorscale": [
             [
              0,
              "#0d0887"
             ],
             [
              0.1111111111111111,
              "#46039f"
             ],
             [
              0.2222222222222222,
              "#7201a8"
             ],
             [
              0.3333333333333333,
              "#9c179e"
             ],
             [
              0.4444444444444444,
              "#bd3786"
             ],
             [
              0.5555555555555556,
              "#d8576b"
             ],
             [
              0.6666666666666666,
              "#ed7953"
             ],
             [
              0.7777777777777778,
              "#fb9f3a"
             ],
             [
              0.8888888888888888,
              "#fdca26"
             ],
             [
              1,
              "#f0f921"
             ]
            ],
            "type": "histogram2dcontour"
           }
          ],
          "mesh3d": [
           {
            "colorbar": {
             "outlinewidth": 0,
             "ticks": ""
            },
            "type": "mesh3d"
           }
          ],
          "parcoords": [
           {
            "line": {
             "colorbar": {
              "outlinewidth": 0,
              "ticks": ""
             }
            },
            "type": "parcoords"
           }
          ],
          "scatter": [
           {
            "marker": {
             "colorbar": {
              "outlinewidth": 0,
              "ticks": ""
             }
            },
            "type": "scatter"
           }
          ],
          "scatter3d": [
           {
            "line": {
             "colorbar": {
              "outlinewidth": 0,
              "ticks": ""
             }
            },
            "marker": {
             "colorbar": {
              "outlinewidth": 0,
              "ticks": ""
             }
            },
            "type": "scatter3d"
           }
          ],
          "scattercarpet": [
           {
            "marker": {
             "colorbar": {
              "outlinewidth": 0,
              "ticks": ""
             }
            },
            "type": "scattercarpet"
           }
          ],
          "scattergeo": [
           {
            "marker": {
             "colorbar": {
              "outlinewidth": 0,
              "ticks": ""
             }
            },
            "type": "scattergeo"
           }
          ],
          "scattergl": [
           {
            "marker": {
             "colorbar": {
              "outlinewidth": 0,
              "ticks": ""
             }
            },
            "type": "scattergl"
           }
          ],
          "scattermapbox": [
           {
            "marker": {
             "colorbar": {
              "outlinewidth": 0,
              "ticks": ""
             }
            },
            "type": "scattermapbox"
           }
          ],
          "scatterpolar": [
           {
            "marker": {
             "colorbar": {
              "outlinewidth": 0,
              "ticks": ""
             }
            },
            "type": "scatterpolar"
           }
          ],
          "scatterpolargl": [
           {
            "marker": {
             "colorbar": {
              "outlinewidth": 0,
              "ticks": ""
             }
            },
            "type": "scatterpolargl"
           }
          ],
          "scatterternary": [
           {
            "marker": {
             "colorbar": {
              "outlinewidth": 0,
              "ticks": ""
             }
            },
            "type": "scatterternary"
           }
          ],
          "surface": [
           {
            "colorbar": {
             "outlinewidth": 0,
             "ticks": ""
            },
            "colorscale": [
             [
              0,
              "#0d0887"
             ],
             [
              0.1111111111111111,
              "#46039f"
             ],
             [
              0.2222222222222222,
              "#7201a8"
             ],
             [
              0.3333333333333333,
              "#9c179e"
             ],
             [
              0.4444444444444444,
              "#bd3786"
             ],
             [
              0.5555555555555556,
              "#d8576b"
             ],
             [
              0.6666666666666666,
              "#ed7953"
             ],
             [
              0.7777777777777778,
              "#fb9f3a"
             ],
             [
              0.8888888888888888,
              "#fdca26"
             ],
             [
              1,
              "#f0f921"
             ]
            ],
            "type": "surface"
           }
          ],
          "table": [
           {
            "cells": {
             "fill": {
              "color": "#EBF0F8"
             },
             "line": {
              "color": "white"
             }
            },
            "header": {
             "fill": {
              "color": "#C8D4E3"
             },
             "line": {
              "color": "white"
             }
            },
            "type": "table"
           }
          ]
         },
         "layout": {
          "annotationdefaults": {
           "arrowcolor": "#2a3f5f",
           "arrowhead": 0,
           "arrowwidth": 1
          },
          "colorscale": {
           "diverging": [
            [
             0,
             "#8e0152"
            ],
            [
             0.1,
             "#c51b7d"
            ],
            [
             0.2,
             "#de77ae"
            ],
            [
             0.3,
             "#f1b6da"
            ],
            [
             0.4,
             "#fde0ef"
            ],
            [
             0.5,
             "#f7f7f7"
            ],
            [
             0.6,
             "#e6f5d0"
            ],
            [
             0.7,
             "#b8e186"
            ],
            [
             0.8,
             "#7fbc41"
            ],
            [
             0.9,
             "#4d9221"
            ],
            [
             1,
             "#276419"
            ]
           ],
           "sequential": [
            [
             0,
             "#0d0887"
            ],
            [
             0.1111111111111111,
             "#46039f"
            ],
            [
             0.2222222222222222,
             "#7201a8"
            ],
            [
             0.3333333333333333,
             "#9c179e"
            ],
            [
             0.4444444444444444,
             "#bd3786"
            ],
            [
             0.5555555555555556,
             "#d8576b"
            ],
            [
             0.6666666666666666,
             "#ed7953"
            ],
            [
             0.7777777777777778,
             "#fb9f3a"
            ],
            [
             0.8888888888888888,
             "#fdca26"
            ],
            [
             1,
             "#f0f921"
            ]
           ],
           "sequentialminus": [
            [
             0,
             "#0d0887"
            ],
            [
             0.1111111111111111,
             "#46039f"
            ],
            [
             0.2222222222222222,
             "#7201a8"
            ],
            [
             0.3333333333333333,
             "#9c179e"
            ],
            [
             0.4444444444444444,
             "#bd3786"
            ],
            [
             0.5555555555555556,
             "#d8576b"
            ],
            [
             0.6666666666666666,
             "#ed7953"
            ],
            [
             0.7777777777777778,
             "#fb9f3a"
            ],
            [
             0.8888888888888888,
             "#fdca26"
            ],
            [
             1,
             "#f0f921"
            ]
           ]
          },
          "colorway": [
           "#636efa",
           "#EF553B",
           "#00cc96",
           "#ab63fa",
           "#FFA15A",
           "#19d3f3",
           "#FF6692",
           "#B6E880",
           "#FF97FF",
           "#FECB52"
          ],
          "font": {
           "color": "#2a3f5f"
          },
          "geo": {
           "bgcolor": "white",
           "lakecolor": "white",
           "landcolor": "#E5ECF6",
           "showlakes": true,
           "showland": true,
           "subunitcolor": "white"
          },
          "hoverlabel": {
           "align": "left"
          },
          "hovermode": "closest",
          "mapbox": {
           "style": "light"
          },
          "paper_bgcolor": "white",
          "plot_bgcolor": "#E5ECF6",
          "polar": {
           "angularaxis": {
            "gridcolor": "white",
            "linecolor": "white",
            "ticks": ""
           },
           "bgcolor": "#E5ECF6",
           "radialaxis": {
            "gridcolor": "white",
            "linecolor": "white",
            "ticks": ""
           }
          },
          "scene": {
           "xaxis": {
            "backgroundcolor": "#E5ECF6",
            "gridcolor": "white",
            "gridwidth": 2,
            "linecolor": "white",
            "showbackground": true,
            "ticks": "",
            "zerolinecolor": "white"
           },
           "yaxis": {
            "backgroundcolor": "#E5ECF6",
            "gridcolor": "white",
            "gridwidth": 2,
            "linecolor": "white",
            "showbackground": true,
            "ticks": "",
            "zerolinecolor": "white"
           },
           "zaxis": {
            "backgroundcolor": "#E5ECF6",
            "gridcolor": "white",
            "gridwidth": 2,
            "linecolor": "white",
            "showbackground": true,
            "ticks": "",
            "zerolinecolor": "white"
           }
          },
          "shapedefaults": {
           "line": {
            "color": "#2a3f5f"
           }
          },
          "ternary": {
           "aaxis": {
            "gridcolor": "white",
            "linecolor": "white",
            "ticks": ""
           },
           "baxis": {
            "gridcolor": "white",
            "linecolor": "white",
            "ticks": ""
           },
           "bgcolor": "#E5ECF6",
           "caxis": {
            "gridcolor": "white",
            "linecolor": "white",
            "ticks": ""
           }
          },
          "title": {
           "x": 0.05
          },
          "xaxis": {
           "automargin": true,
           "gridcolor": "white",
           "linecolor": "white",
           "ticks": "",
           "zerolinecolor": "white",
           "zerolinewidth": 2
          },
          "yaxis": {
           "automargin": true,
           "gridcolor": "white",
           "linecolor": "white",
           "ticks": "",
           "zerolinecolor": "white",
           "zerolinewidth": 2
          }
         }
        },
        "xaxis": {
         "range": [
          38.63368327828813,
          255.79289908804088
         ],
         "title": {
          "text": "n_units_l0"
         }
        },
        "yaxis": {
         "range": [
          32.84689993028172,
          255.92409928867525
         ],
         "title": {
          "text": "n_units_l1"
         }
        }
       }
      },
      "text/html": [
       "<div>\n",
       "        \n",
       "        \n",
       "            <div id=\"7092c436-28f0-450b-8697-a7aecd83777b\" class=\"plotly-graph-div\" style=\"height:525px; width:100%;\"></div>\n",
       "            <script type=\"text/javascript\">\n",
       "                require([\"plotly\"], function(Plotly) {\n",
       "                    window.PLOTLYENV=window.PLOTLYENV || {};\n",
       "                    \n",
       "                if (document.getElementById(\"7092c436-28f0-450b-8697-a7aecd83777b\")) {\n",
       "                    Plotly.newPlot(\n",
       "                        '7092c436-28f0-450b-8697-a7aecd83777b',\n",
       "                        [{\"colorbar\": {\"title\": {\"text\": \"Objective Value\"}}, \"colorscale\": [[0.0, \"rgb(247,251,255)\"], [0.125, \"rgb(222,235,247)\"], [0.25, \"rgb(198,219,239)\"], [0.375, \"rgb(158,202,225)\"], [0.5, \"rgb(107,174,214)\"], [0.625, \"rgb(66,146,198)\"], [0.75, \"rgb(33,113,181)\"], [0.875, \"rgb(8,81,156)\"], [1.0, \"rgb(8,48,107)\"]], \"connectgaps\": true, \"contours\": {\"coloring\": \"heatmap\"}, \"hoverinfo\": \"none\", \"line\": {\"smoothing\": 1.3}, \"reversescale\": true, \"type\": \"contour\", \"x\": [38.63368327828813, 61.861809340355066, 64.4523529920253, 112.76004948638199, 128.93978187621568, 129.59602989013428, 140.91690956956657, 149.43206402434868, 150.86146384721712, 168.39748663593, 169.83123355686402, 170.7675268448263, 178.8631471298371, 181.02675672071888, 181.57794099141697, 182.82264052567263, 189.21936630739114, 189.78238213239194, 200.99073155697914, 208.1738433957372, 217.25426989833403, 226.83203036771795, 233.09953582609856, 234.0979216117891, 234.34864085779077, 235.36328925805907, 244.19351317529978, 244.38432972654155, 246.9653510692827, 249.61604322727672, 250.14969779831608, 255.4506017615034, 255.79289908804088], \"y\": [32.84689993028172, 36.72645284317059, 41.513119482496954, 45.61101540162852, 56.05442905833494, 64.63685970128728, 78.37951042007731, 82.2936336065144, 103.38247964137062, 119.13677690135066, 136.12168886913398, 173.1358858180036, 175.54936057823517, 184.92433447088666, 209.96405982832783, 219.0136873145725, 224.05263754662184, 226.47373116528212, 237.11717359904114, 243.45353023329773, 246.821232272477, 247.63064600646598, 248.17716911171402, 248.62468920052441, 248.98039327823994, 249.0519584491777, 251.6532427272772, 252.90728874411573, 255.06495663917065, 255.66947266620062, 255.66962619126951, 255.92409928867525], \"z\": [[null, null, null, null, null, 0.253996767103672, null, null, null, null, null, null, null, null, null, null, null, null, null, null, null, null, null, null, null, null, null, null, null, null, null, null, null], [null, null, null, null, null, null, null, null, null, null, 0.2553078122437, null, null, null, null, null, null, null, null, null, null, null, null, null, null, null, null, null, null, null, null, null, null], [null, null, null, null, null, null, null, null, null, null, null, null, null, null, null, null, null, null, null, null, null, null, null, null, null, null, null, null, 0.2330324575304985, null, null, null, null], [null, null, null, null, null, null, null, null, null, null, null, null, null, null, null, null, null, null, null, null, null, null, null, null, null, 0.2708234563469887, null, null, null, null, null, null, null], [0.26958279125392437, null, null, null, null, null, null, null, null, null, null, null, null, null, null, null, null, null, null, null, null, null, null, null, null, null, null, null, null, null, null, null, null], [null, null, null, null, null, null, null, null, null, 0.2656950391829014, null, null, null, null, null, null, null, null, null, null, null, null, null, null, null, null, null, null, null, null, null, null, null], [null, null, 0.2883530855178833, null, null, null, null, null, null, null, null, null, null, null, null, null, null, null, null, null, null, null, null, null, null, null, null, null, null, null, null, null, null], [null, null, null, null, null, null, null, null, null, null, null, 0.25102086178958416, null, null, null, null, null, null, null, null, null, null, null, null, null, null, null, null, null, null, null, null, null], [null, 0.2820313274860382, null, null, null, null, null, null, null, null, null, null, null, null, null, null, null, null, null, null, null, null, null, null, null, null, null, null, null, null, null, null, null], [null, null, null, 0.27214717492461205, null, null, null, null, null, null, null, null, null, null, null, null, null, null, null, null, null, null, null, null, null, null, null, null, null, null, null, null, null], [null, null, null, null, null, null, null, null, 0.24020745791494846, null, null, null, null, null, null, null, null, null, null, null, null, null, null, null, null, null, null, null, null, null, null, null, null], [null, null, null, null, null, null, null, null, null, null, null, null, null, 0.2672870345413685, null, null, null, null, null, null, null, null, null, null, null, null, null, null, null, null, null, null, null], [null, null, null, null, null, null, null, null, null, null, null, null, null, null, null, 0.24240343272686005, null, null, null, null, null, null, null, null, null, null, null, null, null, null, null, null, null], [null, null, null, null, null, null, null, null, null, null, null, null, null, null, null, null, null, null, null, null, null, null, 0.2578176222741604, null, null, null, null, null, null, null, null, null, null], [null, null, null, null, null, null, null, null, null, null, null, null, null, null, null, null, null, null, null, null, null, null, null, null, null, null, null, null, null, null, 0.2263924852013588, null, null], [null, null, null, null, null, null, null, null, null, null, null, null, null, null, null, null, null, null, null, null, null, null, null, null, null, null, null, null, null, null, null, 0.2556901406496763, null], [null, null, null, null, null, null, null, null, null, null, null, null, null, null, null, null, null, null, null, null, null, null, null, null, 0.2643739078193903, null, null, null, null, null, null, null, null], [null, null, null, null, null, null, null, null, null, null, null, null, null, null, null, null, null, null, 0.2409790586680174, null, null, null, null, null, null, null, null, null, null, null, null, null, null], [null, null, null, null, null, null, null, null, null, null, null, null, 0.2530394420027733, null, null, null, null, null, null, null, null, null, null, null, null, null, null, null, null, null, null, null, null], [null, null, null, null, null, null, null, null, null, null, null, null, null, null, null, null, 0.22953632660210133, null, null, null, null, null, null, null, null, null, null, null, null, null, null, null, null], [null, null, null, null, null, null, 0.25246404111385345, null, null, null, null, null, null, null, null, null, null, null, null, null, null, null, null, null, null, null, null, null, null, null, null, null, null], [null, null, null, null, null, null, null, null, null, null, null, null, null, null, null, null, null, null, null, null, null, null, null, null, null, null, null, 0.23592069745063782, null, null, null, null, null], [null, null, null, null, null, null, null, null, null, null, null, null, null, null, null, null, null, null, null, null, null, null, null, null, null, null, 0.2371191754937172, null, null, null, null, null, null], [null, null, null, null, null, null, null, 0.24880902469158173, null, null, null, null, null, null, null, null, null, null, null, null, null, null, null, null, null, null, null, null, null, null, null, null, null], [null, null, null, null, null, null, null, null, null, null, null, null, null, null, 0.23689827509224415, null, null, null, null, null, null, null, null, null, null, null, null, null, null, null, null, null, null], [null, null, null, null, null, null, null, null, null, null, null, null, null, null, null, null, null, null, null, null, null, null, null, null, null, null, null, null, null, 0.23060715943574905, null, null, null], [null, null, null, null, 0.26490793004631996, null, null, null, null, null, null, null, null, null, null, null, null, null, null, null, null, null, null, null, null, null, null, null, null, null, null, null, null], [null, null, null, null, null, null, null, null, null, null, null, null, null, null, null, null, null, null, null, null, null, null, null, null, null, null, null, null, null, null, null, null, 0.23060716595500708], [null, null, null, null, null, null, null, null, null, null, null, null, null, null, null, null, null, null, null, null, null, 0.23027783632278442, null, null, null, null, null, null, null, null, null, null, null], [null, null, null, null, null, null, null, null, null, null, null, null, null, null, null, null, null, 0.2390523049980402, null, null, null, null, null, null, null, null, null, null, null, null, null, null, null], [null, null, null, null, null, null, null, null, null, null, null, null, null, null, null, null, null, null, null, null, 0.24516725353896618, null, null, null, null, null, null, null, null, null, null, null, null], [null, null, null, null, null, null, null, null, null, null, null, null, null, null, null, null, null, null, null, null, null, null, null, 0.22774771973490715, null, null, null, null, null, null, null, null, null]]}, {\"marker\": {\"color\": \"black\"}, \"mode\": \"markers\", \"showlegend\": false, \"type\": \"scatter\", \"x\": [61.861809340355066, 64.4523529920253, 168.39748663593, 38.63368327828813, 140.91690956956657, 170.7675268448263, 128.93978187621568, 129.59602989013428, 246.9653510692827, 235.36328925805907, 150.86146384721712, 112.76004948638199, 169.83123355686402, 182.82264052567263, 181.02675672071888, 234.34864085779077, 149.43206402434868, 181.57794099141697, 178.8631471298371, 249.61604322727672, 244.19351317529978, 255.79289908804088, 250.14969779831608, 244.38432972654155, 255.4506017615034, 234.0979216117891, 226.83203036771795, 233.09953582609856, 189.78238213239194, 217.25426989833403, 200.99073155697914, 189.21936630739114], \"y\": [103.38247964137062, 78.37951042007731, 64.63685970128728, 56.05442905833494, 246.821232272477, 82.2936336065144, 251.6532427272772, 32.84689993028172, 41.513119482496954, 45.61101540162852, 136.12168886913398, 119.13677690135066, 36.72645284317059, 175.54936057823517, 173.1358858180036, 224.05263754662184, 248.62468920052441, 248.98039327823994, 237.11717359904114, 249.0519584491777, 248.17716911171402, 252.90728874411573, 209.96405982832783, 247.63064600646598, 219.0136873145725, 255.92409928867525, 255.06495663917065, 184.92433447088666, 255.66947266620062, 255.66962619126951, 226.47373116528212, 243.45353023329773]}],\n",
       "                        {\"template\": {\"data\": {\"bar\": [{\"error_x\": {\"color\": \"#2a3f5f\"}, \"error_y\": {\"color\": \"#2a3f5f\"}, \"marker\": {\"line\": {\"color\": \"#E5ECF6\", \"width\": 0.5}}, \"type\": \"bar\"}], \"barpolar\": [{\"marker\": {\"line\": {\"color\": \"#E5ECF6\", \"width\": 0.5}}, \"type\": \"barpolar\"}], \"carpet\": [{\"aaxis\": {\"endlinecolor\": \"#2a3f5f\", \"gridcolor\": \"white\", \"linecolor\": \"white\", \"minorgridcolor\": \"white\", \"startlinecolor\": \"#2a3f5f\"}, \"baxis\": {\"endlinecolor\": \"#2a3f5f\", \"gridcolor\": \"white\", \"linecolor\": \"white\", \"minorgridcolor\": \"white\", \"startlinecolor\": \"#2a3f5f\"}, \"type\": \"carpet\"}], \"choropleth\": [{\"colorbar\": {\"outlinewidth\": 0, \"ticks\": \"\"}, \"type\": \"choropleth\"}], \"contour\": [{\"colorbar\": {\"outlinewidth\": 0, \"ticks\": \"\"}, \"colorscale\": [[0.0, \"#0d0887\"], [0.1111111111111111, \"#46039f\"], [0.2222222222222222, \"#7201a8\"], [0.3333333333333333, \"#9c179e\"], [0.4444444444444444, \"#bd3786\"], [0.5555555555555556, \"#d8576b\"], [0.6666666666666666, \"#ed7953\"], [0.7777777777777778, \"#fb9f3a\"], [0.8888888888888888, \"#fdca26\"], [1.0, \"#f0f921\"]], \"type\": \"contour\"}], \"contourcarpet\": [{\"colorbar\": {\"outlinewidth\": 0, \"ticks\": \"\"}, \"type\": \"contourcarpet\"}], \"heatmap\": [{\"colorbar\": {\"outlinewidth\": 0, \"ticks\": \"\"}, \"colorscale\": [[0.0, \"#0d0887\"], [0.1111111111111111, \"#46039f\"], [0.2222222222222222, \"#7201a8\"], [0.3333333333333333, \"#9c179e\"], [0.4444444444444444, \"#bd3786\"], [0.5555555555555556, \"#d8576b\"], [0.6666666666666666, \"#ed7953\"], [0.7777777777777778, \"#fb9f3a\"], [0.8888888888888888, \"#fdca26\"], [1.0, \"#f0f921\"]], \"type\": \"heatmap\"}], \"heatmapgl\": [{\"colorbar\": {\"outlinewidth\": 0, \"ticks\": \"\"}, \"colorscale\": [[0.0, \"#0d0887\"], [0.1111111111111111, \"#46039f\"], [0.2222222222222222, \"#7201a8\"], [0.3333333333333333, \"#9c179e\"], [0.4444444444444444, \"#bd3786\"], [0.5555555555555556, \"#d8576b\"], [0.6666666666666666, \"#ed7953\"], [0.7777777777777778, \"#fb9f3a\"], [0.8888888888888888, \"#fdca26\"], [1.0, \"#f0f921\"]], \"type\": \"heatmapgl\"}], \"histogram\": [{\"marker\": {\"colorbar\": {\"outlinewidth\": 0, \"ticks\": \"\"}}, \"type\": \"histogram\"}], \"histogram2d\": [{\"colorbar\": {\"outlinewidth\": 0, \"ticks\": \"\"}, \"colorscale\": [[0.0, \"#0d0887\"], [0.1111111111111111, \"#46039f\"], [0.2222222222222222, \"#7201a8\"], [0.3333333333333333, \"#9c179e\"], [0.4444444444444444, \"#bd3786\"], [0.5555555555555556, \"#d8576b\"], [0.6666666666666666, \"#ed7953\"], [0.7777777777777778, \"#fb9f3a\"], [0.8888888888888888, \"#fdca26\"], [1.0, \"#f0f921\"]], \"type\": \"histogram2d\"}], \"histogram2dcontour\": [{\"colorbar\": {\"outlinewidth\": 0, \"ticks\": \"\"}, \"colorscale\": [[0.0, \"#0d0887\"], [0.1111111111111111, \"#46039f\"], [0.2222222222222222, \"#7201a8\"], [0.3333333333333333, \"#9c179e\"], [0.4444444444444444, \"#bd3786\"], [0.5555555555555556, \"#d8576b\"], [0.6666666666666666, \"#ed7953\"], [0.7777777777777778, \"#fb9f3a\"], [0.8888888888888888, \"#fdca26\"], [1.0, \"#f0f921\"]], \"type\": \"histogram2dcontour\"}], \"mesh3d\": [{\"colorbar\": {\"outlinewidth\": 0, \"ticks\": \"\"}, \"type\": \"mesh3d\"}], \"parcoords\": [{\"line\": {\"colorbar\": {\"outlinewidth\": 0, \"ticks\": \"\"}}, \"type\": \"parcoords\"}], \"scatter\": [{\"marker\": {\"colorbar\": {\"outlinewidth\": 0, \"ticks\": \"\"}}, \"type\": \"scatter\"}], \"scatter3d\": [{\"line\": {\"colorbar\": {\"outlinewidth\": 0, \"ticks\": \"\"}}, \"marker\": {\"colorbar\": {\"outlinewidth\": 0, \"ticks\": \"\"}}, \"type\": \"scatter3d\"}], \"scattercarpet\": [{\"marker\": {\"colorbar\": {\"outlinewidth\": 0, \"ticks\": \"\"}}, \"type\": \"scattercarpet\"}], \"scattergeo\": [{\"marker\": {\"colorbar\": {\"outlinewidth\": 0, \"ticks\": \"\"}}, \"type\": \"scattergeo\"}], \"scattergl\": [{\"marker\": {\"colorbar\": {\"outlinewidth\": 0, \"ticks\": \"\"}}, \"type\": \"scattergl\"}], \"scattermapbox\": [{\"marker\": {\"colorbar\": {\"outlinewidth\": 0, \"ticks\": \"\"}}, \"type\": \"scattermapbox\"}], \"scatterpolar\": [{\"marker\": {\"colorbar\": {\"outlinewidth\": 0, \"ticks\": \"\"}}, \"type\": \"scatterpolar\"}], \"scatterpolargl\": [{\"marker\": {\"colorbar\": {\"outlinewidth\": 0, \"ticks\": \"\"}}, \"type\": \"scatterpolargl\"}], \"scatterternary\": [{\"marker\": {\"colorbar\": {\"outlinewidth\": 0, \"ticks\": \"\"}}, \"type\": \"scatterternary\"}], \"surface\": [{\"colorbar\": {\"outlinewidth\": 0, \"ticks\": \"\"}, \"colorscale\": [[0.0, \"#0d0887\"], [0.1111111111111111, \"#46039f\"], [0.2222222222222222, \"#7201a8\"], [0.3333333333333333, \"#9c179e\"], [0.4444444444444444, \"#bd3786\"], [0.5555555555555556, \"#d8576b\"], [0.6666666666666666, \"#ed7953\"], [0.7777777777777778, \"#fb9f3a\"], [0.8888888888888888, \"#fdca26\"], [1.0, \"#f0f921\"]], \"type\": \"surface\"}], \"table\": [{\"cells\": {\"fill\": {\"color\": \"#EBF0F8\"}, \"line\": {\"color\": \"white\"}}, \"header\": {\"fill\": {\"color\": \"#C8D4E3\"}, \"line\": {\"color\": \"white\"}}, \"type\": \"table\"}]}, \"layout\": {\"annotationdefaults\": {\"arrowcolor\": \"#2a3f5f\", \"arrowhead\": 0, \"arrowwidth\": 1}, \"colorscale\": {\"diverging\": [[0, \"#8e0152\"], [0.1, \"#c51b7d\"], [0.2, \"#de77ae\"], [0.3, \"#f1b6da\"], [0.4, \"#fde0ef\"], [0.5, \"#f7f7f7\"], [0.6, \"#e6f5d0\"], [0.7, \"#b8e186\"], [0.8, \"#7fbc41\"], [0.9, \"#4d9221\"], [1, \"#276419\"]], \"sequential\": [[0.0, \"#0d0887\"], [0.1111111111111111, \"#46039f\"], [0.2222222222222222, \"#7201a8\"], [0.3333333333333333, \"#9c179e\"], [0.4444444444444444, \"#bd3786\"], [0.5555555555555556, \"#d8576b\"], [0.6666666666666666, \"#ed7953\"], [0.7777777777777778, \"#fb9f3a\"], [0.8888888888888888, \"#fdca26\"], [1.0, \"#f0f921\"]], \"sequentialminus\": [[0.0, \"#0d0887\"], [0.1111111111111111, \"#46039f\"], [0.2222222222222222, \"#7201a8\"], [0.3333333333333333, \"#9c179e\"], [0.4444444444444444, \"#bd3786\"], [0.5555555555555556, \"#d8576b\"], [0.6666666666666666, \"#ed7953\"], [0.7777777777777778, \"#fb9f3a\"], [0.8888888888888888, \"#fdca26\"], [1.0, \"#f0f921\"]]}, \"colorway\": [\"#636efa\", \"#EF553B\", \"#00cc96\", \"#ab63fa\", \"#FFA15A\", \"#19d3f3\", \"#FF6692\", \"#B6E880\", \"#FF97FF\", \"#FECB52\"], \"font\": {\"color\": \"#2a3f5f\"}, \"geo\": {\"bgcolor\": \"white\", \"lakecolor\": \"white\", \"landcolor\": \"#E5ECF6\", \"showlakes\": true, \"showland\": true, \"subunitcolor\": \"white\"}, \"hoverlabel\": {\"align\": \"left\"}, \"hovermode\": \"closest\", \"mapbox\": {\"style\": \"light\"}, \"paper_bgcolor\": \"white\", \"plot_bgcolor\": \"#E5ECF6\", \"polar\": {\"angularaxis\": {\"gridcolor\": \"white\", \"linecolor\": \"white\", \"ticks\": \"\"}, \"bgcolor\": \"#E5ECF6\", \"radialaxis\": {\"gridcolor\": \"white\", \"linecolor\": \"white\", \"ticks\": \"\"}}, \"scene\": {\"xaxis\": {\"backgroundcolor\": \"#E5ECF6\", \"gridcolor\": \"white\", \"gridwidth\": 2, \"linecolor\": \"white\", \"showbackground\": true, \"ticks\": \"\", \"zerolinecolor\": \"white\"}, \"yaxis\": {\"backgroundcolor\": \"#E5ECF6\", \"gridcolor\": \"white\", \"gridwidth\": 2, \"linecolor\": \"white\", \"showbackground\": true, \"ticks\": \"\", \"zerolinecolor\": \"white\"}, \"zaxis\": {\"backgroundcolor\": \"#E5ECF6\", \"gridcolor\": \"white\", \"gridwidth\": 2, \"linecolor\": \"white\", \"showbackground\": true, \"ticks\": \"\", \"zerolinecolor\": \"white\"}}, \"shapedefaults\": {\"line\": {\"color\": \"#2a3f5f\"}}, \"ternary\": {\"aaxis\": {\"gridcolor\": \"white\", \"linecolor\": \"white\", \"ticks\": \"\"}, \"baxis\": {\"gridcolor\": \"white\", \"linecolor\": \"white\", \"ticks\": \"\"}, \"bgcolor\": \"#E5ECF6\", \"caxis\": {\"gridcolor\": \"white\", \"linecolor\": \"white\", \"ticks\": \"\"}}, \"title\": {\"x\": 0.05}, \"xaxis\": {\"automargin\": true, \"gridcolor\": \"white\", \"linecolor\": \"white\", \"ticks\": \"\", \"zerolinecolor\": \"white\", \"zerolinewidth\": 2}, \"yaxis\": {\"automargin\": true, \"gridcolor\": \"white\", \"linecolor\": \"white\", \"ticks\": \"\", \"zerolinecolor\": \"white\", \"zerolinewidth\": 2}}}, \"xaxis\": {\"range\": [38.63368327828813, 255.79289908804088], \"title\": {\"text\": \"n_units_l0\"}}, \"yaxis\": {\"range\": [32.84689993028172, 255.92409928867525], \"title\": {\"text\": \"n_units_l1\"}}},\n",
       "                        {\"responsive\": true}\n",
       "                    ).then(function(){\n",
       "                            \n",
       "var gd = document.getElementById('7092c436-28f0-450b-8697-a7aecd83777b');\n",
       "var x = new MutationObserver(function (mutations, observer) {{\n",
       "        var display = window.getComputedStyle(gd).display;\n",
       "        if (!display || display === 'none') {{\n",
       "            console.log([gd, 'removed!']);\n",
       "            Plotly.purge(gd);\n",
       "            observer.disconnect();\n",
       "        }}\n",
       "}});\n",
       "\n",
       "// Listen for the removal of the full notebook cells\n",
       "var notebookContainer = gd.closest('#notebook-container');\n",
       "if (notebookContainer) {{\n",
       "    x.observe(notebookContainer, {childList: true});\n",
       "}}\n",
       "\n",
       "// Listen for the clearing of the current output cell\n",
       "var outputEl = gd.closest('.output');\n",
       "if (outputEl) {{\n",
       "    x.observe(outputEl, {childList: true});\n",
       "}}\n",
       "\n",
       "                        })\n",
       "                };\n",
       "                });\n",
       "            </script>\n",
       "        </div>"
      ]
     },
     "metadata": {},
     "output_type": "display_data"
    }
   ],
   "source": [
    "plot_contour(study, params=[\"n_units_l0\", \"n_units_l1\"])"
   ]
  }
 ],
 "metadata": {
  "kernelspec": {
   "display_name": "Python 3",
   "language": "python",
   "name": "python3"
  },
  "language_info": {
   "codemirror_mode": {
    "name": "ipython",
    "version": 3
   },
   "file_extension": ".py",
   "mimetype": "text/x-python",
   "name": "python",
   "nbconvert_exporter": "python",
   "pygments_lexer": "ipython3",
   "version": "3.7.4"
  }
 },
 "nbformat": 4,
 "nbformat_minor": 2
}
